{
  "cells": [
    {
      "cell_type": "markdown",
      "metadata": {
        "id": "view-in-github",
        "colab_type": "text"
      },
      "source": [
        "<a href=\"https://colab.research.google.com/github/ajurberg/article-parser/blob/main/07_doc2vec_gensim_gdf11_v2.ipynb\" target=\"_parent\"><img src=\"https://colab.research.google.com/assets/colab-badge.svg\" alt=\"Open In Colab\"/></a>"
      ]
    },
    {
      "cell_type": "code",
      "execution_count": null,
      "metadata": {
        "id": "6gDCcelfMqTz"
      },
      "outputs": [],
      "source": [
        "############################# \n",
        "#@title Installation of libraries \n",
        "#############################\n",
        "import os\n",
        "from time import time\n",
        "import re, string, unicodedata\n",
        "from string import punctuation\n",
        "from tqdm import tqdm\n",
        "import pandas as pd\n",
        "import numpy as np\n",
        "import logging\n",
        "logging.basicConfig(format='%(asctime)s : %(levelname)s : %(message)s', level=logging.INFO)"
      ]
    },
    {
      "cell_type": "code",
      "execution_count": null,
      "metadata": {
        "colab": {
          "base_uri": "https://localhost:8080/"
        },
        "id": "q-7T2rGbMZx-",
        "outputId": "dd1bdf83-04a4-4f23-e9a6-aa3f41aed819"
      },
      "outputs": [
        {
          "output_type": "stream",
          "name": "stdout",
          "text": [
            "Mounted at /content/drive\n"
          ]
        }
      ],
      "source": [
        "############################# \n",
        "#@title Mounting Google Drive\n",
        "#############################\n",
        "from google.colab import drive\n",
        "drive._mount('/content/drive')\n",
        "\n",
        "workdir_path = '/content/drive/My Drive/papers'\n",
        "os.chdir(workdir_path)"
      ]
    },
    {
      "cell_type": "code",
      "execution_count": null,
      "metadata": {
        "id": "o0SqGqCxNV4v"
      },
      "outputs": [],
      "source": [
        "############################# \n",
        "#@title Read json file to dictionary\n",
        "#############################\n",
        "import json\n",
        "\n",
        "with open(\"gdf11-dictionary-word-tokens.json\") as json_file:\n",
        "  gdf11_dict = json.load(json_file)\n",
        "\n",
        "#@markdown Files to evaluate\n",
        "#@markdown - `gdf11-dictionary.json` (no preprocessing)\n",
        "#@markdown - `gdf11-dictionary-sent-tokens.json` (tokenized sentences)\n",
        "#@markdown - `gdf11-dictionary-sent-tokens-stop.json` (tokenized sentences with removal of stopwords)\n",
        "#@markdown - `gdf11-dictionary-word-tokens.json` (tokenized words)\n",
        "#@markdown - `gdf11-dictionary-word-tokens-stop.json` (tokenized words with removal of stopwords)"
      ]
    },
    {
      "cell_type": "code",
      "execution_count": null,
      "metadata": {
        "colab": {
          "base_uri": "https://localhost:8080/"
        },
        "id": "tKh1tj6hFvCJ",
        "outputId": "f26f7a46-9e61-41e2-89c3-881dd4123940"
      },
      "outputs": [
        {
          "output_type": "stream",
          "name": "stdout",
          "text": [
            "[nltk_data] Downloading package punkt to /root/nltk_data...\n",
            "[nltk_data]   Unzipping tokenizers/punkt.zip.\n"
          ]
        },
        {
          "output_type": "stream",
          "name": "stderr",
          "text": [
            "2022-01-15 02:11:13,484 : INFO : 'pattern' package not found; tag filters are not available for English\n"
          ]
        }
      ],
      "source": [
        "############################# \n",
        "#@title Doc2Vec Gensim\n",
        "#############################\n",
        "#@markdown https://medium.com/@mishra.thedeepak/doc2vec-simple-implementation-example-df2afbbfbad5\n",
        "import nltk\n",
        "nltk.download('punkt')\n",
        "from nltk.tokenize import word_tokenize\n",
        "from gensim.models.doc2vec import Doc2Vec, TaggedDocument"
      ]
    },
    {
      "cell_type": "code",
      "execution_count": null,
      "metadata": {
        "id": "8c7eXUAO9ft8"
      },
      "outputs": [],
      "source": [
        "############################# \n",
        "#@title Preparation of training data\n",
        "#############################\n",
        "#@markdown For non-tokenized dictionaries - that is `gdf11-dictionary.json`\n",
        "\n",
        "# tagged_data = []\n",
        "# for key, text in tqdm(gdf11_dict.items()):\n",
        "#   t = TaggedDocument(words=word_tokenize(text), tags=[str(key)])\n",
        "#   tagged_data.append(t)"
      ]
    },
    {
      "cell_type": "code",
      "execution_count": null,
      "metadata": {
        "colab": {
          "base_uri": "https://localhost:8080/"
        },
        "id": "YulBK7aq4t6Q",
        "outputId": "135c7ac2-dcd3-47e1-f18c-3d036be89cbe"
      },
      "outputs": [
        {
          "output_type": "stream",
          "name": "stderr",
          "text": [
            "100%|██████████| 334/334 [00:00<00:00, 236558.18it/s]\n"
          ]
        }
      ],
      "source": [
        "#@markdown For tokenized dictionaries\n",
        "tagged_data = []\n",
        "for key, text in tqdm(gdf11_dict.items()):\n",
        "  t = TaggedDocument(words=text, tags=[str(key)])\n",
        "  tagged_data.append(t)"
      ]
    },
    {
      "cell_type": "code",
      "execution_count": null,
      "metadata": {
        "id": "6Cca6EzE4RDH"
      },
      "outputs": [],
      "source": [
        "############################# \n",
        "#@title (*If model is already trained, skip to next step*) Model training\n",
        "#############################\n",
        "import gensim\n",
        "\n",
        "MAX_EPOCHS = 100 #@param {type:\"integer\"}\n",
        "VEC_SIZE = 20 #@param {type:\"integer\"}\n",
        "ALPHA = 0.025 #@param {type:\"number\"}\n",
        "DM = 1 #@param [0, 1]\n",
        "#@markdown * `0` = 'distributed bag of words' (PV-DBOW): does not preserve the word order in the document\n",
        "#@markdown * `1` = 'distributed memory' (PV-DM): preserves the word order in the document\n",
        "\n",
        "model = gensim.models.doc2vec.Doc2Vec(vector_size=VEC_SIZE, # Doc2Vec\n",
        "                                      alpha=ALPHA,\n",
        "                                      min_alpha=0.00025,\n",
        "                                      min_count=1,\n",
        "                                      dm=DM)\n",
        "\n",
        "# Build a vocabulary  \n",
        "model.build_vocab(tagged_data)\n",
        "\n",
        "# Actual training - it takes about 25-30 minutes to run\n",
        "for epoch in tqdm(range(MAX_EPOCHS)):\n",
        "  model.train(tagged_data,\n",
        "              total_examples=model.corpus_count,\n",
        "              epochs=model.epochs)\n",
        "  # Decrease the learning rate\n",
        "  model.alpha -= 0.0002\n",
        "  # Fix the learning rate, no decay\n",
        "  model.min_alpha = model.alpha\n",
        "\n",
        "model.save(\"d2v.model\")\n",
        "print(\"Model Saved\")"
      ]
    },
    {
      "cell_type": "code",
      "execution_count": null,
      "metadata": {
        "colab": {
          "base_uri": "https://localhost:8080/"
        },
        "id": "dtM7jgkSkcP-",
        "outputId": "ea059c94-cd7b-4a60-a03e-4a8e992ceb47"
      },
      "outputs": [
        {
          "output_type": "stream",
          "name": "stderr",
          "text": [
            "2022-01-15 02:44:32,890 : INFO : loading Doc2Vec object from d2v.model\n",
            "2022-01-15 02:44:33,367 : INFO : loading vocabulary recursively from d2v.model.vocabulary.* with mmap=None\n",
            "2022-01-15 02:44:33,368 : INFO : loading trainables recursively from d2v.model.trainables.* with mmap=None\n",
            "2022-01-15 02:44:33,371 : INFO : loading wv recursively from d2v.model.wv.* with mmap=None\n",
            "2022-01-15 02:44:33,374 : INFO : loading docvecs recursively from d2v.model.docvecs.* with mmap=None\n",
            "2022-01-15 02:44:33,376 : INFO : loaded d2v.model\n"
          ]
        }
      ],
      "source": [
        "############################# \n",
        "#@title (Alternative) Load the model\n",
        "#############################\n",
        "import gensim\n",
        "from gensim.models.doc2vec import Doc2Vec\n",
        "\n",
        "model = Doc2Vec.load(\"d2v.model\")"
      ]
    },
    {
      "cell_type": "code",
      "execution_count": null,
      "metadata": {
        "colab": {
          "base_uri": "https://localhost:8080/"
        },
        "id": "VIiydUeymmGd",
        "outputId": "ff0dae06-017a-43ae-daad-7a9e22440eea"
      },
      "outputs": [
        {
          "output_type": "stream",
          "name": "stderr",
          "text": [
            "2022-01-15 02:47:46,534 : INFO : precomputing L2-norms of doc weight vectors\n"
          ]
        },
        {
          "output_type": "stream",
          "name": "stdout",
          "text": [
            "[('j.pharmthera.2017.02.032', 0.46597936749458313), ('j.oftal.2014.05.012', 0.4462655782699585), ('science.344.6184.570', 0.44061872363090515), ('j.pep.2008.09.014', 0.4315495491027832), ('science.1251141', 0.41867461800575256), ('cpr.12631', 0.4175918400287628), ('phy2.12663', 0.4146520495414734), ('MCB.24.12.5106-5118.2004', 0.4131613075733185), ('s12033-019-00154-w', 0.41275060176849365), ('etm.2018.5861', 0.4123450517654419)]\n"
          ]
        }
      ],
      "source": [
        "#@markdown Identify papers with higher similarity to a given `test_sentence`\n",
        "test_sentence = \"Loss of myostatin increases muscle mass.\" #@param {type: 'string'}\n",
        "test_data = word_tokenize(test_sentence.lower()) # word tokenization before inference\n",
        "vector = model.infer_vector(test_data)\n",
        "sims = model.docvecs.most_similar([vector])\n",
        "print(sims)\n",
        "#print(f\"Vector: {vector}\")\n",
        "# Because the underlying training/inference algorithms are an iterative approximation problem that makes use of internal randomization, repeated inferences of the same text may return slightly different vectors."
      ]
    },
    {
      "cell_type": "code",
      "execution_count": null,
      "metadata": {
        "colab": {
          "base_uri": "https://localhost:8080/"
        },
        "id": "gonvZJO5mxjv",
        "outputId": "96ebac6f-2f7a-4763-9664-ccf407bfdd26"
      },
      "outputs": [
        {
          "output_type": "stream",
          "name": "stdout",
          "text": [
            "[('j.pharmthera.2017.02.032', 0.8469412922859192), ('S0960-9822(00)80013-5', 0.7190202474594116), ('gad.1021802', 0.6707805395126343), ('mrd.21252', 0.6480540037155151), ('pnas.1916034117', 0.642542839050293), ('science.344.6184.570', 0.64143306016922), ('j.bbrc.2012.09.098', 0.6308866739273071), ('j.surg.2018.03.008', 0.621944010257721), ('j.bbrc.2011.11.019', 0.6211661696434021), ('jcp.28904', 0.6205242872238159), ('s-0031-1273691', 0.6169726252555847), ('j.cbpb.2014.07.006', 0.6164159774780273), ('ncomms12794', 0.6136460304260254), ('jomp.2015.40.3.110', 0.6128988265991211), ('1756-0500-7-766', 0.6074994802474976), ('j.cytogfr.2016.06.003', 0.6071280837059021), ('fonc.2019.01039', 0.6061106324195862), ('s12276-020-00516-4', 0.6024479269981384), ('j.1742-4658.2010.07909.x', 0.601850152015686), ('ijdb.072276mm', 0.6015409231185913), ('10320', 0.6009638905525208), ('s11357-019-00054-6', 0.5989878177642822), ('s00441-002-0668-y', 0.5983281135559082), ('s41436-021-01216-8', 0.5961935520172119), ('clo.2009.0024', 0.5960800647735596), ('s00427-010-0334-4', 0.5949752330780029), ('s00223-016-0173-z', 0.5931105017662048), ('j.ydbio.2011.01.005', 0.5927445888519287), ('nyas.13994', 0.5890229344367981), ('gad.479408', 0.5874849557876587), ('s00018-019-03311-1', 0.5864636898040771), ('dvdy.20953', 0.5811375379562378), ('pnas.1309907110', 0.5810707807540894), ('j.ydbio.2010.08.022', 0.5796633958816528), ('science.1251152', 0.5777884125709534), ('dev.01535', 0.5737918019294739), ('517426a', 0.5735938549041748), ('s00427-007-0162-3', 0.5727401971817017), ('j.devcel.2018.12.004', 0.5709087252616882), ('dev.02478', 0.5707825422286987), ('s13258-019-00891-x', 0.5682532787322998), ('dvg.23296', 0.5679324269294739), ('dbio.1998.9191', 0.5678039789199829), ('dev.034967', 0.5677129626274109), ('dbio.2000.9981', 0.5664677023887634), ('jcmm.15754', 0.566362202167511), ('cpr.12631', 0.5662540197372437), ('dmm.002998', 0.565269947052002), ('s00438-016-1220-1', 0.5644237399101257), ('science.345.6202.1234', 0.5631790161132812), ('j.bbrc.2007.11.087', 0.5619416236877441), ('j.devcel.2016.06.021', 0.5613150596618652), ('j.bbadis.2018.09.015', 0.5605883002281189), ('art.41230', 0.5591455698013306), ('scientificamerican0715-28', 0.5584234595298767), ('nm.3918', 0.5582722425460815), ('j.ydbio.2013.08.025', 0.5574591159820557), ('j.devcel.2013.05.009', 0.5562760233879089), ('08977194.2011.608666', 0.5557069778442383), ('srep34624', 0.553866982460022), ('s11010-013-1949-3', 0.5538620948791504), ('ijms19123998', 0.5532366633415222), ('j.ydbio.2008.02.034', 0.5521332025527954), ('jamaneurol.2015.1616', 0.5512070655822754), ('rej.2013.1462', 0.5493854284286499), ('j.oftal.2014.05.012', 0.5485541820526123), ('science.1251141', 0.5484050512313843), ('sj.embor.7400752', 0.5482855439186096), ('phy2.12663', 0.5477296710014343), ('j.gene.2014.12.039', 0.5473862886428833), ('j.tig.2017.11.007', 0.5473172664642334), ('j.biocel.2008.01.030', 0.5468961000442505), ('fimmu.2015.00442', 0.5462312698364258), ('med-2017-0053', 0.54579097032547), ('bdrc.20060', 0.5426309108734131), ('odi.13932', 0.5425642132759094), ('jpet.116.232322', 0.5417772531509399), ('en.2011-0159', 0.5410916805267334), ('sj.gt.3301692', 0.5399636626243591), ('j.bbadis.2019.03.003', 0.5397862195968628), ('s12248-016-0024-x', 0.5378690361976624), ('j.cbpc.2005.03.004', 0.5374068021774292), ('pnas.0709428105', 0.537296712398529), ('jor.24713', 0.5346989035606384), ('j.cell.2013.04.038', 0.534095823764801), ('j.ympev.2021.107117', 0.5333421230316162), ('dbio.2000.9926', 0.5319699048995972), ('MCB.24.12.5106-5118.2004', 0.5318129062652588), ('s41559-017-0247-y', 0.531489908695221), ('s00395-017-0642-1', 0.5312607288360596), ('j.conb.2006.01.001', 0.5305574536323547), ('s41598-019-54766-y', 0.5302315354347229), ('nm0303-264', 0.52988201379776), ('ijdb.170066sg', 0.5296885967254639), ('0300060516658984', 0.5269497632980347), ('hum.2004.15.1045', 0.5266759991645813), ('j.mod.2010.08.004', 0.5265250205993652), ('JPER.19-0247', 0.5264447927474976), ('endocrj.kr-110', 0.5261781811714172), ('s12033-019-00154-w', 0.5257798433303833), ('MCB.25.14.5846-5858.2005', 0.5244283080101013), ('cbf.3615', 0.5241272449493408), ('JAD-170474', 0.5236921310424805), ('j.acvd.2015.08.001', 0.5220783352851868), ('j.cub.2019.05.011', 0.5211516618728638), ('gad.1041203', 0.5206786394119263), ('dvg.20238', 0.5194995403289795), ('j.ydbio.2010.07.034', 0.5184268355369568), ('j.bbrep.2016.03.001', 0.5179910659790039), ('j.gene.2007.08.008', 0.5179537534713745), ('23262133.2015.1004971', 0.5174228549003601), ('fj.201800195R', 0.517279863357544), ('1440-1681.12651', 0.5160810947418213), ('etm.2018.5861', 0.515740156173706), ('humu.23793', 0.5148909091949463), ('science.348.6237.849', 0.5130323171615601), ('cr.2014.107', 0.5129719972610474), ('j.mad.2017.04.009', 0.5126385688781738), ('fpsyt.2020.555133', 0.5126024484634399), ('rej.2014.1643', 0.5122838020324707), ('j.brainresbull.2019.08.004', 0.5116549730300903), ('dev.065870', 0.5107600688934326), ('boneres.2016.12', 0.5103951096534729), ('s11357-020-00279-w', 0.5102929472923279), ('jbc.M803025200', 0.5096421241760254), ('j.gde.2004.07.009', 0.5090932846069336), ('science.1110175', 0.5074864625930786), ('j.ajo.2007.01.042', 0.5074030756950378), ('000492573', 0.5070270299911499), ('ars.2016.6942', 0.505188524723053), ('j.ymthe.2018.01.016', 0.5051273107528687), ('s10522-018-09789-9', 0.5051114559173584), ('ijms20143563', 0.5046961307525635), ('j.gene.2014.03.062', 0.5015716552734375), ('s00404-021-06183-8', 0.5012025833129883), ('j.jchemneu.2018.02.003', 0.5002927780151367), ('RR14628.1', 0.49851512908935547), ('j.brainres.2020.146802', 0.4983147978782654), ('82_2010_78', 0.49768513441085815), ('104303403764539369', 0.49714693427085876), ('j.pharmthera.2015.10.006', 0.49710774421691895), ('CIRCRESAHA.116.308391', 0.49670836329460144), ('j.mcn.2007.09.011', 0.49648982286453247), ('scd.2012.0620', 0.49446314573287964), ('ijms21072598', 0.4931473433971405), ('10409238.2019.1610722', 0.49234670400619507), ('cen.13871', 0.49232739210128784), ('gutjnl-2019-318812', 0.4921441674232483), ('s00395-017-0639-9', 0.4901162385940552), ('acel.12475', 0.48992592096328735), ('OTT.S181792', 0.4896906912326813), ('j.pep.2008.09.014', 0.48901063203811646), ('j.tem.2020.11.006', 0.48894375562667847), ('journal.pbio.1000015', 0.4885917901992798), ('emboj.2013.162', 0.487966388463974), ('j.cmet.2015.05.009', 0.48780354857444763), ('dev.01324', 0.48756134510040283), ('j.cbpa.2008.04.608', 0.4855960011482239), ('j.bbrep.2018.10.007', 0.48515158891677856), ('jcp.29355', 0.4817104935646057), ('journal.pone.0214073', 0.48146817088127136), ('j.cbpa.2013.02.001', 0.4804178774356842), ('s10522-019-09799-1', 0.4797278046607971), ('fncel.2018.00205', 0.4796029329299927), ('jdi.13337', 0.47953665256500244), ('en.2008-0259', 0.4795016646385193), ('s12967-019-02166-1', 0.47892963886260986), ('fcvm.2019.00140', 0.47877931594848633), ('08977190109029114', 0.47547489404678345), ('acel.13038', 0.47527876496315), ('acs.biochem.7b00302', 0.4742509722709656), ('j.cbpb.2014.09.005', 0.47349584102630615), ('j.1365-2052.2006.01447.x', 0.4728635251522064), ('187152210793663810', 0.4727637767791748), ('j.exger.2016.07.004', 0.46981072425842285), ('ajpheart.00342.2018', 0.46876150369644165), ('JPER.20-0011', 0.4687259793281555), ('j.omtn.2020.09.032', 0.46757322549819946), ('journal.pbio.0040039', 0.4662896990776062), ('cancers12020409', 0.46378371119499207), ('NEJMcibr1407158', 0.4623240530490875), ('s12915-017-0350-1', 0.4612058699131012), ('j.brainresbull.2018.02.011', 0.46104416251182556), ('s13568-015-0142-3', 0.4605647325515747), ('s12885-016-2261-x', 0.4603153467178345), ('j.celrep.2014.05.001', 0.4601854681968689), ('acs.biochem.9b00760', 0.45887595415115356), ('nm.3468', 0.45796310901641846), ('jeb.056374', 0.4563376307487488), ('s41598-018-35716-6', 0.4538987874984741), ('s00395-016-0593-y', 0.45308971405029297), ('19336934.2017.1369638', 0.4497615694999695), ('en.2015-1628', 0.4481075406074524), ('CIRCRESAHA.115.307521', 0.447978675365448), ('bio.029454', 0.4466147720813751), ('pnas.1906253116', 0.4465199112892151), ('j.breast.2017.11.010', 0.4464724659919739), ('AD.2019.0610', 0.4457909166812897), ('j.jss.2015.05.001', 0.4455248713493347), ('journal.pone.0055200', 0.445310115814209), ('physiolgenomics.00054.2015', 0.44473448395729065), ('rej.2019.2258', 0.44273924827575684), ('j.jns.2016.08.004', 0.44226521253585815), ('j.bbr.2017.12.019', 0.4416983425617218), ('j.cell.2013.04.015', 0.4413773715496063), ('s41374-019-0290-1', 0.4412060081958771), ('CIRCRESAHA.118.312955', 0.4402962625026703), ('j.cmet.2016.06.017', 0.43807506561279297), ('j.devcel.2017.10.027', 0.43702003359794617), ('jbc.RA118.005831', 0.43663400411605835), ('j.cmet.2015.05.010', 0.4360973834991455), ('blood.2019002066', 0.43599361181259155), ('jcp.30151', 0.4359291195869446), ('j.2041-1014.2010.00576.x', 0.4358771741390228), ('s11033-019-05194-8', 0.4324854612350464), ('s12967-015-0608-8', 0.43226513266563416), ('HYPERTENSIONAHA.117.10350', 0.43190106749534607), ('emmm.201607231', 0.43112146854400635), ('j.jare.2018.02.004', 0.4306454658508301), ('jcmm.15502', 0.4304933249950409), ('nm.3512', 0.4296456575393677), ('s13195-021-00845-0', 0.42912113666534424), ('ajpheart.00615.2018', 0.42911094427108765), ('acel.13256', 0.42662733793258667), ('S2053230X16001588', 0.42648959159851074), ('etm.2017.4879', 0.4264586269855499), ('db17-0086', 0.4261534810066223), ('pnas.1714622115', 0.4254249334335327), ('s12919-016-0015-z', 0.4237233102321625), ('j.cmet.2014.06.007', 0.4235186278820038), ('j.arr.2015.02.003', 0.4233648180961609), ('jcmm.16312', 0.4225512146949768), ('mt.2014.221', 0.4224326014518738), ('s00264-020-04838-w', 0.4212346374988556), ('nm.3524', 0.4204072952270508), ('14789450.2016.1240622', 0.4201410114765167), ('s10517-020-05050-x', 0.41941216588020325), ('journal.pgen.1006019', 0.4193655252456665), ('s41598-020-61443-y', 0.41816675662994385), ('j.cmet.2016.05.023', 0.41750553250312805), ('j.bbalip.2021.158920', 0.4170539379119873), ('j.ejphar.2020.173495', 0.4167572855949402), ('j.celrep.2018.03.024', 0.41630876064300537), ('mnfr.201801149', 0.4162229895591736), ('dev.152975', 0.41491708159446716), ('CIRCRESAHA.115.307861', 0.4145573377609253), ('s10753-018-0895-3', 0.41350656747817993), ('bjh.16156', 0.412616491317749), ('ijms19051508', 0.41028836369514465), ('s12877-018-0888-y', 0.4100950062274933), ('fphys.2020.560225', 0.4099960923194885), ('mt.2016.160', 0.40962547063827515), ('pmic.201600232', 0.4091971516609192), ('s13395-019-0197-y', 0.40849530696868896), ('jpm11020085', 0.40844905376434326), ('s11899-019-00517-9', 0.40780994296073914), ('biores.2016.0015', 0.4073566198348999), ('ijbs.10430', 0.4072362184524536), ('ajpgi.00159.2018', 0.406221866607666), ('me.2008-0290', 0.4059876799583435), ('journal.pone.0133713', 0.4053376317024231), ('journal.pone.0218035', 0.40391284227371216), ('CIRCRESAHA.116.307962', 0.4030730426311493), ('ijc.32286', 0.40083882212638855), ('s00395-019-0728-z', 0.3999136686325073), ('bio.16.17', 0.3996794819831848), ('scitranslmed.aat3504', 0.3986104726791382), ('s41598-021-83545-x', 0.3966408967971802), ('j.celrep.2018.01.044', 0.39655327796936035), ('j.jocn.2019.02.016', 0.3961886763572693), ('jcm8060878', 0.3950669765472412), ('sctm.20-0005', 0.39487430453300476), ('s41419-020-03120-6', 0.39462143182754517), ('s41419-021-03954-8', 0.39372700452804565), ('ptr.6372', 0.3927173316478729), ('16078454.2019.1574386', 0.3912922441959381), ('thoraxjnl-2016-209352', 0.3909637928009033), ('en.2016-1580', 0.38965779542922974), ('fj.201801375RR', 0.3885768949985504), ('phy2.13343', 0.3876494765281677), ('2047487319885035', 0.3872636556625366), ('jpet.118.252304', 0.3864237070083618), ('fphys.2019.00970', 0.38635483384132385), ('j.exphem.2017.05.002', 0.3857889771461487), ('j.oooo.2017.03.010', 0.3846801221370697), ('j.exger.2019.01.020', 0.3846476078033447), ('j.bbrc.2020.05.036', 0.3841911554336548), ('fphys.2018.00152', 0.3841027021408081), ('ijms22041725', 0.3840695917606354), ('s12964-019-0449-9', 0.3826342821121216), ('j.aca.2017.04.028', 0.3822574019432068), ('biology10060539', 0.3818212151527405), ('db17-1583', 0.38042545318603516), ('CIRCRESAHA.116.308478', 0.3797968029975891), ('j.cca.2014.09.014', 0.3790239989757538), ('j.bbrep.2017.06.001', 0.3782772421836853), ('j.transci.2015.04.009', 0.3774808645248413), ('s13395-016-0092-8', 0.376670241355896), ('COPD.S157035', 0.37351515889167786), ('molecules26092676', 0.37015610933303833), ('molecules25071492', 0.3685165047645569), ('j.jvc.2019.08.002', 0.36715108156204224), ('fneur.2020.01023', 0.36641019582748413), ('pmic.201900104', 0.36631131172180176), ('CIRCRESAHA.115.307527', 0.36613720655441284), ('s41375-020-01054-8', 0.36556363105773926), ('09537104.2018.1514110', 0.3649097681045532), ('ajpcell.00105.2009', 0.36332839727401733), ('blood-2018-11-876888', 0.3622402846813202), ('MCB.01307-13', 0.36094930768013), ('thoraxjnl-2017-210359', 0.3604409694671631), ('vox.12438', 0.3602162003517151), ('jdi.13470', 0.35874974727630615), ('s41598-019-47818-w', 0.35850170254707336), ('phy2.13823', 0.3553115129470825), ('s13395-017-0141-y', 0.3549347221851349), ('journal.pone.0215298', 0.35357189178466797), ('j.biopha.2018.04.091', 0.35356220602989197), ('blood.2019001983', 0.3525148630142212), ('pnas.1707925114', 0.35138413310050964), ('j.isci.2021.102488', 0.350980281829834), ('s41598-021-81669-8', 0.3424580693244934), ('13543784.2016.1182981', 0.3402426540851593), ('mmr.2019.10077', 0.3390425443649292), ('j.exger.2020.110869', 0.3370855152606964), ('scitranslmed.aaz5660', 0.3350216746330261), ('blood.2019001057', 0.33490175008773804), ('10715762.2021.1885653', 0.33274710178375244), ('s41598-018-20524-9', 0.3318276107311249), ('s12967-021-02884-5', 0.3316732943058014), ('j.phrs.2019.104273', 0.3261255621910095), ('fj.201801969RR', 0.3257424235343933), ('ijms21155577', 0.3194698095321655), ('scitranslmed.aau8680', 0.3033815026283264)]\n"
          ]
        }
      ],
      "source": [
        "############################# \n",
        "#@title Assessing the model\n",
        "#############################\n",
        "#@markdown To assess the model, we first infer new vectors for each document of the training corpus,\n",
        "#@markdown compare the inferred vectors with the training corpus, and \n",
        "#@markdown then return the rank of the document based on self-similarity.\n",
        "\n",
        "#@markdown The expectation is that we likely overfit our model \n",
        "#@markdown (i.e., all of the ranks will be less than 2) and so \n",
        "#@markdown we should be able to find similar documents very easily.\n",
        "#@markdown Additionally, we keep track of the second ranks for a comparison of less similar documents.\n",
        "\n",
        "ranks = []\n",
        "second_ranks = []\n",
        "for doc_id in range(len(tagged_data)):\n",
        "  inferred_vector = model.infer_vector(tagged_data[doc_id].words)\n",
        "  sims = model.docvecs.most_similar([inferred_vector], topn=len(model.docvecs))\n",
        "  rank = [docid for docid, sim in sims].index(sim[0])\n",
        "  ranks.append(rank)\n",
        "\n",
        "  second_ranks.append(sims[1])\n",
        "\n",
        "print(sims)"
      ]
    },
    {
      "cell_type": "code",
      "source": [
        "# Count how each document ranks with respect to the training corpus\n",
        "# Results vary between runs due to random seeding and small corpus\n",
        "import collections\n",
        "\n",
        "counter = collections.Counter(ranks)\n",
        "print(counter)\n",
        "# Basically, >95% of the inferred documents are found to be most similar to itself and\n",
        "# about 5% of the time it is mistakenly most similar to another document.\n",
        "# Checking the inferred-vector against a training-vector is a sort of 'sanity check' as\n",
        "# to whether the model is behaving in a usefully consistent manner, though not a real 'accuracy' value."
      ],
      "metadata": {
        "colab": {
          "base_uri": "https://localhost:8080/"
        },
        "id": "UAdbe6nUwD1A",
        "outputId": "bf197262-8f27-4ddf-dc7f-cf99cb60ade1"
      },
      "execution_count": null,
      "outputs": [
        {
          "output_type": "stream",
          "name": "stdout",
          "text": [
            "Counter({92: 5, 323: 5, 153: 5, 333: 4, 314: 4, 134: 4, 329: 4, 126: 4, 97: 4, 133: 4, 180: 4, 42: 4, 322: 3, 62: 3, 137: 3, 99: 3, 198: 3, 244: 3, 71: 3, 325: 3, 138: 3, 76: 3, 94: 3, 112: 3, 189: 3, 253: 3, 263: 3, 66: 3, 125: 3, 300: 3, 84: 3, 149: 3, 68: 3, 103: 3, 326: 2, 108: 2, 159: 2, 63: 2, 298: 2, 141: 2, 246: 2, 206: 2, 293: 2, 80: 2, 216: 2, 310: 2, 28: 2, 129: 2, 18: 2, 135: 2, 35: 2, 124: 2, 247: 2, 13: 2, 331: 2, 30: 2, 17: 2, 89: 2, 215: 2, 48: 2, 116: 2, 72: 2, 83: 2, 105: 2, 296: 2, 106: 2, 70: 2, 131: 2, 119: 2, 230: 2, 302: 2, 286: 2, 53: 2, 41: 2, 46: 2, 224: 2, 1: 2, 223: 2, 33: 2, 145: 2, 2: 2, 332: 2, 82: 2, 320: 2, 179: 2, 114: 1, 160: 1, 102: 1, 162: 1, 101: 1, 22: 1, 178: 1, 157: 1, 220: 1, 312: 1, 197: 1, 290: 1, 77: 1, 65: 1, 273: 1, 32: 1, 330: 1, 309: 1, 25: 1, 307: 1, 56: 1, 181: 1, 21: 1, 140: 1, 172: 1, 231: 1, 321: 1, 96: 1, 123: 1, 281: 1, 295: 1, 69: 1, 148: 1, 227: 1, 239: 1, 236: 1, 81: 1, 38: 1, 297: 1, 308: 1, 73: 1, 209: 1, 34: 1, 317: 1, 49: 1, 130: 1, 278: 1, 90: 1, 58: 1, 207: 1, 185: 1, 222: 1, 88: 1, 249: 1, 37: 1, 305: 1, 204: 1, 155: 1, 276: 1, 16: 1, 3: 1, 262: 1, 306: 1, 251: 1, 304: 1, 122: 1, 86: 1, 23: 1, 282: 1, 256: 1, 228: 1, 280: 1, 47: 1, 120: 1, 59: 1, 283: 1, 161: 1, 143: 1, 40: 1, 95: 1, 7: 1, 118: 1, 107: 1, 261: 1, 303: 1, 165: 1, 85: 1, 238: 1, 75: 1, 221: 1, 154: 1, 9: 1, 164: 1, 315: 1, 241: 1, 0: 1, 152: 1, 110: 1, 142: 1, 12: 1, 139: 1, 147: 1, 91: 1, 267: 1, 51: 1, 128: 1, 264: 1, 60: 1, 117: 1, 44: 1, 20: 1, 173: 1, 93: 1, 26: 1, 232: 1})\n"
          ]
        }
      ]
    },
    {
      "cell_type": "code",
      "execution_count": null,
      "metadata": {
        "colab": {
          "base_uri": "https://localhost:8080/"
        },
        "id": "WNazW7hTmxr_",
        "outputId": "12b75a84-2e55-46b1-e054-078fc43338c1"
      },
      "outputs": [
        {
          "output_type": "stream",
          "name": "stdout",
          "text": [
            "Document (92): «plasma growth differentiation factors 8 and 11 levels in cats with congestive heart failure secondary to hypertrophic cardiomyopathy a unique a detailing of pr downloading is view the mater manuscript . correspond e-mail addr 1760-2734/ª 2 journal of veterinary cardiology 25 , 41e51 www.elsevier.com/locate/jvc plasma growth differentiation factors 8 and 11 levels in cats with congestive heart failure secondary to hypertrophic cardiomyopathy v.k . yang , dvm , phda , , j.e . rush , dvm , msa , s. bhasin , mbbsb , a.j . wagers , phdc , d , e , r.t. lee , mdc adepartment of clinical sciences , cummings school of veterinary medicine at tufts university , 200 westboro rd , north grafton , ma , 01536 , usa bdepartment of medicine , brigham and women ’ s hospital , 221 longwood ave , boston , ma , 02115 , usa cdepartment of stem cell and regenerative biology and harvard stem cell institute , harvard university , 7 divinity ave , cambridge , ma , 02138 , usa d section on islet cell and regenerative biology , joslin diabetes center , one joslin place , boston , ma , 02215 , usa e paul f. glenn center for the biology of aging , harvard medical school , 77 ave. louis pasteur , boston , ma , 02115 , usa received 29 november 2018 ; received in revised form 12 august 2019 ; accepted 27 august 2019 keywords feline ; myostatin ; liquid chromatography tandem-mass spectrometry spect of the journal ocedures and diagnost iencedirect.com/scien available via the summ ial is to go to ing author . ess : vicky.yang @ tufts.e /10.1016/j.jvc.2019.08 019 elsevier b.v. all rig abstract objectives : growth differentiation factor ( gdf ) 11 has been shown to reduce cardiac hypertrophy in mice . low levels of gdf-11 are associated with cardiac hypertrophy in humans . the authors hypothesized that plasma gdf-11 level is decreased in cats with hypertrophic cardiomyopathy ( hcm ) . given the close homology between gdf-11 and myostatin/gdf-8 , gdf-8 levels were also assessed . animals : thirty-seven client-owned cats were enrolled , including cats with normal cardiac structure ( n ¼ 16 ) , cats with hcm or hypertrophic obstructive of veterinary cardiology is the emphasis of additional web-based materials permitting the ics . these materials can be viewed ( by those readers with subscription access ) by going to ce/journal/17602734 . the issue to be viewed is clicked and the available pdf and image ary plus link . the supplementary material for a given article appears at the end of the page . to ww.doi.org and enter the doi number unique to this paper which is indicated at the end of the du ( v.k . yang ) . .002 hts reserved . mailto : 42 v.k . yang et al . abbreviations chf congestive heart fa formic acid gdf growth different hcm hypertrophic car hocm hypertrophic cardiomyopathy lc-ms/ms liquid chromato mass spectrome lv left ventricle cardiomyopathy ( hocm ; n ¼ 14 ) , and cats with hcm and congestive heart failure ( chf ; n ¼ 7 ) . methods : plasma samples were analyzed for gdf-8 and gdf-11 using liquid chromatography tandem-mass spectrometry . levels of gdf-8 and gdf-11 were compared between cats with normal cardiac structure , hcm or hocm , and chf . results : no differences in gdf-11 concentrations were found between cats with normal cardiac structure and cats with hcm/hocm , with or without history of chf . decreased gdf-8 concentrations were detected in cats with chf compared to cats with hcm/hocm without history of chf ( p¼0.031 ) and cats with normal cardiac structure ( p¼0.027 ) . growth differentiation factor 8 was higher in cats with hocm compared to those with chf ( p¼0.002 ) . no statistical difference was noted in gdf-8 level as a function of age , weight , or body condition score . conclusions : plasma gdf-11 was not different between cats with hcm/hocm and cats with normal cardiac structure regardless of age . plasma gdf-8 was decreased in cats with chf compared to cats with normal cardiac structure and cats with asymptomatic hcm/hocm , suggesting a possible role in chf development . ª 2019 elsevier b.v. all rights reserved . failure iation factor diomyopathy obstructive graphy tandemtry introduction hypertrophic cardiomyopathy ( hcm ) is the most common cardiac disease in cats with a prevalence of 14e16 % [ 1,2 ] . this disease is found in a variety of cat breeds , with high incidence in ragdoll cats and maine coons . in both breeds , mutation in myosin binding protein c has been identified , although involvement of additional genetic mutations is suspected . given the need to better understand the causes of ventricular hypertrophy and to develop appropriate therapy for both people and veterinary patients , rodent models have been studied and have demonstrated some encouraging results . loffredo et al . showed that age-related left ventricular ( lv ) hypertrophy in mice is associated with decreased levels of circulating growth differentiation factor ( gdf ) 11 as measured with an antibody that also recognizes gdf-8 , or myostatin . growth differentiation factor 11 is a member of the transforming growth factoreb superfamily . it is found postnatally in the spleen , pancreas , kidney , and skeletal muscle ; and it is also found in cardiac tissues in mice but at a lower level . resupplying gdf-11 to aged mice reduces cardiac hypertrophy in a dose-dependent fashion [ 4,6,7 ] . this response to gdf-11 treatment raises the possibility that levels of circulating gdf-11 and/or gdf-8 are related to the degree of cardiac hypertrophy . there has been considerable controversy involving methods used to measure gdf-11 in previous studies , which have included polymerase chain reaction , enzyme-linked immunosorbent assay , and proteomic microarrays [ 4,8,9 ] . the close homology between gdf-11 and gdf-8 may result in cross-reactivity in certain assays as these two proteins share approximately 90 % sequence identity in their mature forms . both proteins belong to the activin/myostatin subclass of the transforming growth factoreb family , activate similar receptors , and therefore share many redundant functions . growth differentiation factor 8 , or myostatin , is expressed postnatally by skeletal and cardiac tissues and suppresses skeletal muscle mass . expression of gdf-8 is associated with a reduction in cardiomyocyte proliferation without a negative effect on systolic function . conflicting results regarding levels of either gdf-8 or gdf-11 with age , heart disease , therapy , and prognosis may be the result of technical difficulties associated with separate detection of the two proteins [ 4,7,10e20 ] . this may also have added confusion as to how gdf-8 or gdf-11 overexpression may alter cardiac morphology and function [ 4,6,21e23 ] . overcoming the limitations of traditional analytical techniques in gdf-8 and gdf-11 in feline hcm 43 differentiating gdf-8 and gdf-11 requires liquid chromatography tandem-mass spectrometry ( lcms/ms ) . this method accurately differentiates gdf-8 and gdf-11 in humans and rats [ 18,24 ] . this method resolves multiple distinct residues within gdf-8 and gdf-11 , allowing differentiation between these proteins despite their high percentage of homology . in feline samples , lcms/ms would be expected to accurately differentiate between gdf-8 and gdf-11 given that there is 100 % homology between the mature domains of feline and human gdf-8 and gdf-11 [ 6,25 ] . in contrast to the mature domains of feline gdf-8 and gdf-11 that exhibit 90 % homology , the prodomains exhibit greater differences with only a 54.7 % homology between the two proteins . few studies have investigated the effects and levels of circulating gdf-11 in veterinary patients . ahn et al . showed that circulating gdf-11 levels did not change significantly in dogs that developed congestive heart failure ( chf ) secondary to myxomatous mitral valve disease . furthermore , gdf-11 did not change as a function of patient age , body weight , and echocardiographic variables . studies of gdf-11 have not been reported in cats . cardiac hypertrophy in the form of lv free wall or septal wall thickening is often observed in cats with primary hcm , systemic hypertension , or hyperthyroidism . given the possible relationship between gdf-11 and cardiac figure 1 protein structure of gdf 8 and 11 in cats . the gdf-8 and gdf-11 in cats are shown and compared . there is proteins and a 54.7 % homology between the prodomains . am differentiation factor . hypertrophy , the authors investigated circulating gdf-11 in cats with hcm . the authors hypothesized that cats with hcm will have decreased circulating gdf-11 levels compared to cats with normal cardiac structure . we also speculated that there may be a decrease in gdf-11 levels in older cats . animals , materials and methods client-owned cats presented to the foster hospital for small animals at the cummings school of veterinary medicine at tufts university were enrolled in this study . the study protocol was approved by the tufts university clinical studies review committee , and owner consent was obtained before sample collection . cats received a routine physical examination and echocardiogram examination . cats with hyperthyroidism , history of systemic hypertension , or aortic stenosis were excluded from the study . cats with comorbidities including diabetes , neoplasia , and azotemia before starting diuretic therapy were also excluded . patients were divided into the following five groups : cats with normal cardiac structure < 6 years of age ( termed ‘ young normal ’ ) ; cats with normal cardiac structure 6 years of age ( termed ‘ old normal ’ ) ; cats with hcm without left ventricular tract obstruction ; cats with hypertrophic obstructive cardiomyopathy ( hocm ) ; and cats with hcm and clinical signs or history of chf . congestive heart mature domain and prodomain amino acid sequences of a 90 % homology between the mature domains of the two ino acid differences are highlighted in red . gdf ¼ growth g pn : 8e-s100-agb , phenomenex inc. , torrance , ca . h 44 v.k . yang et al . failure was defined as presence of pulmonary edema on thoracic radiographs or pleural or pericardial effusion on echocardiogram , and requiring treatment with furosemide . echocardiography was performed without sedation by either a boardcertified cardiologist or a cardiology resident under the supervision of a board-certified cardiologist . measurements recorded included mmode measurements of interventricular septal thickness in diastole and in systole ( outer edge to outer edge ) , lv internal dimension in diastole and in systole ( inner edge to inner edge ) , lv free wall thickness in diastole and in systole ( outer edge to outer edge ) , and fractional shortening , all from the right parasternal short-axis view . the left atrial-to-aortic ratio was measured from both mmode and 2-d right parasternal short-axis view ( leading edge to leading edge ) . cats in the normal groups were > 1 year of age and had lv wall thicknesses < 6 mm in diastole . cats with a heart murmur as a result of dynamic right ventricular outflow tract obstruction were included in the normal groups if the lv walls in diastole did not measure thicker than 6 mm . hypertrophic cardiomyopathy was defined as lv free wall or interventricular septum thickness in diastole , either focal or generalized , 6 mm without evidence of lv outflow tract obstruction . cats in the hocm group had evidence of lv outflow tract obstruction defined as late systolic lv outflow tract velocity > 2.5 m/s in addition to lv wall thicknesses < 6 mm in diastole . one ml of whole blood was collected into edta collection tubes . plasma was isolated by centrifugation of whole blood sample at 1,320 g for 10 min at room temperature immediately after blood collection to remove cells and platelets . plasma was stored at 80 c until lc-ms/ms analysis . samples were denatured and reduced in 6 m urea and 20 mm dithlothreitol at 60 c for 40 min and alkylated with 35 mm iodoacetic acid at 37 c for 30 min . after acidification using 1.5 ml 0.1 % formic acid ( fa ) solution , the samples were loaded into conditioned strong cation exchange solid phase extraction 96 well platesf using 1 ml of methanol , followed by 1 ml of 0.1 % fa , and washed by 1 ml of 0.1 % fa and 1 ml of 10 mm bisetris , ph 5.8 buffer . bound proteins were eluted in 1.5 ml of buffer solution containing 10 % methanol in 50 mm tris at ph 10.5. eluents were adjusted to ph 8 using 0.1e1 m hydrochloric acid and mixed with 50 ml of 100 mg/ml trypsin in 50 mm tris buffer at ph 8. f stratatmdxl-c 100 mm , pn : 8e-s044-tgb , phenomenex inc. , torrance , ca . then , 50 ml of 5 ng/ml isotope-labeled peptides prepared in 0.1 % fa was added as internal standard . the digested solution was then loaded into a strata-x 33 mm solid phase extraction systemg conditioned with 1 ml methanol followed by 1 ml of deionized water . samples were eluted with 1 ml methanol after washing with 1 ml deionized water and evaporated to dry . residues were reconstituted with 50 ml of 5 % methanol and 0.1 % fa in deionized water for lc-ms/ms analysis . an ultraperformance liquid chromatography system consisting of lc-20 adxr binary pump and sil-20 acxr autosamplerh was used for liquid-chromatographic separation . chromatographic separation was achieved using aeris peptide 3.6 mm xbdc18.i column and autosampler temperatures were set at 45 c and 10 c , respectively . the mobile phase consisted of 0.1 % fa in deionized water and 0.1 % fa in methanol . a hybrid triple quadrupole/liner ion trap mass spectrometerj equipped with a turbo v ion source was used for detection . the mass spectrometer was operated in positive electrospray ionization mode using an ion-spray voltage of 5500. the most intense unique surrogated peptides and their multiple reaction monitoring transitions were identified by peptide mapping using an information-dependent acquisition experiment ; the ideal multiple reaction monitoring transitions were further optimized by the autotune function of analyst software by infusion of desalted tryptic digest of gdf-11 and gdf-8 proteins . ion source optimization was performed by flow injection using 0.1 % fa in deionized water/methanol at 70/30 ( v/ v ) at 600 ml/min or 200 ml/min depending on the columns used . calibration curves were prepared by assaying commercial pooled human plasma spiked with eight concentrations of gdf-11 or gdf-8 ( 0.5 , 1 , 5 , 10 , 25 , and 50 ng/ml ) . in addition , isotopelabeled ipgmvvd̂r and nlgldehsseŝr peptides were added as internal standards to a final concentration of 5 ng/ml after ph-based fractionation by conditioned strong cation exchange solid phase extraction and tryptic digestion . the lower limit of quantitation is 1 ng/ml . growth differentiation factor 8 and immunoglobulin g have no detectable cross-reactivity in the gdf-11 assay . the interassay coefficient of variation was less than 10 % . statistical analysis was performed using commercially available statistics software.k shimadzu , framingham , ma . i phenomenex inc. , torrance , ca . j ab sciex qtrap 5500 , framingham , ma . k ibm spss statistics for windows , released 2017 , version 25.0. armonk , ny . gdf-8 and gdf-11 in feline hcm 45 shapiroewilk test was used to test for normality ; and kruskalewallis test was used for nonparametric statistical testing of differences among more than two groups . mannewhitney u test or t-test ( normally distributed data ) was used for two-way comparisons . bonferroni correction was applied to multigroup comparison . results thirty-seven cats were enrolled into five groups : old normal group ( n ¼ 7 ) , young normal group ( n ¼ 9 ) , hcm group ( n ¼ 8 ) , hocm group ( n ¼ 6 ) , and hcm with chf group ( n ¼ 7 ) . the demographics of the cats are reported in table 1. there was no difference in body weight or body condition score ( on a scale of 1e9 ) among the five groups . cats in young normal group ( mean age 2.4 years 1.1 ) were significantly younger than cats in the old normal group ( mean age 10 years 3.3 , p¼0.0003 ) , cats in the hcm or hocm groups ( mean age 8.8 years 3.2 , p¼0.00001 ) , and cats in the chf group ( mean age 9.1 years 2.9 , p¼0.001 ) . echocardiographic findings are reported in table 2. the p-values for comparisons are listed in table 3. all six cats in the hocm had focal hypertrophy of the interventricular septum in diastole measuring > 0.65 cm and systolic anterior motion of the mitral valve . cats in the young normal group had larger lv internal dimension in diastole measurements compared to older normal cats ( p¼0.018 ) . fractional shortening was also table 1 demographics of study cats . total median age ( range ) , y average weight ( range ) , kg young normal 9 2.5 ( 1e4 ) 5.2 ( 2.8e7.6 ) old normal 7 12 ( 6e14 ) 4.7 ( 3.4e5.5 ) hcm 8 7 ( 4e12 ) 6.5 ( 5e8.8 ) hocm 6 11.5 ( 6e15 ) 5.4 ( 4.3e6.6 ) hcm with chf 7 10 ( 4e13 ) 5.6 ( 3.6e9 ) bcs ¼ body condition score , on a scale of 1e9 ; chf ¼ congestive h dmh ¼ domestic medium hair ; dsh ¼ domestic short hair ; hcm¼ hy cardiomyopathy ; sf ¼ spayed female . lower in cats with chf compared to cats in the old normal group ( p¼0.004 ) and cats with hocm ( p¼0.008 ) . circulating gdf-11 levels were not different between the normal , hcm , hocm , and chf groups ( figs . 2e4 ) . in contrast , circulating gdf-8 levels were decreased in cats with hcm and chf compared to cats ( both young and old ) with normal cardiac structure ( p¼0.027 ) , and cats with hcm or hocm without chf ( p¼0.031 ) . in particular , cats with hocm had significantly higher gdf-8 levels than those in the chf group ( p¼0.002 ) . differences were not identified based on age , weight , or sex for either gdf-8 or gdf-11 ( figs . 5e7 ) . discussion this is the first report in cats of the association between lc-ms/ms measured circulating gdf-8 and gdf-11 and hcm/hocm or chf . age-related changes in gdf-8 or the gdf-11 levels were not observed in cats enrolled in this study . circulation levels of gdf-11 were not different between normal cats compared to cats with asymptomatic hcm/hocm or chf . circulating levels of gdf-8 and gdf-11 were not different based on sex , in contrast to humans where gdf-8 and gdf-11 are higher in males . the most significant finding of this study was that circulating levels of gdf-8 were decreased in cats with chf secondary to hcm when compared to cats with normal cardiac structure or cats with hcm/hocm without chf . average bcs ( range ) gender total breed total 6 ( 4e9 ) cm sf f 5 1 2 abyssinian dsh 2 7 5.8 ( 4e7 ) cm sf 3 5 dsh dlh 5 2 6.5 ( 6e8 ) cm 8 dsh dmh dlh 6 1 1 6.0 ( 6e7 ) cm sf 2 4 dsh dlh 4 2 4.5 ( 4e9 ) cm sf 6 1 abyssinian tonkinese dsh dmh dlh 1 1 2 2 1 eart failure ; cm ¼ castrated male ; dlh ¼ domestic long hair ; pertrophic cardiomyopathy ; hocm¼ hypertrophic obstructive table 2 summary of echocardiographic measurements . young normal old normal hcm hocm hcm with chf ivsd , cm average ( sd ) 0.45 ( 0.08 ) 0.47 ( 0.04 ) 0.58 ( 0.1 ) 0.65 ( 0.08 ) 0.66 ( 0.21 ) lvidd , cm average ( sd ) 1.67 ( 0.12 ) 1.43 ( 0.10 ) 1.38 ( 0.35 ) 1.34 ( 0.15 ) 1.52 ( 0.51 ) lvpwd , cm average ( sd ) 0.47 ( 0.06 ) 0.43 ( 0.05 ) 0.58 ( 0.10 ) 0.56 ( 0.06 ) 0.63 ( 0.25 ) ivss , cm average ( sd ) 0.69 ( 0.08 ) 0.75 ( 0.09 ) 0.77 ( 0.14 ) 0.88 ( 0.11 ) 0.80 ( 0.23 ) lvids , cm average ( sd ) 0.86 ( 0.14 ) 0.67 ( 0.22 ) 0.77 ( 0.11 ) 0.60 ( 0.11 ) 0.99 ( 0.56 ) lvpws , cm average ( sd ) 0.77 ( 0.88 ) 0.73 ( 0.14 ) 0.89 ( 0.13 ) 0.84 ( 0.12 ) 0.78 ( 0.31 ) fs , % average ( sd ) 49.1 ( 5.5 ) 58.5 ( 9.8 ) 50.4 ( 5.0 ) 55.5 ( 5.0 ) 38.1 ( 16.0 ) la : ao average ( sd ) 1.24 ( 0.23 ) 1.27 ( 0.17 ) 1.24 ( 0.15 ) 1.37 ( 0.25 ) 2.10 ( 0.40 ) la : ao ( m-mode ) average ( sd ) 1.37 ( 0.27 ) 1.41 ( 0.25 ) 1.30 ( 0.24 ) 1.43 ( 0.18 ) 1.91 ( 0.46 ) lvot velocity , m/s average ( sd ) 0.8 ( 0.2 ) 1.1 ( 0.6 ) 0.9 ( 0.1 ) 4.0 ( 0.9 ) 1.0 ( 0.2 ) chf ¼ congestive heart failure ; hcm ¼ hypertrophic cardiomyopathy ; hocm ¼ hypertrophic obstructive cardiomyopathy ; ivsd ¼ interventricular septum in diastole ; lv ¼ left ventricle ; lvidd ¼ lv internal dimension in diastole ; lvpwd ¼ lv free wall in diastole ; ivss ¼ interventricular septum in systole ; lvids ¼ lv internal dimension in systole ; lvpws ¼ lv free wall in systole ; fs ¼ fractional shortening ; la : ao ¼left atrium-to-aorta ratio in short axis ; lvot ¼ left ventricular outflow tract ; sd ¼ standard deviation . table 3 statistical findings ( p-values ) . young vs. old young vs. hcm young vs. hocm young vs. chf old vs. hcm old vs. hocm old vs. chf hcm vs. hocm hcm vs. chf hocm vs. chf age 0.0002 0.015 0.0001 0.001 e e e e e e weight e e e e 0.01 e e e e e bcs e e e e e e e e e e ivsd e 0.023 0.002 0.018 0.038 0.005 0.03 e e e lvidd 0.018 0.032 0.002 e e e e e e e lvpwd e 0.037 e 0.042 0.004 0.01 0.005 e e e ivss e e 0.013 e e 0.035 e e e e lvids e e 0.003 e e e e 0.013 e e lvpws e e e e e e e e e e fs 0.047 e e e e e 0.004 e e 0.008 la : ao e e e 0.002 e e 0.003 e 0.002 0.023 la : ao ( m-mode ) 0.029 0.001 0.006 e bcs ¼ body condition score ; chf ¼ congestive heart failure ; hcm ¼ hypertrophic cardiomyopathy ; hocm ¼ hypertrophic obstructive cardiomyopathy ; ivsd ¼ interventricular septum in diastole ; lv ¼ left ventricle ; lvidd ¼ lv internal dimension in diastole ; lvpwd ¼ lv free wall in diastole ; ivss ¼ interventricular septum in systole ; lvids ¼ lv internal dimension in systole ; lvpws ¼ lv free wall in systole ; fs ¼ fractional shortening ; la : ao ¼ left atrium-to-aorta ratio . only p-values that are < 0.05 are shown . bonferroni corrected p-value ¼ 0.005 . 46 v.k . yang et al . figure 2 growth differentiation factor 8 and 11 levels . the gdf-8 levels for the five different disease groups are shown in ( a ) ( n ¼ 7/group for old normal , n ¼ 8 for hcm , n ¼ 6 for hocm , n ¼ 7 for chf , and n ¼ 9 for young normal ) . gdf-11 levels for each of the groups are shown in ( b ) . open circles represent outliers . denotes statistically significant differences . chf ¼ congestive heart failure ; gdf ¼ growth differentiation factor ; hcm ¼ hypertrophic cardiomyopathy ; hocm ¼ hypertrophic obstructive cardiomyopathy . figure 3 comparison of cats with chf , hcm , and hocm . cats with chf ( n ¼ 7 ) had lower gdf-8 levels compared to cats with hcm and hocm ( p¼0.031 , n ¼ 14 ) ( a ) . no difference was detected between groups for gdf-11 ( b ) . open circles and small asterisk represent outliers . denotes statistically significant differences . chf ¼ congestive heart failure ; gdf ¼ growth differentiation factor ; hcm ¼ hypertrophic cardiomyopathy ; hocm ¼ hypertrophic obstructive cardiomyopathy . figure 4 comparison of cats with chf to cats with normal hearts . cats with chf ( n ¼ 7 ) had lower gdf-8 levels compared to cats with no heart disease ( p¼0.027 , n ¼ 16 ) ( a ) ; whereas no difference was detected between groups for gdf-11 ( b ) . open circles represent outliers . denotes statistically significant differences . chf ¼ congestive heart failure ; gdf ¼ growth differentiation factor . gdf-8 and gdf-11 in feline hcm 47 figure 5 scatter plots of gdf-8 and gdf-11 levels as a function of age and disease group . individual data points for gdf-8 ( a ) and gdf-11 ( b ) are shown . each patient point is labeled by disease status : blue ( young normal ) , red ( old normal ) , green ( hcm ) , orange ( hocm ) , and yellow ( chf ) . chf ¼ congestive heart failure ; gdf ¼ growth differentiation factor ; hcm ¼ hypertrophic cardiomyopathy ; hocm ¼ hypertrophic obstructive cardiomyopathy . figure 6 scatter plots of gdf-8 and gdf-11 levels as a function of age and sex . individual data points for gdf-8 ( a ) and gdf-11 ( b ) are shown . each patient point is labeled by sex : blue ( male ) and red ( female ) . gdf ¼ growth differentiation factor . figure 7 scatter plots of gdf-8 and gdf-11 levels as a function of weight and disease group . individual data points for gdf-8 ( a ) and gdf-11 ( b ) are shown . each patient point is labeled by disease status : blue ( young normal ) , red ( old normal ) , green ( hcm ) , orange ( hocm ) , and yellow ( chf ) . chf ¼ congestive heart failure ; gdf ¼ growth differentiation factor ; hcm ¼ hypertrophic cardiomyopathy ; hocm ¼ hypertrophic obstructive cardiomyopathy . 48 v.k . yang et al . gdf-8 and gdf-11 in feline hcm 49 the absence of differences in circulating gdf11 levels associated with aging or the development of cardiac hypertrophy is in contrast with previous reports in aging mice , aging humans , and humans with advanced heart disease as classified by the new york heart association class ranking [ 4,10,18 ] . contrary to the studies in mice and humans , the observed ventricular hypertrophy in cats enrolled in this study was secondary to primary hcm and not as a result of aging alone . unpublished observations from the authors ’ laboratory indicate that the age-dependent variations in circulating gdf-8 and gdf-11 in rodents represent changes in specific isoforms of these two proteins rather than the total gdf-8 and gdf-11 levels . changes in specific protein isoforms were not investigated in this study . there are conflicting reports in humans regarding the association between chf and circulating gdf-8 levels . although some studies report decreased gdf-8 levels associated with ischemic or non-ischemic heart failure [ 11,13 ] , others report increased gdf-8 levels with chf secondary to dilated cardiomyopathy or with decompensated chf [ 15,20 ] . in this study , cats with hcm had decreased circulating gdf-8 levels once heart failure had developed . the cause of decreased circulating gdf-8 in cats with chf might be the result of decreased production from either cardiac or skeletal muscle . decreased production from the cardiac tissue might be secondary to loss of cardiomyocytes and increased cardiac fibrosis , which is often found in cats with advanced heart disease . confirmation of these causes for the decreased gdf-8 production would require analysis of heart and muscle tissues . changes in patient body condition score were not observed in cats with chf in this study , although muscle condition scores measuring cachexia were not obtained and thus skeletal muscle loss can not be ruled out . despite the decrease in gdf-8 levels seen in cats with chf , it is unclear if gdf-8 supplementation in cats with chf would be beneficial . the decrease may be a compensatory outcome needed to maintain cardiac function . in this case , gdf-8 supplementation would be detrimental , although increases in gdf-8 have not been shown to negatively affect systolic function . cats with chf had concurrent decreases in gdf-8 level and fractional shortening compared to the other groups ; however , a causative relationship between these two findings can not be established from this study . studies in human patients showed that those in the highest quartile for combined gdf-11 and gdf-8 levels had markedly lower risk of reaching study end-points related to cardiovascular mortality . these studies concluded that gdf-11 and/or gdf-8 protect against adverse cardiovascular events . studies of recombinant gdf-8 supplementation or gdf-8 antagonists might confirm the effect of gdf-8 levels on cardiac function . one of the main limitations of this study is the small sample size . larger sample sizes will be needed to confirm the findings in this study . based on the authors ’ data from this study , detecting a significant difference in gdf-11 levels between young normal cats and cats with hcm or hocm would require 60 patients . as discussed above , tissue analysis might also aid in determining the cause of decreased circulating gdf-8 . this study also did not investigate changes in specific gdf-8 or gdf-11 isoforms but rather measured the total gdf-8 and gdf-11 . lastly , muscle condition data might have provided additional insight into the changes in the gdf-8 level as this protein is found in skeletal muscles in addition to cardiac muscle . conclusions circulating gdf-11 in cats was not associated with age or the development of hcm or chf . a decrease in circulating gdf-8 was found in cats with chf secondary to hcm/hocm . these results suggest that the process by which cardiac hypertrophy develops in laboratory mice may be different from what occurs in cats with hcm or hocm . conflicts of interest statement the authors do not have any conflicts of interest to disclose . acknowledgment the authors thank ms. liming peng for performing the liquid chromatography tandem-mass spectrometry and the morris animal foundation for research funding . supplementary data supplementary data to this article can be found online at jvc.2019.08.002 . 50 v.k . yang et al . references paige cf , abbott ja , elvinger f , pyle rl . prevalence of cardiomyopathy in apparently healthy cats . j am vet med assoc 2009 ; 234:1398e403 . payne jr , brodbelt dc , luis fuentes v. cardiomyopathy prevalence in 780 apparently healthy cats in rehoming centres ( the catscan study ) . j vet cardiol 2015 ; 17 : s244e57 . maron bj , fox pr . hypertrophic cardiomyopathy in man and cats . j vet cardiol 2015 ; 17 : s6e9 . loffredo fs , steinhauser ml , jay sm , gannon j , pancoast jr , yalamanchi p , sinha m , dall ’ osso c , khong d , shadrach jl , miller cm , singer bs , stewart a , psychogios n , gerszten re , hartigan aj , kim mj , serwold t , wagers aj , lee rt . growth differentiation factor 11 is a circulating factor that reverses age-related cardiac hypertrophy . cell 2013 ; 153:828e39 . walker rg , czepnik m , goebel ej , mccoy jc , vujic a , cho m , oh j , aykul s , walton kl , schang g , bernard dj , hinck ap , harrison ca , martinez-hackert e , wagers aj , lee rt , thompson tb . structural basis for potency differences between gdf8 and gdf11 . bmc biol 2017 ; 15:19. walker rg , poggioli t , katsimpardi l , buchanan sm , oh j , wattrus s , heidecker b , fong yw , rubin ll , ganz p , thompsontb , wagers aj , leert.biochemistry andbiologyof gdf11 andmyostatin : similarities , differences , and questions for future investigation . circ res 2016 ; 118:1125e41 . du gq , shao zb , wu j , yin wj , li sh , wu j , weisel rd , tian jw , li rk . targeted myocardial delivery of gdf11 gene rejuvenates the aged mouse heart and enhances myocardial regeneration after ischemia-reperfusion injury . basic res cardiol 2017 ; 112:7. biesemann n , mendler l , wietelmann a , hermann s , schafers m , kruger m , boettger t , borchardt t , braun t. myostatin regulates energy homeostasis in the heart and prevents heart failure . circ res 2014 ; 115:296e310 . mcnally em . questions and answers about myostatin , gdf11 , and the aging heart . circ res 2016 ; 118:6e8 . olson ka , beatty al , heidecker b , regan mc , brody en , foreman t , kato s , mehler re , singer bs , hveem k , dalen h , sterling dg , lawn rm , schiller nb , williams sa , whooley ma , ganz p. association of growth differentiation factor 11/8 , putative anti-ageing factor , with cardiovascular outcomes and overall mortality in humans : analysis of the heart and soul and hunt3 cohorts . eur heart j 2015 ; 36:3426e34 . breitbart a , scharf gm , duncker d , widera c , gottlieb j , vogel a , schmidt s , brandes g , heuft hg , lichtinghagen r , kempf t , wollert kc , bauersachs j , heineke j. highly specific detection of myostatin prodomain by an immunoradiometric sandwich assay in serum of healthy individuals and patients . plos one 2013 ; 8 : e80454 . egerman ma , cadena sm , gilbert ja , meyer a , nelson hn , swalley se , mallozzi c , jacobi c , jennings ll , clay i , laurent g , ma s , brachat s , lach-trifilieff e , shavlakadze t , trendelenburg au , brack as , glass dj . gdf11 increases with age and inhibits skeletal muscle regeneration . cell metabol 2015 ; 22:164e74 . furihata t , kinugawa s , fukushima a , takada s , homma t , masaki y , abe t , yokota t , oba k , okita k , tsutsui h. serum myostatin levels are independently associated with skeletal muscle wasting in patients with heart failure . int j cardiol 2016 ; 220:483e7 . george i , bish lt , kamalakkannan g , petrilli cm , oz mc , naka y , sweeney hl , maybaum s. myostatin activation in patients with advanced heart failure and after mechanical unloading . eur j heart fail 2010 ; 12:444e53 . gruson d , ahn sa , ketelslegers jm , rousseau mf . increased plasma myostatin in heart failure . eur j heart fail 2011 ; 13 : 734e6 . poggioli t , vujic a , yang p , macias-trevino c , uygur a , loffredo fs , pancoast jr , cho m , goldstein j , tandias rm , gonzalez e , walker rg , thompson tb , wagers aj , fong yw , lee rt . circulating growth differentiation factor 11/8 levels decline with age . circ res 2016 ; 118:29e37 . rodgers bd , eldridge ja . reduced circulating gdf11 is unlikely responsible for age-dependent changes in mouse heart , muscle , and brain . endocrinology 2015 ; 156 : 3885e8 . schafer mj , atkinson ej , vanderboom pm , kotajarvi b , white ta , moore mm , bruce cj , greason kl , suri rm , khosla s , miller jd , bergen 3rd hr , lebrasseur nk . quantification of gdf11 and myostatin in human aging and cardiovascular disease . cell metabol 2016 ; 23:1207e15 . sinha m , jang yc , oh j , khong d , wu ey , manohar r , miller c , regalado sg , loffredo fs , pancoast jr , hirshman mf , lebowitz j , shadrach jl , cerletti m , kim mj , serwold t , goodyear lj , rosner b , lee rt , wagers aj . restoring systemic gdf11 levels reverses age-related dysfunction in mouse skeletal muscle . science 2014 ; 344 : 649e52 . wintgens kf , dschietzig t , stoeva s , paulsson m , armbruster fp . plasma myostatin measured by a competitive elisa using a highly specific antiserum . clin chim acta 2012 ; 413:1288e94 . hammers dw , merscham-banda m , hsiao jy , engst s , hartman jj , sweeney hl . supraphysiological levels of gdf11 induce striated muscle atrophy . embo mol med 2017 ; 9:531e44 . smith sc , zhang x , zhang x , gross p , starosta t , mohsin s , franti m , gupta p , hayes d , myzithras m , kahn j , tanner j , weldon sm , khalil a , guo x , sabri a , chen x , macdonnell s , houser sr. gdf11 does not rescue aging-related pathological hypertrophy . circ res 2015 ; 117:926e32 . zimmers ta , jiang y , wang m , liang tw , rupert je , au ed , marino fe , couch me , koniaris lg . exogenous gdf11 induces cardiac and skeletal muscle dysfunction and wasting . basic res cardiol 2017 ; 112:48. zhao y , liu gw , zambito fc , zhang yj , desilva bs , kozhich at , shen jx . a multiplexed immunocapture liquid chromatography tandem mass spectrometry assay for the simultaneous measurement of myostatin and gdf-11 in rat serum using an automated sample preparation platform . anal chim acta 2017 ; 979:36e44 . o ’ leary na , wright mw , brister jr , ciufo s , haddad d , mcveigh r , rajput b , robbertse b , smith-white b , akoadjei d , astashyn a , badretdin a , bao y , blinkova o , brover v , chetvernin v , choi j , cox e , ermolaeva o , farrell cm , goldfarb t , gupta t , haft d , hatcher e , hlavina w , joardar vs , kodali vk , li w , maglott d , masterson p , mcgarvey km , murphy mr , o ’ neill k , pujar s , rangwala sh , rausch d , riddick ld , schoch c , shkeda a , storz ss , sun h , thibaud-nissen f , tolstoy i , tully re , vatsan ar , wallin c , webb d , wu w , landrum mj , kimchi a , tatusova t , dicuccio m , kitts p , murphy td , pruitt kd . reference sequence ( refseq ) database at ncbi : current status , taxonomic expansion , and functional annotation . nucleic acids res 2016 ; 44 : d733e45 . ahn st , suh si , moon h , hyun c. evaluation of growth differentiation factor 11 ( gdf11 ) levels in dogs with gdf-8 and gdf-11 in feline hcm 51 chronic mitral valve insufficiency . can j vet res 2016 ; 80 : 90e2 . jackson bl , adin db , lehmkuhl lb . effect of atenolol on heart rate , arrhythmias , blood pressure , and dynamic left ventricular outflow tract obstruction in cats with subclinical hypertrophic cardiomyopathy . j vet cardiol 2015 ; 17 : s296e305 . available online at www.sciencedirect.com sciencedirect www.sciencedirect.com/science/journal/17602734 plasma growth differentiation factors 8 and 11 levels in cats with congestive heart failure secondary to hypertrophic cardi ... introduction animals , materials and methods results discussion conclusions conflicts of interest statement acknowledgment appendix a. supplementary data references»\n",
            "\n",
            "SIMILAR/DISSIMILAR DOCS PER MODEL Doc2Vec(dm/m,d20,n5,w5,s0.001,t3):\n",
            "MOST: paper_id=j.pharmthera.2017.02.032; index=0.8469412922859192\n",
            "SECOND-MOST: paper_id=S0960-9822(00)80013-5; index=0.7190202474594116\n",
            "MEDIAN: paper_id=fcvm.2019.00140; index=0.47877931594848633\n",
            "LEAST: paper_id=scitranslmed.aau8680; index=0.3033815026283264\n"
          ]
        }
      ],
      "source": [
        "#@markdown Get the most similar document\n",
        "DOC_ID = 92 #@param {type: 'number'}\n",
        "print(f\"Document ({DOC_ID}): «{' '.join(tagged_data[DOC_ID].words)}»\\n\")\n",
        "\n",
        "print(f\"SIMILAR/DISSIMILAR DOCS PER MODEL {model}:\")\n",
        "for label, index in [('MOST', 0), ('SECOND-MOST', 1), ('MEDIAN', len(sims)//2), ('LEAST', len(sims)-1)]:\n",
        "  print(f\"{label}) paper_id={sims[index][0]}; index={sims[index][1]}: {}\")"
      ]
    },
    {
      "cell_type": "code",
      "execution_count": null,
      "metadata": {
        "colab": {
          "base_uri": "https://localhost:8080/"
        },
        "id": "T4ZFGHYADAii",
        "outputId": "5b2d1e31-ec41-453b-d64f-2168a9e7d5a4"
      },
      "outputs": [
        {
          "output_type": "stream",
          "name": "stderr",
          "text": [
            "2022-01-15 03:51:53,232 : INFO : loading Doc2Vec object from d2v.model\n",
            "2022-01-15 03:51:53,711 : INFO : loading vocabulary recursively from d2v.model.vocabulary.* with mmap=None\n",
            "2022-01-15 03:51:53,712 : INFO : loading trainables recursively from d2v.model.trainables.* with mmap=None\n",
            "2022-01-15 03:51:53,716 : INFO : loading wv recursively from d2v.model.wv.* with mmap=None\n",
            "2022-01-15 03:51:53,720 : INFO : loading docvecs recursively from d2v.model.docvecs.* with mmap=None\n",
            "2022-01-15 03:51:53,722 : INFO : loaded d2v.model\n",
            "2022-01-15 03:51:53,933 : INFO : precomputing L2-norms of doc weight vectors\n"
          ]
        },
        {
          "output_type": "stream",
          "name": "stdout",
          "text": [
            "V1_infer:\n",
            " [-0.02856265  0.01224875 -0.04325694 -0.07388379  0.04772583 -0.04615019\n",
            "  0.01310947 -0.2315653   0.02839004  0.12721492 -0.03334247  0.2719835\n",
            "  0.17415883  0.04105621 -0.03831164  0.003886   -0.08989064  0.00315566\n",
            "  0.01621302 -0.05157117]\n",
            "Most similar docs:\n",
            " [('dbio.1998.9191', 0.9510872960090637), ('j.mod.2010.08.004', 0.949094831943512), ('10320', 0.930795431137085), ('gad.1041203', 0.919755220413208), ('jcp.28904', 0.9068231582641602), ('j.ydbio.2010.08.022', 0.9037100076675415), ('sj.embor.7400752', 0.895709216594696), ('dbio.2000.9981', 0.87835294008255), ('j.ydbio.2013.08.025', 0.8719825744628906), ('dvg.20238', 0.8592759370803833)]\n",
            "Vector of doc:\n",
            " [ 6.3090034   3.3144815  -8.01659    -1.853893    5.4467397  -0.20899546\n",
            " -7.966937   -8.896505   -2.6183863   3.6486418   8.662718    2.2587907\n",
            "  1.3619238  -1.3263054   0.8414642   5.8401866  -2.3254719  -4.807281\n",
            " -8.100371    2.5491276 ]\n"
          ]
        }
      ],
      "source": [
        "from gensim.models.doc2vec import Doc2Vec\n",
        "\n",
        "model = Doc2Vec.load(\"d2v.model\")\n",
        "\n",
        "# To find the vector of a document which is not in training data\n",
        "test_sentence = \"Loss of myostatin increases muscle mass.\" #@param {type: 'string'}\n",
        "test_data = word_tokenize(test_sentence.lower())\n",
        "v1 = model.infer_vector(test_data)\n",
        "print(f\"V1_infer:\\n {v1}\")\n",
        "\n",
        "# To find most similar doc using tags\n",
        "similar_doc = model.docvecs.most_similar(2)\n",
        "print(f\"Most similar docs:\\n {similar_doc}\")\n",
        "\n",
        "# To find vector of doc in training data using tags or in other words, printing the vector of document at index 1 in training data\n",
        "print(f\"Vector of doc:\\n {model.docvecs[1]}\")"
      ]
    },
    {
      "cell_type": "code",
      "source": [
        "# Pick a random document from the corpus and infer a vector from the model\n",
        "import random\n",
        "doc_id = random.randint(0, len(tagged_data)-1)\n",
        "\n",
        "# Compare and print the second-most-similar document\n",
        "print(f\"Train Document ({doc_id}): «{' '.join(tagged_data[doc_id].words)}»\\n\")\n",
        "\n",
        "sim_id = second_ranks[doc_id]\n",
        "print(f\"Similar Document ({sim_id[0]}): {sim_id[1]}\")"
      ],
      "metadata": {
        "colab": {
          "base_uri": "https://localhost:8080/"
        },
        "id": "zsJn9vUI3nNY",
        "outputId": "3ce5ca45-c517-4746-9a63-a829f3d6e86b"
      },
      "execution_count": null,
      "outputs": [
        {
          "output_type": "stream",
          "name": "stdout",
          "text": [
            "Train Document (296): «10.1128/mcb.25.14.5846-5858.2005 . 2005 , 25:5846. doi : mol . cell . biol . greenspan gaoxiang ge , delana r. hopkins , wen-bin ho and daniel s. differentiation of pc12 cells can modulate nerve growth factor-induced protein 1-activated latent complex that gdf11 forms a bone morphogenetic updated information and services can be found at : these include :»\n",
            "\n",
            "Similar Document (ncomms12794): 0.6725701689720154\n"
          ]
        }
      ]
    }
  ],
  "metadata": {
    "accelerator": "GPU",
    "colab": {
      "collapsed_sections": [],
      "name": "07_doc2vec-gensim-gdf11-v2.ipynb",
      "provenance": [],
      "authorship_tag": "ABX9TyNWy+yK+g7TWLNsoYmlJwC4",
      "include_colab_link": true
    },
    "kernelspec": {
      "display_name": "Python 3",
      "name": "python3"
    },
    "language_info": {
      "name": "python"
    }
  },
  "nbformat": 4,
  "nbformat_minor": 0
}
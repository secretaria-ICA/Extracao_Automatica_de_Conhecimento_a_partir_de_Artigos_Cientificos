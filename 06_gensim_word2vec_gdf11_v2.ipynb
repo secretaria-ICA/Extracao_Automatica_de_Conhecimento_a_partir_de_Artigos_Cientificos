{
  "nbformat": 4,
  "nbformat_minor": 0,
  "metadata": {
    "colab": {
      "name": "06_gensim-word2vec-gdf11-v2.ipynb",
      "provenance": [],
      "collapsed_sections": [
        "TyQipGjQq3oA"
      ],
      "toc_visible": true,
      "authorship_tag": "ABX9TyME5AGs6JtA4+ECyGHzhvJR",
      "include_colab_link": true
    },
    "kernelspec": {
      "name": "python3",
      "display_name": "Python 3"
    },
    "language_info": {
      "name": "python"
    },
    "accelerator": "GPU"
  },
  "cells": [
    {
      "cell_type": "markdown",
      "metadata": {
        "id": "view-in-github",
        "colab_type": "text"
      },
      "source": [
        "<a href=\"https://colab.research.google.com/github/ajurberg/article-parser/blob/main/06_gensim_word2vec_gdf11_v2.ipynb\" target=\"_parent\"><img src=\"https://colab.research.google.com/assets/colab-badge.svg\" alt=\"Open In Colab\"/></a>"
      ]
    },
    {
      "cell_type": "code",
      "source": [
        "############################# \n",
        "#@title Installation of libraries \n",
        "#############################\n",
        "import os\n",
        "from time import time\n",
        "import re, string, unicodedata\n",
        "from string import punctuation\n",
        "from tqdm import tqdm\n",
        "import pandas as pd\n",
        "import numpy as np\n",
        "import matplotlib.pyplot as plt\n",
        "%matplotlib notebook\n",
        "import seaborn as sns\n",
        "import warnings\n",
        "warnings.filterwarnings('ignore')\n",
        "from collections import defaultdict  # For word frequency"
      ],
      "metadata": {
        "id": "6gDCcelfMqTz"
      },
      "execution_count": 1,
      "outputs": []
    },
    {
      "cell_type": "code",
      "execution_count": 2,
      "metadata": {
        "colab": {
          "base_uri": "https://localhost:8080/"
        },
        "id": "q-7T2rGbMZx-",
        "outputId": "eaf3503e-ae1a-4219-e64c-41062cc3bdd6"
      },
      "outputs": [
        {
          "output_type": "stream",
          "name": "stdout",
          "text": [
            "Mounted at /content/drive\n"
          ]
        }
      ],
      "source": [
        "############################# \n",
        "#@title Mounting Google Drive\n",
        "#############################\n",
        "from google.colab import drive\n",
        "drive._mount('/content/drive')\n",
        "\n",
        "import os\n",
        "workdir_path = '/content/drive/My Drive/papers'\n",
        "os.chdir(workdir_path)"
      ]
    },
    {
      "cell_type": "code",
      "source": [
        "############################# \n",
        "#@title Read json file to dictionary\n",
        "#############################\n",
        "import json\n",
        "\n",
        "with open(\"gdf11-dictionary-word-tokens-stop.json\") as json_file:\n",
        "  gdf11_dict = json.load(json_file)\n",
        "\n",
        "#@markdown Files to evaluate\n",
        "#@markdown - gdf11-dictionary.json (no preprocessing)\n",
        "#@markdown - gdf11-dictionary-sent-tokens.json\n",
        "#@markdown - gdf11-dictionary-sent-tokens-stop.json\n",
        "#@markdown - gdf11-dictionary-word-tokens.json\n",
        "#@markdown - gdf11-dictionary-word-tokens-stop.json"
      ],
      "metadata": {
        "id": "o0SqGqCxNV4v"
      },
      "execution_count": 3,
      "outputs": []
    },
    {
      "cell_type": "code",
      "source": [
        "############################# \n",
        "#@title Gensim Word2Vec\n",
        "#############################\n",
        "#@markdown https://towardsdatascience.com/a-beginners-guide-to-word-embedding-with-gensim-word2vec-model-5970fa56cc92\n",
        "! pip install --upgrade gensim"
      ],
      "metadata": {
        "colab": {
          "base_uri": "https://localhost:8080/"
        },
        "id": "ujz1XWNQN3iL",
        "outputId": "c095ba07-2bc8-4162-ece2-e48e61c9c374"
      },
      "execution_count": 4,
      "outputs": [
        {
          "output_type": "stream",
          "name": "stdout",
          "text": [
            "Requirement already satisfied: gensim in /usr/local/lib/python3.7/dist-packages (3.6.0)\n",
            "Collecting gensim\n",
            "  Downloading gensim-4.1.2-cp37-cp37m-manylinux_2_12_x86_64.manylinux2010_x86_64.whl (24.1 MB)\n",
            "\u001b[K     |████████████████████████████████| 24.1 MB 1.6 MB/s \n",
            "\u001b[?25hRequirement already satisfied: numpy>=1.17.0 in /usr/local/lib/python3.7/dist-packages (from gensim) (1.19.5)\n",
            "Requirement already satisfied: smart-open>=1.8.1 in /usr/local/lib/python3.7/dist-packages (from gensim) (5.2.1)\n",
            "Requirement already satisfied: scipy>=0.18.1 in /usr/local/lib/python3.7/dist-packages (from gensim) (1.4.1)\n",
            "Installing collected packages: gensim\n",
            "  Attempting uninstall: gensim\n",
            "    Found existing installation: gensim 3.6.0\n",
            "    Uninstalling gensim-3.6.0:\n",
            "      Successfully uninstalled gensim-3.6.0\n",
            "Successfully installed gensim-4.1.2\n"
          ]
        }
      ]
    },
    {
      "cell_type": "code",
      "source": [
        "# Additional libraries\n",
        "import spacy  # For preprocessing\n",
        "from gensim.models import Word2Vec\n",
        "import logging  # Setting up the loggings to monitor gensim\n",
        "logging.basicConfig(format=\"%(levelname)s - %(asctime)s: %(message)s\", datefmt= '%H:%M:%S', level=logging.INFO)\n",
        "from sklearn.manifold import TSNE\n",
        "from numpy import dot\n",
        "from numpy.linalg import norm"
      ],
      "metadata": {
        "id": "R67biM88N6-p"
      },
      "execution_count": 5,
      "outputs": []
    },
    {
      "cell_type": "code",
      "source": [
        "############################# \n",
        "#@title Training my own model\n",
        "#############################\n",
        "from gensim.test.utils import datapath\n",
        "from gensim import utils\n",
        "import gensim.models\n",
        "\n",
        "VECTOR_SIZE = 300    #@param {type:\"number\"}\n",
        "#@markdown - `Vector size` refers to the number of dimensions of the embeddings. The default is `100`\n",
        "WINDOW = 5          #@param {type:\"number\"}\n",
        "#@markdown - `Window` refers to the maximum distance between a target word and words around the target word. The default is `5`\n",
        "MIN_COUNT = 5       #@param {type:\"number\"}\n",
        "#@markdown - `min_count` refers to the minimum count of words to consider when training the model. Words with occurrence less than this count will be ignored. The default is `5`\n",
        "WORKERS = 5         #@param {type:\"number\"}\n",
        "#@markdown - `workers` refers to the number of partitions during training. The default is `3`\n",
        "SG = 0              #@param {type:\"number\"}\n",
        "#@markdown - `sg` refers to the training algorithm:\n",
        "#@markdown * `0` for `CBOW` (It uses context to predict a target word)\n",
        "#@markdown * `1` for `skipgram` (It uses a word to predict a target context)\n",
        "\n",
        "model = Word2Vec(sentences=gdf11_dict.values(),\n",
        "                 vector_size=VECTOR_SIZE,\n",
        "                 window=WINDOW,\n",
        "                 min_count=MIN_COUNT,\n",
        "                 workers=WORKERS,\n",
        "                 sg=SG)\n",
        "\n",
        "model.save(\"word2vec-gdf11.model\")"
      ],
      "metadata": {
        "colab": {
          "base_uri": "https://localhost:8080/"
        },
        "id": "qhjjyf8fPe9T",
        "outputId": "29783b24-d5ed-47ff-cc6b-672cc9684728"
      },
      "execution_count": 6,
      "outputs": [
        {
          "output_type": "stream",
          "name": "stderr",
          "text": [
            "INFO - 12:06:04: adding document #0 to Dictionary(0 unique tokens: [])\n",
            "INFO - 12:06:04: built Dictionary(12 unique tokens: ['computer', 'human', 'interface', 'response', 'survey']...) from 9 documents (total 29 corpus positions)\n",
            "INFO - 12:06:04: Dictionary lifecycle event {'msg': \"built Dictionary(12 unique tokens: ['computer', 'human', 'interface', 'response', 'survey']...) from 9 documents (total 29 corpus positions)\", 'datetime': '2022-01-14T12:06:04.279294', 'gensim': '4.1.2', 'python': '3.7.12 (default, Sep 10 2021, 00:21:48) \\n[GCC 7.5.0]', 'platform': 'Linux-5.4.144+-x86_64-with-Ubuntu-18.04-bionic', 'event': 'created'}\n",
            "INFO - 12:06:04: collecting all words and their counts\n",
            "INFO - 12:06:04: PROGRESS: at sentence #0, processed 0 words, keeping 0 word types\n",
            "INFO - 12:06:04: collected 120480 word types from a corpus of 2053928 raw words and 334 sentences\n",
            "INFO - 12:06:04: Creating a fresh vocabulary\n",
            "INFO - 12:06:04: Word2Vec lifecycle event {'msg': 'effective_min_count=5 retains 22739 unique words (18.87367197875166%% of original 120480, drops 97741)', 'datetime': '2022-01-14T12:06:04.936855', 'gensim': '4.1.2', 'python': '3.7.12 (default, Sep 10 2021, 00:21:48) \\n[GCC 7.5.0]', 'platform': 'Linux-5.4.144+-x86_64-with-Ubuntu-18.04-bionic', 'event': 'prepare_vocab'}\n",
            "INFO - 12:06:04: Word2Vec lifecycle event {'msg': 'effective_min_count=5 leaves 1914800 word corpus (93.22624746339696%% of original 2053928, drops 139128)', 'datetime': '2022-01-14T12:06:04.938372', 'gensim': '4.1.2', 'python': '3.7.12 (default, Sep 10 2021, 00:21:48) \\n[GCC 7.5.0]', 'platform': 'Linux-5.4.144+-x86_64-with-Ubuntu-18.04-bionic', 'event': 'prepare_vocab'}\n",
            "INFO - 12:06:05: deleting the raw counts dictionary of 120480 items\n",
            "INFO - 12:06:05: sample=0.001 downsamples 14 most-common words\n",
            "INFO - 12:06:05: Word2Vec lifecycle event {'msg': 'downsampling leaves estimated 1481670.3799247374 word corpus (77.4%% of prior 1914800)', 'datetime': '2022-01-14T12:06:05.099837', 'gensim': '4.1.2', 'python': '3.7.12 (default, Sep 10 2021, 00:21:48) \\n[GCC 7.5.0]', 'platform': 'Linux-5.4.144+-x86_64-with-Ubuntu-18.04-bionic', 'event': 'prepare_vocab'}\n",
            "INFO - 12:06:05: estimated required memory for 22739 words and 300 dimensions: 65943100 bytes\n",
            "INFO - 12:06:05: resetting layer weights\n",
            "INFO - 12:06:05: Word2Vec lifecycle event {'update': False, 'trim_rule': 'None', 'datetime': '2022-01-14T12:06:05.443189', 'gensim': '4.1.2', 'python': '3.7.12 (default, Sep 10 2021, 00:21:48) \\n[GCC 7.5.0]', 'platform': 'Linux-5.4.144+-x86_64-with-Ubuntu-18.04-bionic', 'event': 'build_vocab'}\n",
            "INFO - 12:06:05: Word2Vec lifecycle event {'msg': 'training model with 5 workers on 22739 vocabulary and 300 features, using sg=0 hs=0 sample=0.001 negative=5 window=5 shrink_windows=True', 'datetime': '2022-01-14T12:06:05.444777', 'gensim': '4.1.2', 'python': '3.7.12 (default, Sep 10 2021, 00:21:48) \\n[GCC 7.5.0]', 'platform': 'Linux-5.4.144+-x86_64-with-Ubuntu-18.04-bionic', 'event': 'train'}\n",
            "INFO - 12:06:06: EPOCH 1 - PROGRESS: at 23.05% examples, 374099 words/s, in_qsize 9, out_qsize 0\n",
            "INFO - 12:06:07: EPOCH 1 - PROGRESS: at 49.70% examples, 380781 words/s, in_qsize 9, out_qsize 0\n",
            "INFO - 12:06:08: EPOCH 1 - PROGRESS: at 79.64% examples, 384091 words/s, in_qsize 6, out_qsize 3\n",
            "INFO - 12:06:09: worker thread finished; awaiting finish of 4 more threads\n",
            "INFO - 12:06:09: worker thread finished; awaiting finish of 3 more threads\n",
            "INFO - 12:06:09: worker thread finished; awaiting finish of 2 more threads\n",
            "INFO - 12:06:09: worker thread finished; awaiting finish of 1 more threads\n",
            "INFO - 12:06:09: worker thread finished; awaiting finish of 0 more threads\n",
            "INFO - 12:06:09: EPOCH - 1 : training on 2053928 raw words (1459874 effective words) took 3.7s, 389425 effective words/s\n",
            "INFO - 12:06:10: EPOCH 2 - PROGRESS: at 22.46% examples, 363223 words/s, in_qsize 7, out_qsize 2\n",
            "INFO - 12:06:11: EPOCH 2 - PROGRESS: at 50.30% examples, 381595 words/s, in_qsize 9, out_qsize 0\n",
            "INFO - 12:06:12: EPOCH 2 - PROGRESS: at 80.84% examples, 391684 words/s, in_qsize 9, out_qsize 0\n",
            "INFO - 12:06:12: worker thread finished; awaiting finish of 4 more threads\n",
            "INFO - 12:06:12: worker thread finished; awaiting finish of 3 more threads\n",
            "INFO - 12:06:12: worker thread finished; awaiting finish of 2 more threads\n",
            "INFO - 12:06:12: worker thread finished; awaiting finish of 1 more threads\n",
            "INFO - 12:06:12: worker thread finished; awaiting finish of 0 more threads\n",
            "INFO - 12:06:12: EPOCH - 2 : training on 2053928 raw words (1459707 effective words) took 3.7s, 392558 effective words/s\n",
            "INFO - 12:06:13: EPOCH 3 - PROGRESS: at 23.65% examples, 376526 words/s, in_qsize 9, out_qsize 0\n",
            "INFO - 12:06:15: EPOCH 3 - PROGRESS: at 51.80% examples, 383791 words/s, in_qsize 9, out_qsize 0\n",
            "INFO - 12:06:16: EPOCH 3 - PROGRESS: at 82.63% examples, 393935 words/s, in_qsize 9, out_qsize 0\n",
            "INFO - 12:06:16: worker thread finished; awaiting finish of 4 more threads\n",
            "INFO - 12:06:16: worker thread finished; awaiting finish of 3 more threads\n",
            "INFO - 12:06:16: worker thread finished; awaiting finish of 2 more threads\n",
            "INFO - 12:06:16: worker thread finished; awaiting finish of 1 more threads\n",
            "INFO - 12:06:16: worker thread finished; awaiting finish of 0 more threads\n",
            "INFO - 12:06:16: EPOCH - 3 : training on 2053928 raw words (1459978 effective words) took 3.7s, 393233 effective words/s\n",
            "INFO - 12:06:17: EPOCH 4 - PROGRESS: at 22.46% examples, 364968 words/s, in_qsize 6, out_qsize 3\n",
            "INFO - 12:06:18: EPOCH 4 - PROGRESS: at 50.30% examples, 382278 words/s, in_qsize 9, out_qsize 0\n",
            "INFO - 12:06:19: EPOCH 4 - PROGRESS: at 79.64% examples, 382791 words/s, in_qsize 9, out_qsize 0\n",
            "INFO - 12:06:20: worker thread finished; awaiting finish of 4 more threads\n",
            "INFO - 12:06:20: worker thread finished; awaiting finish of 3 more threads\n",
            "INFO - 12:06:20: worker thread finished; awaiting finish of 2 more threads\n",
            "INFO - 12:06:20: worker thread finished; awaiting finish of 1 more threads\n",
            "INFO - 12:06:20: worker thread finished; awaiting finish of 0 more threads\n",
            "INFO - 12:06:20: EPOCH - 4 : training on 2053928 raw words (1459644 effective words) took 3.8s, 387204 effective words/s\n",
            "INFO - 12:06:21: EPOCH 5 - PROGRESS: at 23.95% examples, 373118 words/s, in_qsize 9, out_qsize 0\n",
            "INFO - 12:06:22: EPOCH 5 - PROGRESS: at 50.90% examples, 378705 words/s, in_qsize 6, out_qsize 3\n",
            "INFO - 12:06:23: EPOCH 5 - PROGRESS: at 82.04% examples, 391587 words/s, in_qsize 10, out_qsize 1\n",
            "INFO - 12:06:24: worker thread finished; awaiting finish of 4 more threads\n",
            "INFO - 12:06:24: worker thread finished; awaiting finish of 3 more threads\n",
            "INFO - 12:06:24: worker thread finished; awaiting finish of 2 more threads\n",
            "INFO - 12:06:24: worker thread finished; awaiting finish of 1 more threads\n",
            "INFO - 12:06:24: worker thread finished; awaiting finish of 0 more threads\n",
            "INFO - 12:06:24: EPOCH - 5 : training on 2053928 raw words (1459145 effective words) took 3.7s, 391205 effective words/s\n",
            "INFO - 12:06:24: Word2Vec lifecycle event {'msg': 'training on 10269640 raw words (7298348 effective words) took 18.7s, 389748 effective words/s', 'datetime': '2022-01-14T12:06:24.171961', 'gensim': '4.1.2', 'python': '3.7.12 (default, Sep 10 2021, 00:21:48) \\n[GCC 7.5.0]', 'platform': 'Linux-5.4.144+-x86_64-with-Ubuntu-18.04-bionic', 'event': 'train'}\n",
            "INFO - 12:06:24: Word2Vec lifecycle event {'params': 'Word2Vec(vocab=22739, vector_size=300, alpha=0.025)', 'datetime': '2022-01-14T12:06:24.173216', 'gensim': '4.1.2', 'python': '3.7.12 (default, Sep 10 2021, 00:21:48) \\n[GCC 7.5.0]', 'platform': 'Linux-5.4.144+-x86_64-with-Ubuntu-18.04-bionic', 'event': 'created'}\n",
            "INFO - 12:06:24: Word2Vec lifecycle event {'fname_or_handle': 'word2vec-gdf11.model', 'separately': 'None', 'sep_limit': 10485760, 'ignore': frozenset(), 'datetime': '2022-01-14T12:06:24.175495', 'gensim': '4.1.2', 'python': '3.7.12 (default, Sep 10 2021, 00:21:48) \\n[GCC 7.5.0]', 'platform': 'Linux-5.4.144+-x86_64-with-Ubuntu-18.04-bionic', 'event': 'saving'}\n",
            "INFO - 12:06:24: not storing attribute cum_table\n",
            "INFO - 12:06:24: saved word2vec-gdf11.model\n"
          ]
        }
      ]
    },
    {
      "cell_type": "code",
      "source": [
        "############################# \n",
        "#@markdown Check a vector\n",
        "#############################\n",
        "model.wv['gdf11']"
      ],
      "metadata": {
        "colab": {
          "base_uri": "https://localhost:8080/"
        },
        "id": "up9f2ZHPd-km",
        "outputId": "21535c02-2208-4b55-da9a-0984225ab841"
      },
      "execution_count": 7,
      "outputs": [
        {
          "output_type": "execute_result",
          "data": {
            "text/plain": [
              "array([ 8.55391204e-01, -1.17127693e+00,  1.27076221e+00, -2.09399998e-01,\n",
              "        1.17441797e+00,  4.02217776e-01, -1.28754988e-01,  1.12219691e+00,\n",
              "       -3.23373437e-01, -3.46205145e-01, -3.25536311e-01, -7.16323555e-01,\n",
              "       -8.91941965e-01,  9.94546175e-01,  1.95518628e-01, -3.57595176e-01,\n",
              "       -1.28316612e-03,  5.54993115e-02,  4.88786161e-01,  9.68710423e-01,\n",
              "       -1.98837463e-02, -1.41076267e-01, -1.73634171e-01,  2.17992544e-01,\n",
              "        3.06868821e-01,  1.01916897e+00,  1.17618799e-01,  7.75641561e-01,\n",
              "        9.55798477e-02,  1.16615689e+00,  6.68043122e-02,  2.87640661e-01,\n",
              "        9.70035940e-02,  2.82339215e-01, -2.46156156e-01, -1.37019753e+00,\n",
              "       -7.81340599e-01, -4.87000465e-01,  7.92462826e-02,  2.10099295e-01,\n",
              "        2.99756914e-01,  8.80795419e-02, -2.46069133e-01, -8.56768936e-02,\n",
              "       -7.04549611e-01, -1.22135091e+00, -1.24267980e-01, -9.69487548e-01,\n",
              "        1.92252681e-01,  1.22286908e-01, -1.09153621e-01, -1.15600586e+00,\n",
              "       -1.24028766e+00,  5.12743235e-01, -4.37589772e-02,  2.54712939e-01,\n",
              "       -2.63117880e-01, -1.58999845e-01,  1.64432853e-01,  8.82744908e-01,\n",
              "       -1.03542793e+00, -2.85243392e-02,  1.71546781e+00,  1.64598390e-03,\n",
              "       -4.93713230e-01,  1.20375848e+00, -1.05238929e-01,  7.11361766e-02,\n",
              "       -1.20147443e+00, -6.21615648e-01,  3.93699497e-01,  1.82736248e-01,\n",
              "       -1.91277876e-01, -1.11369097e+00, -2.06232876e-01, -2.24423427e-02,\n",
              "        4.46299911e-02,  9.55906272e-01, -4.44394797e-01,  1.84840664e-01,\n",
              "       -1.56020069e+00,  1.14283335e+00, -5.91487944e-01, -5.82183599e-01,\n",
              "       -5.49764931e-01, -1.37863064e+00,  8.86834681e-01, -1.30319238e+00,\n",
              "       -1.59331834e+00, -4.78830874e-01,  8.38738739e-01, -3.07853371e-01,\n",
              "        7.99922109e-01, -4.73189443e-01,  8.01145673e-01, -8.50368738e-02,\n",
              "        1.23031294e+00, -2.07240537e-01,  9.15450037e-01,  1.15565729e+00,\n",
              "       -2.75850315e-02,  1.48102486e+00, -7.26698875e-01,  1.79683074e-01,\n",
              "       -1.03857291e+00,  2.63175547e-01, -7.99578309e-01, -1.09505069e+00,\n",
              "       -7.19650984e-02, -2.29093656e-01, -4.78762448e-01,  3.70332450e-01,\n",
              "        2.04063281e-01, -4.47230607e-01, -1.04519136e-01,  5.91055870e-01,\n",
              "        8.32039714e-01,  2.34938741e-01, -1.06203854e+00, -3.84542853e-01,\n",
              "       -1.98657870e-01, -2.78209448e-01, -1.83863908e-01, -6.29292428e-01,\n",
              "        3.20774376e-01,  1.24461663e+00, -6.34334266e-01,  3.58008265e-01,\n",
              "       -5.61444759e-01,  8.49658728e-01, -4.70229208e-01,  7.51758516e-01,\n",
              "        1.61376143e+00,  4.69986826e-01,  4.64255095e-01, -3.89960080e-01,\n",
              "       -1.02642596e+00,  2.77111679e-01, -1.89899374e-02,  3.41851860e-01,\n",
              "       -1.14216939e-01,  6.50419220e-02,  3.59708726e-01,  8.46595109e-01,\n",
              "       -6.54456675e-01, -1.13296604e+00, -1.34820950e+00,  1.36352465e-01,\n",
              "        8.62229764e-01, -2.18554109e-01, -5.00662565e-01, -3.18633556e-01,\n",
              "       -3.01989079e-01, -2.93460041e-01,  2.66693592e-01,  7.61073172e-01,\n",
              "        5.99330306e-01,  4.13188338e-01,  6.72124922e-01, -6.16522133e-01,\n",
              "        7.91269898e-01,  3.43305320e-01,  6.42253399e-01,  1.14104366e+00,\n",
              "       -1.07289815e+00, -2.11962432e-01, -6.28062844e-01,  6.14776850e-01,\n",
              "       -5.33801258e-01, -9.04696658e-02,  8.42429042e-01, -8.61303210e-01,\n",
              "       -1.10254437e-01,  7.50386477e-01,  9.76252377e-01,  1.35850519e-01,\n",
              "        1.16199684e+00, -2.64920771e-01,  8.89243092e-03, -5.99995792e-01,\n",
              "       -1.06688462e-01, -3.71589452e-01,  1.49351370e+00,  9.27183330e-01,\n",
              "       -1.31088391e-01,  7.49628127e-01, -2.55278111e-01,  5.89806139e-01,\n",
              "        1.48584798e-01, -4.78963345e-01,  8.60706210e-01,  1.14721239e+00,\n",
              "        2.93993980e-01,  1.11272979e+00, -1.63246095e+00, -9.17324066e-01,\n",
              "       -6.73589230e-01,  3.95766586e-01, -2.03022987e-01, -1.05253039e-02,\n",
              "        3.28149676e-01,  5.61602056e-01,  8.66972208e-01,  5.61430216e-01,\n",
              "        2.75039732e-01, -8.98649514e-01,  3.51882309e-01,  4.10313636e-01,\n",
              "        1.62361014e+00, -7.34350145e-01,  2.04724655e-01, -1.79079938e+00,\n",
              "        9.22536194e-01, -1.15853083e+00, -3.73896986e-01,  1.00035198e-01,\n",
              "        7.82572865e-01, -1.08354318e+00,  2.39941224e-01,  3.23307037e-01,\n",
              "        2.43261844e-01,  4.09128755e-01, -2.48052657e-01, -5.36352038e-01,\n",
              "       -8.89450371e-01,  5.09831727e-01, -4.01034176e-01, -1.70118079e-01,\n",
              "        2.96457350e-01, -1.44116652e+00, -1.23671532e+00, -3.15806299e-01,\n",
              "        3.55257124e-01, -3.74523193e-01,  5.50028026e-01,  1.53717294e-01,\n",
              "       -4.28324053e-03, -9.39818919e-02,  8.75534832e-01,  7.31370673e-02,\n",
              "        5.82841873e-01, -3.00626397e-01,  8.44378650e-01,  1.43575931e+00,\n",
              "        1.21215427e+00,  2.24007535e+00, -8.85782123e-01, -7.78891087e-01,\n",
              "       -6.41574562e-01, -2.06662551e-01, -8.54429245e-01, -9.32513550e-02,\n",
              "       -4.43728060e-01, -1.07754397e+00, -4.16281343e-01,  4.79118675e-01,\n",
              "        1.25059950e+00, -4.93082047e-01,  5.28077856e-02, -2.21870065e-01,\n",
              "       -5.66299856e-01,  7.76792765e-01,  3.51395249e-01,  4.64333057e-01,\n",
              "       -1.49341792e-01,  6.93126917e-01, -2.96206594e-01,  2.44100362e-01,\n",
              "       -4.54533607e-01, -8.68104517e-01, -1.20323908e+00,  8.32118809e-01,\n",
              "        8.82173479e-01,  7.17203796e-01,  1.28388190e+00, -2.18699485e-01,\n",
              "       -1.64291158e-01, -8.22157741e-01, -7.58460104e-01,  4.04164404e-01,\n",
              "       -2.33777690e+00, -5.11369526e-01,  6.07753277e-01,  2.33884692e-01,\n",
              "        1.73716903e-01,  8.98179352e-01, -2.66222566e-01, -3.84183884e-01,\n",
              "       -2.87568152e-01, -1.14836073e+00,  1.42895222e+00,  9.12925184e-01,\n",
              "        5.98239720e-01,  1.68120480e+00,  1.27536511e+00, -8.54553729e-02,\n",
              "        6.91007748e-02,  1.17372465e+00,  1.33435726e+00,  5.58647551e-02],\n",
              "      dtype=float32)"
            ]
          },
          "metadata": {},
          "execution_count": 7
        }
      ]
    },
    {
      "cell_type": "code",
      "source": [
        "############################# \n",
        "#@markdown To obtain vectors for terms the model is familiar with\n",
        "#############################\n",
        "WORD = 'gdf11'    #@param {type:\"string\"}\n",
        "\n",
        "try:\n",
        "  print(model.wv[WORD.lower()])\n",
        "except KeyError:\n",
        "  print(f\"The word {WORD} does not appear in this model.\")"
      ],
      "metadata": {
        "colab": {
          "base_uri": "https://localhost:8080/"
        },
        "id": "ER34Zu91YE7N",
        "outputId": "0e93c3fa-8efe-456c-d65d-3dd733fc0bfc"
      },
      "execution_count": 8,
      "outputs": [
        {
          "output_type": "stream",
          "name": "stdout",
          "text": [
            "[ 8.55391204e-01 -1.17127693e+00  1.27076221e+00 -2.09399998e-01\n",
            "  1.17441797e+00  4.02217776e-01 -1.28754988e-01  1.12219691e+00\n",
            " -3.23373437e-01 -3.46205145e-01 -3.25536311e-01 -7.16323555e-01\n",
            " -8.91941965e-01  9.94546175e-01  1.95518628e-01 -3.57595176e-01\n",
            " -1.28316612e-03  5.54993115e-02  4.88786161e-01  9.68710423e-01\n",
            " -1.98837463e-02 -1.41076267e-01 -1.73634171e-01  2.17992544e-01\n",
            "  3.06868821e-01  1.01916897e+00  1.17618799e-01  7.75641561e-01\n",
            "  9.55798477e-02  1.16615689e+00  6.68043122e-02  2.87640661e-01\n",
            "  9.70035940e-02  2.82339215e-01 -2.46156156e-01 -1.37019753e+00\n",
            " -7.81340599e-01 -4.87000465e-01  7.92462826e-02  2.10099295e-01\n",
            "  2.99756914e-01  8.80795419e-02 -2.46069133e-01 -8.56768936e-02\n",
            " -7.04549611e-01 -1.22135091e+00 -1.24267980e-01 -9.69487548e-01\n",
            "  1.92252681e-01  1.22286908e-01 -1.09153621e-01 -1.15600586e+00\n",
            " -1.24028766e+00  5.12743235e-01 -4.37589772e-02  2.54712939e-01\n",
            " -2.63117880e-01 -1.58999845e-01  1.64432853e-01  8.82744908e-01\n",
            " -1.03542793e+00 -2.85243392e-02  1.71546781e+00  1.64598390e-03\n",
            " -4.93713230e-01  1.20375848e+00 -1.05238929e-01  7.11361766e-02\n",
            " -1.20147443e+00 -6.21615648e-01  3.93699497e-01  1.82736248e-01\n",
            " -1.91277876e-01 -1.11369097e+00 -2.06232876e-01 -2.24423427e-02\n",
            "  4.46299911e-02  9.55906272e-01 -4.44394797e-01  1.84840664e-01\n",
            " -1.56020069e+00  1.14283335e+00 -5.91487944e-01 -5.82183599e-01\n",
            " -5.49764931e-01 -1.37863064e+00  8.86834681e-01 -1.30319238e+00\n",
            " -1.59331834e+00 -4.78830874e-01  8.38738739e-01 -3.07853371e-01\n",
            "  7.99922109e-01 -4.73189443e-01  8.01145673e-01 -8.50368738e-02\n",
            "  1.23031294e+00 -2.07240537e-01  9.15450037e-01  1.15565729e+00\n",
            " -2.75850315e-02  1.48102486e+00 -7.26698875e-01  1.79683074e-01\n",
            " -1.03857291e+00  2.63175547e-01 -7.99578309e-01 -1.09505069e+00\n",
            " -7.19650984e-02 -2.29093656e-01 -4.78762448e-01  3.70332450e-01\n",
            "  2.04063281e-01 -4.47230607e-01 -1.04519136e-01  5.91055870e-01\n",
            "  8.32039714e-01  2.34938741e-01 -1.06203854e+00 -3.84542853e-01\n",
            " -1.98657870e-01 -2.78209448e-01 -1.83863908e-01 -6.29292428e-01\n",
            "  3.20774376e-01  1.24461663e+00 -6.34334266e-01  3.58008265e-01\n",
            " -5.61444759e-01  8.49658728e-01 -4.70229208e-01  7.51758516e-01\n",
            "  1.61376143e+00  4.69986826e-01  4.64255095e-01 -3.89960080e-01\n",
            " -1.02642596e+00  2.77111679e-01 -1.89899374e-02  3.41851860e-01\n",
            " -1.14216939e-01  6.50419220e-02  3.59708726e-01  8.46595109e-01\n",
            " -6.54456675e-01 -1.13296604e+00 -1.34820950e+00  1.36352465e-01\n",
            "  8.62229764e-01 -2.18554109e-01 -5.00662565e-01 -3.18633556e-01\n",
            " -3.01989079e-01 -2.93460041e-01  2.66693592e-01  7.61073172e-01\n",
            "  5.99330306e-01  4.13188338e-01  6.72124922e-01 -6.16522133e-01\n",
            "  7.91269898e-01  3.43305320e-01  6.42253399e-01  1.14104366e+00\n",
            " -1.07289815e+00 -2.11962432e-01 -6.28062844e-01  6.14776850e-01\n",
            " -5.33801258e-01 -9.04696658e-02  8.42429042e-01 -8.61303210e-01\n",
            " -1.10254437e-01  7.50386477e-01  9.76252377e-01  1.35850519e-01\n",
            "  1.16199684e+00 -2.64920771e-01  8.89243092e-03 -5.99995792e-01\n",
            " -1.06688462e-01 -3.71589452e-01  1.49351370e+00  9.27183330e-01\n",
            " -1.31088391e-01  7.49628127e-01 -2.55278111e-01  5.89806139e-01\n",
            "  1.48584798e-01 -4.78963345e-01  8.60706210e-01  1.14721239e+00\n",
            "  2.93993980e-01  1.11272979e+00 -1.63246095e+00 -9.17324066e-01\n",
            " -6.73589230e-01  3.95766586e-01 -2.03022987e-01 -1.05253039e-02\n",
            "  3.28149676e-01  5.61602056e-01  8.66972208e-01  5.61430216e-01\n",
            "  2.75039732e-01 -8.98649514e-01  3.51882309e-01  4.10313636e-01\n",
            "  1.62361014e+00 -7.34350145e-01  2.04724655e-01 -1.79079938e+00\n",
            "  9.22536194e-01 -1.15853083e+00 -3.73896986e-01  1.00035198e-01\n",
            "  7.82572865e-01 -1.08354318e+00  2.39941224e-01  3.23307037e-01\n",
            "  2.43261844e-01  4.09128755e-01 -2.48052657e-01 -5.36352038e-01\n",
            " -8.89450371e-01  5.09831727e-01 -4.01034176e-01 -1.70118079e-01\n",
            "  2.96457350e-01 -1.44116652e+00 -1.23671532e+00 -3.15806299e-01\n",
            "  3.55257124e-01 -3.74523193e-01  5.50028026e-01  1.53717294e-01\n",
            " -4.28324053e-03 -9.39818919e-02  8.75534832e-01  7.31370673e-02\n",
            "  5.82841873e-01 -3.00626397e-01  8.44378650e-01  1.43575931e+00\n",
            "  1.21215427e+00  2.24007535e+00 -8.85782123e-01 -7.78891087e-01\n",
            " -6.41574562e-01 -2.06662551e-01 -8.54429245e-01 -9.32513550e-02\n",
            " -4.43728060e-01 -1.07754397e+00 -4.16281343e-01  4.79118675e-01\n",
            "  1.25059950e+00 -4.93082047e-01  5.28077856e-02 -2.21870065e-01\n",
            " -5.66299856e-01  7.76792765e-01  3.51395249e-01  4.64333057e-01\n",
            " -1.49341792e-01  6.93126917e-01 -2.96206594e-01  2.44100362e-01\n",
            " -4.54533607e-01 -8.68104517e-01 -1.20323908e+00  8.32118809e-01\n",
            "  8.82173479e-01  7.17203796e-01  1.28388190e+00 -2.18699485e-01\n",
            " -1.64291158e-01 -8.22157741e-01 -7.58460104e-01  4.04164404e-01\n",
            " -2.33777690e+00 -5.11369526e-01  6.07753277e-01  2.33884692e-01\n",
            "  1.73716903e-01  8.98179352e-01 -2.66222566e-01 -3.84183884e-01\n",
            " -2.87568152e-01 -1.14836073e+00  1.42895222e+00  9.12925184e-01\n",
            "  5.98239720e-01  1.68120480e+00  1.27536511e+00 -8.54553729e-02\n",
            "  6.91007748e-02  1.17372465e+00  1.33435726e+00  5.58647551e-02]\n"
          ]
        }
      ]
    },
    {
      "cell_type": "code",
      "source": [
        "############################# \n",
        "#@markdown Retrieve vocabulary\n",
        "#############################\n",
        "for index, word in enumerate(model.wv.index_to_key):\n",
        "  if index == 10:\n",
        "    break\n",
        "  print(f\"word #{index+1}/{len(model.wv.index_to_key)} is {word}\")"
      ],
      "metadata": {
        "colab": {
          "base_uri": "https://localhost:8080/"
        },
        "id": "WQe1A6XWeP0T",
        "outputId": "6c285385-fc32-43fc-eeaa-4a1e405652ae"
      },
      "execution_count": 9,
      "outputs": [
        {
          "output_type": "stream",
          "name": "stdout",
          "text": [
            "word #1/22739 is ,\n",
            "word #2/22739 is .\n",
            "word #3/22739 is )\n",
            "word #4/22739 is (\n",
            "word #5/22739 is gdf11\n",
            "word #6/22739 is ;\n",
            "word #7/22739 is :\n",
            "word #8/22739 is cells\n",
            "word #9/22739 is expression\n",
            "word #10/22739 is mice\n"
          ]
        }
      ]
    },
    {
      "cell_type": "code",
      "source": [
        "############################# \n",
        "#@markdown Compute similarities\n",
        "#############################\n",
        "WORD_1 = 'gdf11'    #@param {type:\"string\"}\n",
        "WORD_2 = 'bmp11'     #@param {type:\"string\"}\n",
        "\n",
        "try:\n",
        "  print(model.wv.similarity(WORD_1.lower(), WORD_2.lower()))\n",
        "except KeyError:\n",
        "  print(f\"Word not present\")"
      ],
      "metadata": {
        "colab": {
          "base_uri": "https://localhost:8080/"
        },
        "id": "1pXKDUPvRsJ4",
        "outputId": "beff17e6-50c3-4160-8049-3be007246c59"
      },
      "execution_count": 10,
      "outputs": [
        {
          "output_type": "stream",
          "name": "stdout",
          "text": [
            "0.5267656\n"
          ]
        }
      ]
    },
    {
      "cell_type": "code",
      "source": [
        "############################# \n",
        "#@markdown Print the most similar words\n",
        "#############################\n",
        "WORD = 'gdf11'    #@param {type:\"string\"}\n",
        "TOPN = 5          #@param {type:\"number\"}\n",
        "#@markdown - `TOPN` refers to the number of words\n",
        "\n",
        "print(model.wv.most_similar(positive=[WORD.lower()], topn=TOPN))\n",
        "# Based on Euclidean distance - it does not work well for high-dimensional word vectors\n",
        "# Euclidean similarity increases as the number of dimensions increases"
      ],
      "metadata": {
        "colab": {
          "base_uri": "https://localhost:8080/"
        },
        "id": "vjOW68G6iX6s",
        "outputId": "8c6dbbb6-d2b3-4468-e965-059df23ee515"
      },
      "execution_count": 11,
      "outputs": [
        {
          "output_type": "stream",
          "name": "stdout",
          "text": [
            "[('rgdf11', 0.6043880581855774), ('gdf-11', 0.5938850045204163), ('fto', 0.5570193529129028), ('exogenous', 0.548626720905304), ('opposite', 0.5396591424942017)]\n"
          ]
        }
      ]
    },
    {
      "cell_type": "code",
      "source": [
        "############################# \n",
        "#@markdown Cosine similarity between two words\n",
        "#############################\n",
        "WORD_1 = 'gdf11'    #@param {type:\"string\"}\n",
        "WORD_2 = 'bmp11'    #@param {type:\"string\"}\n",
        "\n",
        "cosine_similarity = np.dot(model.wv[WORD_1], model.wv[WORD_2])/(np.linalg.norm(model.wv[WORD_1]) * np.linalg.norm(model.wv[WORD_2]))\n",
        "print(f\"cosine similarity between '{WORD_1}' and '{WORD_2}': {cosine_similarity}\")"
      ],
      "metadata": {
        "colab": {
          "base_uri": "https://localhost:8080/"
        },
        "id": "APoEWtT0f1qF",
        "outputId": "0c3e1f3b-5622-4edf-818e-1e9483954855"
      },
      "execution_count": 24,
      "outputs": [
        {
          "output_type": "stream",
          "name": "stdout",
          "text": [
            "cosine similarity between 'gdf11' and 'bmp11': 0.5267656445503235\n"
          ]
        }
      ]
    },
    {
      "cell_type": "code",
      "source": [
        "############################# \n",
        "#@markdown Cosine similarity between vector lists\n",
        "#############################\n",
        "# It measures the cosine of the angle between two vectors projected in a multi-dimensional space\n",
        "# It captures the angle of the word vectors (not the magnitude)\n",
        "# No similarity is expressed as a 90-degree angle \n",
        "# Total similarity of 1 is at a 0-degree angle\n",
        "\n",
        "def cosine_distance(model, word, target_list, num):\n",
        "  cosine_dict ={}\n",
        "  word_list = []\n",
        "  a = model.wv[word]\n",
        "  for item in target_list:\n",
        "    if item != word:\n",
        "      b = model.wv[item]\n",
        "      cos_sim = dot(a, b)/(norm(a)*norm(b))\n",
        "      cosine_dict[item] = cos_sim\n",
        "  dist_sort=sorted(cosine_dict.items(), key=lambda dist: dist[1],reverse = True) ## in Descending order \n",
        "  \n",
        "  for item in dist_sort:\n",
        "    word_list.append((item[0], item[1]))\n",
        "  return word_list[0:num]\n",
        "\n",
        "# Target list\n",
        "target_list = ['cell', 'bmp11', 'apoptosis', 'dna', 'phagocytosis', 'migration', 'aging']\n",
        "\n",
        "# Show the most similar word by cosine distance\n",
        "WORD = 'gdf11'    #@param {type:\"string\"}\n",
        "cosine_distance(model, WORD, target_list, 5)\n"
      ],
      "metadata": {
        "colab": {
          "base_uri": "https://localhost:8080/"
        },
        "id": "_LGoz-oDYOyM",
        "outputId": "0f3fc6ec-dbbb-4cf2-e25a-fcba9b7dacb7"
      },
      "execution_count": 21,
      "outputs": [
        {
          "output_type": "execute_result",
          "data": {
            "text/plain": [
              "[('bmp11', 0.52676564),\n",
              " ('aging', 0.30453503),\n",
              " ('apoptosis', 0.2983984),\n",
              " ('migration', 0.27337718),\n",
              " ('phagocytosis', 0.12151204)]"
            ]
          },
          "metadata": {},
          "execution_count": 21
        }
      ]
    },
    {
      "cell_type": "code",
      "source": [
        "############################# \n",
        "#@title Model Evaluation\n",
        "#############################\n",
        "model.wv.evaluate_word_pairs(datapath('wordsim353.tsv'))"
      ],
      "metadata": {
        "colab": {
          "base_uri": "https://localhost:8080/"
        },
        "id": "IKLOKaCjkUu7",
        "outputId": "fefb6025-0691-46ce-d0a7-e04a74f01bf6"
      },
      "execution_count": 15,
      "outputs": [
        {
          "output_type": "stream",
          "name": "stderr",
          "text": [
            "INFO - 12:08:14: Pearson correlation coefficient against /usr/local/lib/python3.7/dist-packages/gensim/test/test_data/wordsim353.tsv: 0.0925\n",
            "INFO - 12:08:14: Spearman rank-order correlation coefficient against /usr/local/lib/python3.7/dist-packages/gensim/test/test_data/wordsim353.tsv: 0.0929\n",
            "INFO - 12:08:14: Pairs with unknown words ratio: 72.0%\n"
          ]
        },
        {
          "output_type": "execute_result",
          "data": {
            "text/plain": [
              "((0.09252733547396436, 0.3623485117921968),\n",
              " SpearmanrResult(correlation=0.09292919306389757, pvalue=0.36025857687026386),\n",
              " 71.95467422096317)"
            ]
          },
          "metadata": {},
          "execution_count": 15
        }
      ]
    },
    {
      "cell_type": "code",
      "source": [
        "############################# \n",
        "#@title t-SNE visualization\n",
        "#############################\n",
        "! pip install scikit-learn==0.19.0"
      ],
      "metadata": {
        "id": "IZlDhWaJOiDG"
      },
      "execution_count": null,
      "outputs": []
    },
    {
      "cell_type": "code",
      "source": [
        "import matplotlib.pyplot as plt\n",
        "%matplotlib inline \n",
        "\n",
        "import seaborn as sns\n",
        "sns.set_style(\"darkgrid\")\n",
        "\n",
        "import sklearn\n",
        "from sklearn.decomposition import PCA\n",
        "from sklearn.manifold import TSNE\n",
        "sklearn.__version__"
      ],
      "metadata": {
        "id": "CUmPNUAQOpg0",
        "colab": {
          "base_uri": "https://localhost:8080/",
          "height": 35
        },
        "outputId": "0b2f4808-902e-4c78-8971-89e2199f25e9"
      },
      "execution_count": 79,
      "outputs": [
        {
          "output_type": "execute_result",
          "data": {
            "application/vnd.google.colaboratory.intrinsic+json": {
              "type": "string"
            },
            "text/plain": [
              "'1.0.2'"
            ]
          },
          "metadata": {},
          "execution_count": 79
        }
      ]
    },
    {
      "cell_type": "code",
      "metadata": {
        "trusted": true,
        "_uuid": "489a7d160dcd92da0ce42a3b5b461368c9ffe5f1",
        "id": "hCnlFF37alxP"
      },
      "source": [
        "def tsnescatterplot(model, word, list_names):\n",
        "    \"\"\" Plot in seaborn the results from the t-SNE dimensionality reduction algorithm of the vectors of a query word,\n",
        "    its list of most similar words, and a list of words.\n",
        "    \"\"\"\n",
        "    arrays = np.empty((0, VECTOR_SIZE), dtype='f') # CHANGE HERE for array size\n",
        "    word_labels = [word]\n",
        "    color_list  = ['red']\n",
        "\n",
        "    num_dimensions = 2  # final num dimensions (2D, 3D, etc)\n",
        "\n",
        "    # adds the vector of the query word\n",
        "    arrays = np.append(arrays, model.wv.__getitem__([word]), axis=0)\n",
        "    \n",
        "    # gets list of most similar words\n",
        "    close_words = model.wv.most_similar([word])\n",
        "    \n",
        "    # adds the vector for each of the closest words to the array\n",
        "    for wrd_score in close_words:\n",
        "        wrd_vector = model.wv.__getitem__([wrd_score[0]])\n",
        "        word_labels.append(wrd_score[0])\n",
        "        color_list.append('blue')\n",
        "        arrays = np.append(arrays, wrd_vector, axis=0)\n",
        "    \n",
        "    # adds the vector for each of the words from list_names to the array\n",
        "    for wrd in list_names:\n",
        "        wrd_vector = model.wv.__getitem__([wrd])\n",
        "        word_labels.append(wrd)\n",
        "        color_list.append('green')\n",
        "        arrays = np.append(arrays, wrd_vector, axis=0)\n",
        "        \n",
        "    # Reduces the dimensionality from 300 to 50 dimensions with PCA\n",
        "    reduc = PCA(n_components=num_dimensions).fit_transform(arrays) # 50\n",
        "    \n",
        "    # Finds t-SNE coordinates for 2 dimensions\n",
        "    np.set_printoptions(suppress=True)\n",
        "    \n",
        "    Y = TSNE(n_components=2, random_state=0, perplexity=15).fit_transform(reduc)\n",
        "    \n",
        "    # Sets everything up to plot\n",
        "    df = pd.DataFrame({'x': [x for x in Y[:, 0]],\n",
        "                       'y': [y for y in Y[:, 1]],\n",
        "                       'words': word_labels,\n",
        "                       'color': color_list})\n",
        "    \n",
        "    fig, _ = plt.subplots()\n",
        "    fig.set_size_inches(9, 9)\n",
        "    \n",
        "    # Basic plot\n",
        "    p1 = sns.regplot(data=df,\n",
        "                     x=\"x\",\n",
        "                     y=\"y\",\n",
        "                     fit_reg=False,\n",
        "                     marker=\"o\",\n",
        "                     scatter_kws={'s': 40,\n",
        "                                  'facecolors': df['color']\n",
        "                                 }\n",
        "                    )\n",
        "    \n",
        "    # Adds annotations one by one with a loop\n",
        "    for line in range(0, df.shape[0]):\n",
        "         p1.text(df[\"x\"][line],\n",
        "                 df['y'][line],\n",
        "                 '  ' + df[\"words\"][line].title(),\n",
        "                 horizontalalignment='left',\n",
        "                 verticalalignment='bottom', size='medium',\n",
        "                 color=df['color'][line],\n",
        "                 weight='normal'\n",
        "                ).set_size(15)\n",
        "\n",
        "    \n",
        "    plt.xlim(Y[:, 0].min()-50, Y[:, 0].max()+50)\n",
        "    plt.ylim(Y[:, 1].min()-50, Y[:, 1].max()+50)\n",
        "            \n",
        "    plt.title(f't-SNE visualization for {word.title()}')"
      ],
      "execution_count": 92,
      "outputs": []
    },
    {
      "cell_type": "code",
      "source": [
        "#@markdown Compares where the vectorial representation of the ´FIRST_WORD´ and its 10 most similar words are positioned on a 2D plot in comparison with 8 random words.\n",
        "\n",
        "FIRST_WORD = \"gdf11\" #@param {type:\"string\"}\n",
        "random_words = ['cell', 'expression', 'mesenchyme', 'brain', 'nucleus', 'kidney', 'blood']\n",
        "\n",
        "tsnescatterplot(model, FIRST_WORD, random_words)"
      ],
      "metadata": {
        "id": "hFu3izteOpzG",
        "colab": {
          "base_uri": "https://localhost:8080/",
          "height": 567
        },
        "outputId": "b24aec3a-a12c-4620-ede9-68885b7d770d"
      },
      "execution_count": 93,
      "outputs": [
        {
          "output_type": "display_data",
          "data": {
            "image/png": "[encoded data removed]",
            "text/plain": [
              "<Figure size 648x648 with 1 Axes>"
            ]
          },
          "metadata": {}
        }
      ]
    },
    {
      "cell_type": "code",
      "source": [
        "#@markdown Compares where the vectorial representation of the ´FIRST_WORD´ and its 10 most similar words are positioned on a 2D plot in comparison with its 10 most dissimilar words.\n",
        "\n",
        "FIRST_WORD = \"gdf11\" #@param {type:\"string\"}\n",
        "\n",
        "tsnescatterplot(model, FIRST_WORD, [i[0] for i in model.wv.most_similar(negative=[FIRST_WORD])])"
      ],
      "metadata": {
        "id": "IZsrf-ArQst6",
        "colab": {
          "base_uri": "https://localhost:8080/",
          "height": 567
        },
        "outputId": "df05944a-610f-4118-842b-e41b38995257"
      },
      "execution_count": 98,
      "outputs": [
        {
          "output_type": "display_data",
          "data": {
            "image/png": "[encoded data removed]",
            "text/plain": [
              "<Figure size 648x648 with 1 Axes>"
            ]
          },
          "metadata": {}
        }
      ]
    },
    {
      "cell_type": "code",
      "source": [
        "############################# \n",
        "#@title Load own model\n",
        "#############################\n",
        "FILEPATH = '/content/drive/My Drive/papers'   #@param {type:\"string\"}\n",
        "own_model = gensim.models.Word2Vec.load(FILEPATH)"
      ],
      "metadata": {
        "id": "jx1svkcreUAn"
      },
      "execution_count": null,
      "outputs": []
    },
    {
      "cell_type": "code",
      "source": [
        "############################# \n",
        "#@title Load a pre-trained model\n",
        "#############################\n",
        "#@markdown Pre-trained model was downloaded from http://bioasq.org/news/bioasq-releases-continuous-space-word-vectors-obtained-applying-word2vec-pubmed-abstracts\n",
        "# import gensim.downloader as api\n",
        "# wv = api.load(\"biomedicalWordVectors\")\n",
        "\n",
        "FILEPATH = '/content/drive/My Drive/papers'   #@param {type:\"string\"}\n",
        "model = gensim.models.KeyedVectors.load_word2vec_format(FILEPATH + '/biomedicalWordVectors.gz', binary=True)"
      ],
      "metadata": {
        "id": "Tr6taZECYEq0"
      },
      "execution_count": null,
      "outputs": []
    },
    {
      "cell_type": "markdown",
      "source": [
        "# Not used"
      ],
      "metadata": {
        "id": "TyQipGjQq3oA"
      }
    },
    {
      "cell_type": "code",
      "source": [
        "############################# \n",
        "#@title Visualization of Word Embeddings\n",
        "#############################\n",
        "from sklearn.decomposition import IncrementalPCA    # inital reduction\n",
        "from sklearn.manifold import TSNE                   # final reduction\n",
        "import numpy as np                                  # array handling\n",
        "\n",
        "def reduce_dimensions(model):\n",
        "    num_dimensions = 2  # final num dimensions (2D, 3D, etc)\n",
        "\n",
        "    # Extract the words & their vectors, as numpy arrays\n",
        "    vectors = np.asarray(model.wv.vectors)\n",
        "    labels = np.asarray(model.wv.index_to_key)  # fixed-width numpy strings\n",
        "\n",
        "    # Reduce using t-SNE\n",
        "    tsne = TSNE(n_components=num_dimensions, random_state=0)\n",
        "    vectors = tsne.fit_transform(vectors)\n",
        "\n",
        "    x_vals = [v[0] for v in vectors]\n",
        "    y_vals = [v[1] for v in vectors]\n",
        "    return x_vals, y_vals, labels\n",
        "\n",
        "x_vals, y_vals, labels = reduce_dimensions(model)\n",
        "\n",
        "def plot_with_plotly(x_vals, y_vals, labels, plot_in_notebook=True):\n",
        "    from plotly.offline import init_notebook_mode, iplot, plot\n",
        "    import plotly.graph_objs as go\n",
        "\n",
        "    trace = go.Scatter(x=x_vals, y=y_vals, mode='text', text=labels)\n",
        "    data = [trace]\n",
        "\n",
        "    if plot_in_notebook:\n",
        "        init_notebook_mode(connected=True)\n",
        "        iplot(data, filename='word-embedding-plot')\n",
        "    else:\n",
        "        plot(data, filename='word-embedding-plot.html')\n",
        "\n",
        "\n",
        "def plot_with_matplotlib(x_vals, y_vals, labels):\n",
        "    import matplotlib.pyplot as plt\n",
        "    import random\n",
        "\n",
        "    random.seed(0)\n",
        "\n",
        "    plt.figure(figsize=(12, 12))\n",
        "    plt.scatter(x_vals, y_vals)\n",
        "\n",
        "    #\n",
        "    # Label randomly subsampled 25 data points\n",
        "    #\n",
        "    indices = list(range(len(labels)))\n",
        "    selected_indices = random.sample(indices, 25)\n",
        "    for i in selected_indices:\n",
        "        plt.annotate(labels[i], (x_vals[i], y_vals[i]))\n",
        "\n",
        "try:\n",
        "    get_ipython()\n",
        "except Exception:\n",
        "    plot_function = plot_with_matplotlib\n",
        "else:\n",
        "    plot_function = plot_with_plotly\n",
        "\n",
        "plot_function(x_vals, y_vals, labels)"
      ],
      "metadata": {
        "id": "gtq-iiHolEmT"
      },
      "execution_count": null,
      "outputs": []
    }
  ]
}
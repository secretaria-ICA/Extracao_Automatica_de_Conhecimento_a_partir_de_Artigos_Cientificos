{
  "cells": [
    {
      "cell_type": "markdown",
      "metadata": {
        "id": "view-in-github",
        "colab_type": "text"
      },
      "source": [
        "<a href=\"https://colab.research.google.com/github/ajurberg/article-parser/blob/main/06_gensim_word2vec_gdf11_v2.ipynb\" target=\"_parent\"><img src=\"https://colab.research.google.com/assets/colab-badge.svg\" alt=\"Open In Colab\"/></a>"
      ]
    },
    {
      "cell_type": "code",
      "execution_count": 1,
      "metadata": {
        "id": "6gDCcelfMqTz"
      },
      "outputs": [],
      "source": [
        "############################# \n",
        "#@title Installation of libraries \n",
        "#############################\n",
        "import os\n",
        "from time import time\n",
        "import re, string, unicodedata\n",
        "from string import punctuation\n",
        "from tqdm import tqdm\n",
        "import pandas as pd\n",
        "import numpy as np\n",
        "import matplotlib.pyplot as plt\n",
        "%matplotlib notebook\n",
        "import seaborn as sns\n",
        "import warnings\n",
        "warnings.filterwarnings('ignore')\n",
        "from collections import defaultdict  # For word frequency"
      ]
    },
    {
      "cell_type": "code",
      "execution_count": 2,
      "metadata": {
        "colab": {
          "base_uri": "https://localhost:8080/"
        },
        "id": "q-7T2rGbMZx-",
        "outputId": "b18f22ab-b267-4333-fa27-aa72e48b0255"
      },
      "outputs": [
        {
          "output_type": "stream",
          "name": "stdout",
          "text": [
            "Mounted at /content/drive\n"
          ]
        }
      ],
      "source": [
        "############################# \n",
        "#@title Mounting Google Drive\n",
        "#############################\n",
        "from google.colab import drive\n",
        "drive._mount('/content/drive')\n",
        "\n",
        "import os\n",
        "workdir_path = '/content/drive/My Drive/papers'\n",
        "os.chdir(workdir_path)"
      ]
    },
    {
      "cell_type": "code",
      "execution_count": 3,
      "metadata": {
        "id": "o0SqGqCxNV4v"
      },
      "outputs": [],
      "source": [
        "############################# \n",
        "#@title Read json file to dictionary\n",
        "#############################\n",
        "import json\n",
        "\n",
        "with open(\"gdf11-dictionary-word-tokens-stop.json\") as json_file:\n",
        "  gdf11_dict = json.load(json_file)\n",
        "\n",
        "#@markdown Files to evaluate\n",
        "#@markdown - gdf11-dictionary.json (no preprocessing)\n",
        "#@markdown - gdf11-dictionary-sent-tokens.json\n",
        "#@markdown - gdf11-dictionary-sent-tokens-stop.json\n",
        "#@markdown - gdf11-dictionary-word-tokens.json\n",
        "#@markdown - gdf11-dictionary-word-tokens-stop.json"
      ]
    },
    {
      "cell_type": "code",
      "execution_count": 4,
      "metadata": {
        "colab": {
          "base_uri": "https://localhost:8080/"
        },
        "id": "ujz1XWNQN3iL",
        "outputId": "5a12aa3e-3119-4fbe-a1b8-e347f5451a78"
      },
      "outputs": [
        {
          "output_type": "stream",
          "name": "stdout",
          "text": [
            "Requirement already satisfied: gensim in /usr/local/lib/python3.7/dist-packages (3.6.0)\n",
            "Collecting gensim\n",
            "  Downloading gensim-4.1.2-cp37-cp37m-manylinux_2_12_x86_64.manylinux2010_x86_64.whl (24.1 MB)\n",
            "\u001b[K     |████████████████████████████████| 24.1 MB 1.4 MB/s \n",
            "\u001b[?25hRequirement already satisfied: smart-open>=1.8.1 in /usr/local/lib/python3.7/dist-packages (from gensim) (5.2.1)\n",
            "Requirement already satisfied: numpy>=1.17.0 in /usr/local/lib/python3.7/dist-packages (from gensim) (1.19.5)\n",
            "Requirement already satisfied: scipy>=0.18.1 in /usr/local/lib/python3.7/dist-packages (from gensim) (1.4.1)\n",
            "Installing collected packages: gensim\n",
            "  Attempting uninstall: gensim\n",
            "    Found existing installation: gensim 3.6.0\n",
            "    Uninstalling gensim-3.6.0:\n",
            "      Successfully uninstalled gensim-3.6.0\n",
            "Successfully installed gensim-4.1.2\n"
          ]
        }
      ],
      "source": [
        "############################# \n",
        "#@title Gensim Word2Vec\n",
        "#############################\n",
        "#@markdown https://towardsdatascience.com/a-beginners-guide-to-word-embedding-with-gensim-word2vec-model-5970fa56cc92\n",
        "! pip install --upgrade gensim"
      ]
    },
    {
      "cell_type": "code",
      "execution_count": 5,
      "metadata": {
        "id": "R67biM88N6-p"
      },
      "outputs": [],
      "source": [
        "# Additional libraries\n",
        "import gensim\n",
        "import spacy  # For preprocessing\n",
        "from gensim.models import Word2Vec\n",
        "import logging  # Setting up the loggings to monitor gensim\n",
        "logging.basicConfig(format=\"%(levelname)s - %(asctime)s: %(message)s\", datefmt= '%H:%M:%S', level=logging.INFO)\n",
        "from sklearn.manifold import TSNE\n",
        "from numpy import dot\n",
        "from numpy.linalg import norm"
      ]
    },
    {
      "cell_type": "code",
      "execution_count": null,
      "metadata": {
        "id": "qhjjyf8fPe9T"
      },
      "outputs": [],
      "source": [
        "############################# \n",
        "#@title Training my own model\n",
        "#############################\n",
        "from gensim.test.utils import datapath\n",
        "from gensim import utils\n",
        "import gensim.models\n",
        "\n",
        "VECTOR_SIZE = 300    #@param {type:\"number\"}\n",
        "#@markdown - `Vector size` refers to the number of dimensions of the embeddings. The default is `100`\n",
        "WINDOW = 5          #@param {type:\"number\"}\n",
        "#@markdown - `Window` refers to the maximum distance between a target word and words around the target word. The default is `5`\n",
        "MIN_COUNT = 5       #@param {type:\"number\"}\n",
        "#@markdown - `min_count` refers to the minimum count of words to consider when training the model. Words with occurrence less than this count will be ignored. The default is `5`\n",
        "WORKERS = 5         #@param {type:\"number\"}\n",
        "#@markdown - `workers` refers to the number of partitions during training. The default is `3`\n",
        "SG = 0              #@param {type:\"number\"}\n",
        "#@markdown - `sg` refers to the training algorithm:\n",
        "#@markdown * `0` for `CBOW` (It uses context to predict a target word)\n",
        "#@markdown * `1` for `skipgram` (It uses a word to predict a target context)\n",
        "\n",
        "model = Word2Vec(sentences=gdf11_dict.values(),\n",
        "                 vector_size=VECTOR_SIZE,\n",
        "                 window=WINDOW,\n",
        "                 min_count=MIN_COUNT,\n",
        "                 workers=WORKERS,\n",
        "                 sg=SG)\n",
        "\n",
        "model.save(\"word2vec-gdf11.model\")"
      ]
    },
    {
      "cell_type": "code",
      "execution_count": 19,
      "metadata": {
        "id": "jx1svkcreUAn",
        "colab": {
          "base_uri": "https://localhost:8080/"
        },
        "outputId": "96c98b9f-ecaa-4854-c529-3448d10e2c2b"
      },
      "outputs": [
        {
          "output_type": "stream",
          "name": "stderr",
          "text": [
            "INFO - 02:00:21: loading Word2Vec object from /content/drive/My Drive/papers/word2vec-gdf11.model\n",
            "INFO - 02:00:23: loading wv recursively from /content/drive/My Drive/papers/word2vec-gdf11.model.wv.* with mmap=None\n",
            "INFO - 02:00:23: setting ignored attribute cum_table to None\n",
            "INFO - 02:00:23: Word2Vec lifecycle event {'fname': '/content/drive/My Drive/papers/word2vec-gdf11.model', 'datetime': '2022-01-15T02:00:23.456700', 'gensim': '4.1.2', 'python': '3.7.12 (default, Sep 10 2021, 00:21:48) \\n[GCC 7.5.0]', 'platform': 'Linux-5.4.144+-x86_64-with-Ubuntu-18.04-bionic', 'event': 'loaded'}\n"
          ]
        }
      ],
      "source": [
        "############################# \n",
        "#@title Load own model\n",
        "#############################\n",
        "FILEPATH = '/content/drive/My Drive/papers'   #@param {type:\"string\"}\n",
        "model = gensim.models.Word2Vec.load(FILEPATH + \"/word2vec-gdf11.model\")"
      ]
    },
    {
      "cell_type": "code",
      "execution_count": null,
      "metadata": {
        "id": "ER34Zu91YE7N"
      },
      "outputs": [],
      "source": [
        "############################# \n",
        "#@markdown To obtain vectors for terms the model is familiar with\n",
        "#############################\n",
        "WORD = 'gdf11'    #@param {type:\"string\"}\n",
        "\n",
        "try:\n",
        "  print(model.wv[WORD.lower()])\n",
        "except KeyError:\n",
        "  print(f\"The word '{WORD}' does not appear in this model.\")"
      ]
    },
    {
      "cell_type": "code",
      "execution_count": 24,
      "metadata": {
        "colab": {
          "base_uri": "https://localhost:8080/"
        },
        "id": "WQe1A6XWeP0T",
        "outputId": "f92460f8-bf41-4156-e5f7-36819ba4bb6e"
      },
      "outputs": [
        {
          "output_type": "stream",
          "name": "stdout",
          "text": [
            "word #0/22739 is ,\n",
            "word #1/22739 is .\n",
            "word #2/22739 is )\n",
            "word #3/22739 is (\n",
            "word #4/22739 is gdf11\n",
            "word #5/22739 is ;\n",
            "word #6/22739 is :\n",
            "word #7/22739 is cells\n",
            "word #8/22739 is expression\n",
            "word #9/22739 is mice\n"
          ]
        }
      ],
      "source": [
        "############################# \n",
        "#@markdown Retrieve vocabulary\n",
        "#############################\n",
        "for index, word in enumerate(model.wv.index_to_key):\n",
        "  if index == 10:\n",
        "    break\n",
        "  print(f\"word #{index}/{len(model.wv.index_to_key)} is {word}\")"
      ]
    },
    {
      "cell_type": "code",
      "execution_count": 27,
      "metadata": {
        "colab": {
          "base_uri": "https://localhost:8080/"
        },
        "id": "1pXKDUPvRsJ4",
        "outputId": "692a680c-486e-4b27-a436-49ffa6ef80af"
      },
      "outputs": [
        {
          "output_type": "stream",
          "name": "stdout",
          "text": [
            "0.113783345\n"
          ]
        }
      ],
      "source": [
        "############################# \n",
        "#@markdown Compute similarities\n",
        "#############################\n",
        "WORD_1 = 'transcription'    #@param {type:\"string\"}\n",
        "WORD_2 = 'gdf11'     #@param {type:\"string\"}\n",
        "\n",
        "try:\n",
        "  print(model.wv.similarity(WORD_1.lower(), WORD_2.lower()))\n",
        "except KeyError:\n",
        "  print(f\"Word(s) not present\")"
      ]
    },
    {
      "cell_type": "code",
      "execution_count": 30,
      "metadata": {
        "colab": {
          "base_uri": "https://localhost:8080/"
        },
        "id": "vjOW68G6iX6s",
        "outputId": "e3d7bdbd-0e38-44b4-a8d6-516faa06ceec"
      },
      "outputs": [
        {
          "output_type": "stream",
          "name": "stdout",
          "text": [
            "[('rgdf11', 0.6043880581855774), ('gdf-11', 0.5938850045204163), ('fto', 0.5570193529129028), ('exogenous', 0.548626720905304), ('opposite', 0.5396591424942017)]\n"
          ]
        }
      ],
      "source": [
        "############################# \n",
        "#@markdown Print the most similar words\n",
        "#############################\n",
        "WORD = 'gdf11'    #@param {type:\"string\"}\n",
        "TOPN = 5          #@param {type:\"number\"}\n",
        "#@markdown - `TOPN` refers to the number of words\n",
        "\n",
        "print(model.wv.most_similar(positive=[WORD.lower()], topn=TOPN))\n",
        "# Based on Euclidean distance - it does not work well for high-dimensional word vectors\n",
        "# Euclidean similarity increases as the number of dimensions increases"
      ]
    },
    {
      "cell_type": "code",
      "execution_count": 31,
      "metadata": {
        "colab": {
          "base_uri": "https://localhost:8080/"
        },
        "id": "APoEWtT0f1qF",
        "outputId": "04fcfd4c-448d-4abf-dbbc-d291191e4431"
      },
      "outputs": [
        {
          "output_type": "stream",
          "name": "stdout",
          "text": [
            "cosine similarity between 'gdf11' and 'bmp11': 0.5267656445503235\n"
          ]
        }
      ],
      "source": [
        "############################# \n",
        "#@markdown Cosine similarity between two words\n",
        "#############################\n",
        "WORD_1 = 'gdf11'    #@param {type:\"string\"}\n",
        "WORD_2 = 'bmp11'    #@param {type:\"string\"}\n",
        "\n",
        "cosine_similarity = np.dot(model.wv[WORD_1], model.wv[WORD_2])/(np.linalg.norm(model.wv[WORD_1]) * np.linalg.norm(model.wv[WORD_2]))\n",
        "print(f\"cosine similarity between '{WORD_1}' and '{WORD_2}': {cosine_similarity}\")"
      ]
    },
    {
      "cell_type": "code",
      "execution_count": 32,
      "metadata": {
        "colab": {
          "base_uri": "https://localhost:8080/"
        },
        "id": "_LGoz-oDYOyM",
        "outputId": "ad5e419c-807f-47ad-92e5-9c7322297499"
      },
      "outputs": [
        {
          "output_type": "execute_result",
          "data": {
            "text/plain": [
              "[('bmp11', 0.52676564),\n",
              " ('aging', 0.30453503),\n",
              " ('apoptosis', 0.2983984),\n",
              " ('migration', 0.27337718),\n",
              " ('phagocytosis', 0.12151204)]"
            ]
          },
          "metadata": {},
          "execution_count": 32
        }
      ],
      "source": [
        "############################# \n",
        "#@markdown Cosine similarity between vector lists\n",
        "#############################\n",
        "# It measures the cosine of the angle between two vectors projected in a multi-dimensional space\n",
        "# It captures the angle of the word vectors (not the magnitude)\n",
        "# No similarity is expressed as a 90-degree angle \n",
        "# Total similarity of 1 is at a 0-degree angle\n",
        "\n",
        "def cosine_distance(model, word, target_list, num):\n",
        "  cosine_dict ={}\n",
        "  word_list = []\n",
        "  a = model.wv[word]\n",
        "  for item in target_list:\n",
        "    if item != word:\n",
        "      b = model.wv[item]\n",
        "      cos_sim = dot(a, b)/(norm(a)*norm(b))\n",
        "      cosine_dict[item] = cos_sim\n",
        "  dist_sort=sorted(cosine_dict.items(), key=lambda dist: dist[1],reverse = True) ## in Descending order \n",
        "  \n",
        "  for item in dist_sort:\n",
        "    word_list.append((item[0], item[1]))\n",
        "  return word_list[0:num]\n",
        "\n",
        "# Target list\n",
        "target_list = ['cell', 'bmp11', 'apoptosis', 'dna', 'phagocytosis', 'migration', 'aging']\n",
        "\n",
        "# Show the most similar word by cosine distance\n",
        "WORD = 'gdf11'    #@param {type:\"string\"}\n",
        "cosine_distance(model, WORD, target_list, 5)"
      ]
    },
    {
      "cell_type": "code",
      "execution_count": 34,
      "metadata": {
        "colab": {
          "base_uri": "https://localhost:8080/"
        },
        "id": "IKLOKaCjkUu7",
        "outputId": "b0460f4d-361f-4463-c072-6c5e1cfd16b4"
      },
      "outputs": [
        {
          "output_type": "stream",
          "name": "stderr",
          "text": [
            "INFO - 02:04:05: adding document #0 to Dictionary(0 unique tokens: [])\n",
            "INFO - 02:04:05: built Dictionary(12 unique tokens: ['computer', 'human', 'interface', 'response', 'survey']...) from 9 documents (total 29 corpus positions)\n",
            "INFO - 02:04:05: Dictionary lifecycle event {'msg': \"built Dictionary(12 unique tokens: ['computer', 'human', 'interface', 'response', 'survey']...) from 9 documents (total 29 corpus positions)\", 'datetime': '2022-01-15T02:04:05.523667', 'gensim': '4.1.2', 'python': '3.7.12 (default, Sep 10 2021, 00:21:48) \\n[GCC 7.5.0]', 'platform': 'Linux-5.4.144+-x86_64-with-Ubuntu-18.04-bionic', 'event': 'created'}\n",
            "INFO - 02:04:05: Pearson correlation coefficient against /usr/local/lib/python3.7/dist-packages/gensim/test/test_data/wordsim353.tsv: 0.0925\n",
            "INFO - 02:04:05: Spearman rank-order correlation coefficient against /usr/local/lib/python3.7/dist-packages/gensim/test/test_data/wordsim353.tsv: 0.0929\n",
            "INFO - 02:04:05: Pairs with unknown words ratio: 72.0%\n"
          ]
        },
        {
          "output_type": "execute_result",
          "data": {
            "text/plain": [
              "((0.09252733547396436, 0.3623485117921968),\n",
              " SpearmanrResult(correlation=0.09292919306389757, pvalue=0.36025857687026386),\n",
              " 71.95467422096317)"
            ]
          },
          "metadata": {},
          "execution_count": 34
        }
      ],
      "source": [
        "############################# \n",
        "#@title Model Evaluation\n",
        "#############################\n",
        "from gensim.test.utils import datapath\n",
        "\n",
        "model.wv.evaluate_word_pairs(datapath('wordsim353.tsv'))"
      ]
    },
    {
      "cell_type": "code",
      "execution_count": 35,
      "metadata": {
        "id": "IZlDhWaJOiDG",
        "colab": {
          "base_uri": "https://localhost:8080/"
        },
        "outputId": "87ae048b-fa4c-4fe6-b409-5e91f7804cdb"
      },
      "outputs": [
        {
          "output_type": "stream",
          "name": "stdout",
          "text": [
            "Collecting scikit-learn==0.19.0\n",
            "  Downloading scikit-learn-0.19.0.tar.gz (9.3 MB)\n",
            "\u001b[K     |████████████████████████████████| 9.3 MB 4.7 MB/s \n",
            "\u001b[?25hBuilding wheels for collected packages: scikit-learn\n",
            "  Building wheel for scikit-learn (setup.py) ... \u001b[?25lerror\n",
            "\u001b[31m  ERROR: Failed building wheel for scikit-learn\u001b[0m\n",
            "\u001b[?25h  Running setup.py clean for scikit-learn\n",
            "Failed to build scikit-learn\n",
            "Installing collected packages: scikit-learn\n",
            "  Attempting uninstall: scikit-learn\n",
            "    Found existing installation: scikit-learn 1.0.2\n",
            "    Uninstalling scikit-learn-1.0.2:\n",
            "      Successfully uninstalled scikit-learn-1.0.2\n",
            "    Running setup.py install for scikit-learn ... \u001b[?25l\u001b[?25herror\n",
            "  Rolling back uninstall of scikit-learn\n",
            "  Moving to /usr/local/lib/python3.7/dist-packages/scikit_learn-1.0.2.dist-info/\n",
            "   from /usr/local/lib/python3.7/dist-packages/~cikit_learn-1.0.2.dist-info\n",
            "  Moving to /usr/local/lib/python3.7/dist-packages/scikit_learn.libs/\n",
            "   from /usr/local/lib/python3.7/dist-packages/~cikit_learn.libs\n",
            "  Moving to /usr/local/lib/python3.7/dist-packages/sklearn/\n",
            "   from /usr/local/lib/python3.7/dist-packages/~klearn\n",
            "\u001b[31mERROR: Command errored out with exit status 1: /usr/bin/python3 -u -c 'import io, os, sys, setuptools, tokenize; sys.argv[0] = '\"'\"'/tmp/pip-install-v_ybf_uo/scikit-learn_bdc94631f13e4162a1b4952e7dd2a72e/setup.py'\"'\"'; __file__='\"'\"'/tmp/pip-install-v_ybf_uo/scikit-learn_bdc94631f13e4162a1b4952e7dd2a72e/setup.py'\"'\"';f = getattr(tokenize, '\"'\"'open'\"'\"', open)(__file__) if os.path.exists(__file__) else io.StringIO('\"'\"'from setuptools import setup; setup()'\"'\"');code = f.read().replace('\"'\"'\\r\\n'\"'\"', '\"'\"'\\n'\"'\"');f.close();exec(compile(code, __file__, '\"'\"'exec'\"'\"'))' install --record /tmp/pip-record-b2tgkpf1/install-record.txt --single-version-externally-managed --compile --install-headers /usr/local/include/python3.7/scikit-learn Check the logs for full command output.\u001b[0m\n"
          ]
        }
      ],
      "source": [
        "############################# \n",
        "#@title t-SNE visualization\n",
        "#############################\n",
        "! pip install scikit-learn==0.19.0"
      ]
    },
    {
      "cell_type": "code",
      "execution_count": 36,
      "metadata": {
        "colab": {
          "base_uri": "https://localhost:8080/",
          "height": 35
        },
        "id": "CUmPNUAQOpg0",
        "outputId": "145796b3-fcfc-406b-e518-2784cc365fbe"
      },
      "outputs": [
        {
          "output_type": "execute_result",
          "data": {
            "application/vnd.google.colaboratory.intrinsic+json": {
              "type": "string"
            },
            "text/plain": [
              "'1.0.2'"
            ]
          },
          "metadata": {},
          "execution_count": 36
        }
      ],
      "source": [
        "import matplotlib.pyplot as plt\n",
        "%matplotlib inline \n",
        "\n",
        "import seaborn as sns\n",
        "sns.set_style(\"darkgrid\")\n",
        "\n",
        "import sklearn\n",
        "from sklearn.decomposition import PCA\n",
        "from sklearn.manifold import TSNE\n",
        "sklearn.__version__"
      ]
    },
    {
      "cell_type": "code",
      "execution_count": 37,
      "metadata": {
        "id": "hCnlFF37alxP"
      },
      "outputs": [],
      "source": [
        "def tsnescatterplot(model, word, list_names):\n",
        "    \"\"\" Plot in seaborn the results from the t-SNE dimensionality reduction algorithm of the vectors of a query word,\n",
        "    its list of most similar words, and a list of words.\n",
        "    \"\"\"\n",
        "    arrays = np.empty((0, VECTOR_SIZE), dtype='f') # CHANGE HERE for array size\n",
        "    word_labels = [word]\n",
        "    color_list  = ['red']\n",
        "\n",
        "    num_dimensions = 2  # final num dimensions (2D, 3D, etc)\n",
        "\n",
        "    # adds the vector of the query word\n",
        "    arrays = np.append(arrays, model.wv.__getitem__([word]), axis=0)\n",
        "    \n",
        "    # gets list of most similar words\n",
        "    close_words = model.wv.most_similar([word])\n",
        "    \n",
        "    # adds the vector for each of the closest words to the array\n",
        "    for wrd_score in close_words:\n",
        "        wrd_vector = model.wv.__getitem__([wrd_score[0]])\n",
        "        word_labels.append(wrd_score[0])\n",
        "        color_list.append('blue')\n",
        "        arrays = np.append(arrays, wrd_vector, axis=0)\n",
        "    \n",
        "    # adds the vector for each of the words from list_names to the array\n",
        "    for wrd in list_names:\n",
        "        wrd_vector = model.wv.__getitem__([wrd])\n",
        "        word_labels.append(wrd)\n",
        "        color_list.append('green')\n",
        "        arrays = np.append(arrays, wrd_vector, axis=0)\n",
        "        \n",
        "    # Reduces the dimensionality from 300 to 50 dimensions with PCA\n",
        "    reduc = PCA(n_components=num_dimensions).fit_transform(arrays) # 50\n",
        "    \n",
        "    # Finds t-SNE coordinates for 2 dimensions\n",
        "    np.set_printoptions(suppress=True)\n",
        "    \n",
        "    Y = TSNE(n_components=2, random_state=0, perplexity=15).fit_transform(reduc)\n",
        "    \n",
        "    # Sets everything up to plot\n",
        "    df = pd.DataFrame({'x': [x for x in Y[:, 0]],\n",
        "                       'y': [y for y in Y[:, 1]],\n",
        "                       'words': word_labels,\n",
        "                       'color': color_list})\n",
        "    \n",
        "    fig, _ = plt.subplots()\n",
        "    fig.set_size_inches(9, 9)\n",
        "    \n",
        "    # Basic plot\n",
        "    p1 = sns.regplot(data=df,\n",
        "                     x=\"x\",\n",
        "                     y=\"y\",\n",
        "                     fit_reg=False,\n",
        "                     marker=\"o\",\n",
        "                     scatter_kws={'s': 40,\n",
        "                                  'facecolors': df['color']\n",
        "                                 }\n",
        "                    )\n",
        "    \n",
        "    # Adds annotations one by one with a loop\n",
        "    for line in range(0, df.shape[0]):\n",
        "         p1.text(df[\"x\"][line],\n",
        "                 df['y'][line],\n",
        "                 '  ' + df[\"words\"][line].title(),\n",
        "                 horizontalalignment='left',\n",
        "                 verticalalignment='bottom', size='medium',\n",
        "                 color=df['color'][line],\n",
        "                 weight='normal'\n",
        "                ).set_size(15)\n",
        "\n",
        "    \n",
        "    plt.xlim(Y[:, 0].min()-50, Y[:, 0].max()+50)\n",
        "    plt.ylim(Y[:, 1].min()-50, Y[:, 1].max()+50)\n",
        "            \n",
        "    plt.title(f't-SNE visualization for {word.title()}')"
      ]
    },
    {
      "cell_type": "code",
      "execution_count": 40,
      "metadata": {
        "colab": {
          "base_uri": "https://localhost:8080/",
          "height": 567
        },
        "id": "hFu3izteOpzG",
        "outputId": "afe4dfe1-bc75-4ab5-8d72-0cb08155aba1"
      },
      "outputs": [
        {
          "output_type": "display_data",
          "data": {
            "image/png": "[encoded data removed]",
            "text/plain": [
              "<Figure size 648x648 with 1 Axes>"
            ]
          },
          "metadata": {}
        }
      ],
      "source": [
        "#@markdown Compares where the vectorial representation of the ´FIRST_WORD´ and its 10 most similar words are positioned on a 2D plot in comparison with 8 random words.\n",
        "VECTOR_SIZE = 300     #@param {type:\"number\"}\n",
        "FIRST_WORD = \"gdf11\"  #@param {type:\"string\"}\n",
        "random_words = ['cell', 'expression', 'mesenchyme', 'brain', 'nucleus', 'kidney', 'blood', 'aging', 'parabiosis']\n",
        "\n",
        "tsnescatterplot(model, FIRST_WORD, random_words)"
      ]
    },
    {
      "cell_type": "code",
      "execution_count": 41,
      "metadata": {
        "colab": {
          "base_uri": "https://localhost:8080/",
          "height": 567
        },
        "id": "IZsrf-ArQst6",
        "outputId": "d7a6dbaf-254a-483d-efe0-2a14e1f80935"
      },
      "outputs": [
        {
          "output_type": "display_data",
          "data": {
            "image/png": "[encoded data removed]",
            "text/plain": [
              "<Figure size 648x648 with 1 Axes>"
            ]
          },
          "metadata": {}
        }
      ],
      "source": [
        "#@markdown Compares where the vectorial representation of the ´FIRST_WORD´ and its 10 most similar words are positioned on a 2D plot in comparison with its 10 most dissimilar words.\n",
        "\n",
        "FIRST_WORD = \"gdf11\" #@param {type:\"string\"}\n",
        "\n",
        "tsnescatterplot(model, FIRST_WORD, [i[0] for i in model.wv.most_similar(negative=[FIRST_WORD])])"
      ]
    },
    {
      "cell_type": "markdown",
      "metadata": {
        "id": "TyQipGjQq3oA"
      },
      "source": [
        "# Not used"
      ]
    },
    {
      "cell_type": "code",
      "execution_count": null,
      "metadata": {
        "id": "Tr6taZECYEq0"
      },
      "outputs": [],
      "source": [
        "############################# \n",
        "#@title Load a pre-trained model\n",
        "#############################\n",
        "#@markdown Pre-trained model was downloaded from http://bioasq.org/news/bioasq-releases-continuous-space-word-vectors-obtained-applying-word2vec-pubmed-abstracts\n",
        "# Alternatively, it possible to train my own model - see code snippet below (>Not used)\n",
        "\n",
        "# To unzip tar.gz files\n",
        "#! gzip -d \"/content/drive/My Drive/papers/biomedicalWordVectors.tar.gz\"\n"
      ]
    },
    {
      "cell_type": "code",
      "execution_count": null,
      "metadata": {
        "colab": {
          "base_uri": "https://localhost:8080/"
        },
        "id": "3pPMeED2PRdX",
        "outputId": "28fa4f71-a8aa-4243-d9cd-e95261ebe532"
      },
      "outputs": [
        {
          "name": "stdout",
          "output_type": "stream",
          "text": [
            "word2vecTools/toolkit.py\n",
            "word2vecTools/vectors.txt\n",
            "word2vecTools/\n",
            "word2vecTools/README_BioASQ_word_vectors.pdf\n",
            "word2vecTools/types.txt\n",
            "word2vecTools/train_vectors.sh\n"
          ]
        }
      ],
      "source": [
        "# To extract tar file\n",
        "#! tar -xvf \"/content/drive/My Drive/papers/biomedicalWordVectors.tar\""
      ]
    },
    {
      "cell_type": "code",
      "execution_count": null,
      "metadata": {
        "id": "hRIzmWJhXhzf"
      },
      "outputs": [],
      "source": [
        "import warnings  \n",
        "warnings.filterwarnings(action='ignore', category=UserWarning, module='gensim')  \n",
        "warnings.filterwarnings(action='ignore', category=FutureWarning, module='gensim')\n",
        "\n",
        "# To load the `vectors.txt` file - It takes about 30 minutes to load the file\n",
        "FILEPATH = '/content/drive/My Drive/papers/word2vecTools/'\n",
        "model = gensim.models.KeyedVectors.load_word2vec_format(FILEPATH + 'vectors.txt', binary=False, no_header=True) # binary=True\n",
        "model.save(\"biomedWV.model\")"
      ]
    },
    {
      "cell_type": "code",
      "execution_count": null,
      "metadata": {
        "id": "gtq-iiHolEmT"
      },
      "outputs": [],
      "source": [
        "############################# \n",
        "#@title Visualization of Word Embeddings\n",
        "#############################\n",
        "from sklearn.decomposition import IncrementalPCA    # inital reduction\n",
        "from sklearn.manifold import TSNE                   # final reduction\n",
        "import numpy as np                                  # array handling\n",
        "\n",
        "def reduce_dimensions(model):\n",
        "    num_dimensions = 2  # final num dimensions (2D, 3D, etc)\n",
        "\n",
        "    # Extract the words & their vectors, as numpy arrays\n",
        "    vectors = np.asarray(model.wv.vectors)\n",
        "    labels = np.asarray(model.wv.index_to_key)  # fixed-width numpy strings\n",
        "\n",
        "    # Reduce using t-SNE\n",
        "    tsne = TSNE(n_components=num_dimensions, random_state=0)\n",
        "    vectors = tsne.fit_transform(vectors)\n",
        "\n",
        "    x_vals = [v[0] for v in vectors]\n",
        "    y_vals = [v[1] for v in vectors]\n",
        "    return x_vals, y_vals, labels\n",
        "\n",
        "x_vals, y_vals, labels = reduce_dimensions(model)\n",
        "\n",
        "def plot_with_plotly(x_vals, y_vals, labels, plot_in_notebook=True):\n",
        "    from plotly.offline import init_notebook_mode, iplot, plot\n",
        "    import plotly.graph_objs as go\n",
        "\n",
        "    trace = go.Scatter(x=x_vals, y=y_vals, mode='text', text=labels)\n",
        "    data = [trace]\n",
        "\n",
        "    if plot_in_notebook:\n",
        "        init_notebook_mode(connected=True)\n",
        "        iplot(data, filename='word-embedding-plot')\n",
        "    else:\n",
        "        plot(data, filename='word-embedding-plot.html')\n",
        "\n",
        "\n",
        "def plot_with_matplotlib(x_vals, y_vals, labels):\n",
        "    import matplotlib.pyplot as plt\n",
        "    import random\n",
        "\n",
        "    random.seed(0)\n",
        "\n",
        "    plt.figure(figsize=(12, 12))\n",
        "    plt.scatter(x_vals, y_vals)\n",
        "\n",
        "    #\n",
        "    # Label randomly subsampled 25 data points\n",
        "    #\n",
        "    indices = list(range(len(labels)))\n",
        "    selected_indices = random.sample(indices, 25)\n",
        "    for i in selected_indices:\n",
        "        plt.annotate(labels[i], (x_vals[i], y_vals[i]))\n",
        "\n",
        "try:\n",
        "    get_ipython()\n",
        "except Exception:\n",
        "    plot_function = plot_with_matplotlib\n",
        "else:\n",
        "    plot_function = plot_with_plotly\n",
        "\n",
        "plot_function(x_vals, y_vals, labels)"
      ]
    }
  ],
  "metadata": {
    "colab": {
      "collapsed_sections": [
        "TyQipGjQq3oA"
      ],
      "name": "06_gensim-word2vec-gdf11-v2.ipynb",
      "provenance": [],
      "authorship_tag": "ABX9TyNMdKpCRoFT4/f8oD2I1AiK",
      "include_colab_link": true
    },
    "kernelspec": {
      "display_name": "Python 3",
      "name": "python3"
    },
    "language_info": {
      "name": "python"
    }
  },
  "nbformat": 4,
  "nbformat_minor": 0
}
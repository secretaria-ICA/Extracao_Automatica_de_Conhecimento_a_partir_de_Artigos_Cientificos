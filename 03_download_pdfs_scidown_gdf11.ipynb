{
  "nbformat": 4,
  "nbformat_minor": 0,
  "metadata": {
    "colab": {
      "name": "03_download-pdfs-scidown-gdf11.ipynb",
      "provenance": [],
      "collapsed_sections": [],
      "authorship_tag": "ABX9TyNQy+UaYSlCOi9/OP9KiEq/",
      "include_colab_link": true
    },
    "kernelspec": {
      "name": "python3",
      "display_name": "Python 3"
    },
    "language_info": {
      "name": "python"
    }
  },
  "cells": [
    {
      "cell_type": "markdown",
      "metadata": {
        "id": "view-in-github",
        "colab_type": "text"
      },
      "source": [
        "<a href=\"https://colab.research.google.com/github/ajurberg/article-parser/blob/main/03_download_pdfs_scidown_gdf11.ipynb\" target=\"_parent\"><img src=\"https://colab.research.google.com/assets/colab-badge.svg\" alt=\"Open In Colab\"/></a>"
      ]
    },
    {
      "cell_type": "code",
      "source": [
        "############################# \n",
        "#@title Installation of libraries \n",
        "#############################\n",
        "import os\n",
        "import re, string, unicodedata\n",
        "from string import punctuation\n",
        "from tqdm import tqdm\n",
        "import time\n",
        "from bs4 import BeautifulSoup\n",
        "import pandas as pd\n",
        "import numpy as np"
      ],
      "metadata": {
        "id": "bM3Dr1oXBj7A"
      },
      "execution_count": null,
      "outputs": []
    },
    {
      "cell_type": "code",
      "source": [
        "############################# \n",
        "#@title Load dataset\n",
        "#############################\n",
        "df = pd.read_csv(\"2022-01-05_csv-gdf11-set.csv\")\n",
        "df.head()"
      ],
      "metadata": {
        "id": "_L7EPQnLBpMp",
        "colab": {
          "base_uri": "https://localhost:8080/",
          "height": 406
        },
        "outputId": "10c29306-cf6c-4b64-fc0c-520ab80066f4"
      },
      "execution_count": null,
      "outputs": [
        {
          "output_type": "execute_result",
          "data": {
            "text/html": [
              "\n",
              "  <div id=\"df-9e2c9601-02c7-43a0-b3de-35ab8d19ec30\">\n",
              "    <div class=\"colab-df-container\">\n",
              "      <div>\n",
              "<style scoped>\n",
              "    .dataframe tbody tr th:only-of-type {\n",
              "        vertical-align: middle;\n",
              "    }\n",
              "\n",
              "    .dataframe tbody tr th {\n",
              "        vertical-align: top;\n",
              "    }\n",
              "\n",
              "    .dataframe thead th {\n",
              "        text-align: right;\n",
              "    }\n",
              "</style>\n",
              "<table border=\"1\" class=\"dataframe\">\n",
              "  <thead>\n",
              "    <tr style=\"text-align: right;\">\n",
              "      <th></th>\n",
              "      <th>PMID</th>\n",
              "      <th>Title</th>\n",
              "      <th>Authors</th>\n",
              "      <th>Citation</th>\n",
              "      <th>First Author</th>\n",
              "      <th>Journal/Book</th>\n",
              "      <th>Publication Year</th>\n",
              "      <th>Create Date</th>\n",
              "      <th>PMCID</th>\n",
              "      <th>NIHMS ID</th>\n",
              "      <th>DOI</th>\n",
              "    </tr>\n",
              "  </thead>\n",
              "  <tbody>\n",
              "    <tr>\n",
              "      <th>0</th>\n",
              "      <td>34951250</td>\n",
              "      <td>[Preliminary study on cerebrospinal fluid prot...</td>\n",
              "      <td>Li HZ, Zeng NX, Liu KG, Luo WL, Lu WJ, Wu LL.</td>\n",
              "      <td>Zhongguo Zhong Yao Za Zhi. 2021 Dec;46(23):623...</td>\n",
              "      <td>Li HZ</td>\n",
              "      <td>Zhongguo Zhong Yao Za Zhi</td>\n",
              "      <td>2021</td>\n",
              "      <td>2021/12/24</td>\n",
              "      <td>NaN</td>\n",
              "      <td>NaN</td>\n",
              "      <td>10.19540/j.cnki.cjcmm.20210918.401</td>\n",
              "    </tr>\n",
              "    <tr>\n",
              "      <th>1</th>\n",
              "      <td>34905649</td>\n",
              "      <td>Growth differentiation factor 11 accelerates l...</td>\n",
              "      <td>Sun J, Li Y, Yang X, Dong W, Yang J, Hu Q, Zha...</td>\n",
              "      <td>Aging Cell. 2021 Dec 14:e13532. doi: 10.1111/a...</td>\n",
              "      <td>Sun J</td>\n",
              "      <td>Aging Cell</td>\n",
              "      <td>2021</td>\n",
              "      <td>2021/12/14</td>\n",
              "      <td>NaN</td>\n",
              "      <td>NaN</td>\n",
              "      <td>10.1111/acel.13532</td>\n",
              "    </tr>\n",
              "    <tr>\n",
              "      <th>2</th>\n",
              "      <td>34809067</td>\n",
              "      <td>Detection of GDF11 by using a Ti(3)C(2)-MXene-...</td>\n",
              "      <td>Liu C, Wang R, Shao Y, Chen C, Wu P, Wei Y, Ga...</td>\n",
              "      <td>Opt Express. 2021 Oct 25;29(22):36598-36607. d...</td>\n",
              "      <td>Liu C</td>\n",
              "      <td>Opt Express</td>\n",
              "      <td>2021</td>\n",
              "      <td>2021/11/23</td>\n",
              "      <td>NaN</td>\n",
              "      <td>NaN</td>\n",
              "      <td>10.1364/OE.440585</td>\n",
              "    </tr>\n",
              "    <tr>\n",
              "      <th>3</th>\n",
              "      <td>34791251</td>\n",
              "      <td>Gonadal rejuvenation of mice by GDF11</td>\n",
              "      <td>Zhou Y, Ni S, Li C, Song L, Zhang S.</td>\n",
              "      <td>J Gerontol A Biol Sci Med Sci. 2021 Nov 13:gla...</td>\n",
              "      <td>Zhou Y</td>\n",
              "      <td>J Gerontol A Biol Sci Med Sci</td>\n",
              "      <td>2021</td>\n",
              "      <td>2021/11/18</td>\n",
              "      <td>NaN</td>\n",
              "      <td>NaN</td>\n",
              "      <td>10.1093/gerona/glab343</td>\n",
              "    </tr>\n",
              "    <tr>\n",
              "      <th>4</th>\n",
              "      <td>34712387</td>\n",
              "      <td>GDF-11 Protects the Traumatically Injured Spin...</td>\n",
              "      <td>Xu Y, Hu X, Li F, Zhang H, Lou J, Wang X, Wang...</td>\n",
              "      <td>Oxid Med Cell Longev. 2021 Oct 19;2021:8186877...</td>\n",
              "      <td>Xu Y</td>\n",
              "      <td>Oxid Med Cell Longev</td>\n",
              "      <td>2021</td>\n",
              "      <td>2021/10/29</td>\n",
              "      <td>PMC8548157</td>\n",
              "      <td>NaN</td>\n",
              "      <td>10.1155/2021/8186877</td>\n",
              "    </tr>\n",
              "  </tbody>\n",
              "</table>\n",
              "</div>\n",
              "      <button class=\"colab-df-convert\" onclick=\"convertToInteractive('df-9e2c9601-02c7-43a0-b3de-35ab8d19ec30')\"\n",
              "              title=\"Convert this dataframe to an interactive table.\"\n",
              "              style=\"display:none;\">\n",
              "        \n",
              "  <svg xmlns=\"http://www.w3.org/2000/svg\" height=\"24px\"viewBox=\"0 0 24 24\"\n",
              "       width=\"24px\">\n",
              "    <path d=\"M0 0h24v24H0V0z\" fill=\"none\"/>\n",
              "    <path d=\"M18.56 5.44l.94 2.06.94-2.06 2.06-.94-2.06-.94-.94-2.06-.94 2.06-2.06.94zm-11 1L8.5 8.5l.94-2.06 2.06-.94-2.06-.94L8.5 2.5l-.94 2.06-2.06.94zm10 10l.94 2.06.94-2.06 2.06-.94-2.06-.94-.94-2.06-.94 2.06-2.06.94z\"/><path d=\"M17.41 7.96l-1.37-1.37c-.4-.4-.92-.59-1.43-.59-.52 0-1.04.2-1.43.59L10.3 9.45l-7.72 7.72c-.78.78-.78 2.05 0 2.83L4 21.41c.39.39.9.59 1.41.59.51 0 1.02-.2 1.41-.59l7.78-7.78 2.81-2.81c.8-.78.8-2.07 0-2.86zM5.41 20L4 18.59l7.72-7.72 1.47 1.35L5.41 20z\"/>\n",
              "  </svg>\n",
              "      </button>\n",
              "      \n",
              "  <style>\n",
              "    .colab-df-container {\n",
              "      display:flex;\n",
              "      flex-wrap:wrap;\n",
              "      gap: 12px;\n",
              "    }\n",
              "\n",
              "    .colab-df-convert {\n",
              "      background-color: #E8F0FE;\n",
              "      border: none;\n",
              "      border-radius: 50%;\n",
              "      cursor: pointer;\n",
              "      display: none;\n",
              "      fill: #1967D2;\n",
              "      height: 32px;\n",
              "      padding: 0 0 0 0;\n",
              "      width: 32px;\n",
              "    }\n",
              "\n",
              "    .colab-df-convert:hover {\n",
              "      background-color: #E2EBFA;\n",
              "      box-shadow: 0px 1px 2px rgba(60, 64, 67, 0.3), 0px 1px 3px 1px rgba(60, 64, 67, 0.15);\n",
              "      fill: #174EA6;\n",
              "    }\n",
              "\n",
              "    [theme=dark] .colab-df-convert {\n",
              "      background-color: #3B4455;\n",
              "      fill: #D2E3FC;\n",
              "    }\n",
              "\n",
              "    [theme=dark] .colab-df-convert:hover {\n",
              "      background-color: #434B5C;\n",
              "      box-shadow: 0px 1px 3px 1px rgba(0, 0, 0, 0.15);\n",
              "      filter: drop-shadow(0px 1px 2px rgba(0, 0, 0, 0.3));\n",
              "      fill: #FFFFFF;\n",
              "    }\n",
              "  </style>\n",
              "\n",
              "      <script>\n",
              "        const buttonEl =\n",
              "          document.querySelector('#df-9e2c9601-02c7-43a0-b3de-35ab8d19ec30 button.colab-df-convert');\n",
              "        buttonEl.style.display =\n",
              "          google.colab.kernel.accessAllowed ? 'block' : 'none';\n",
              "\n",
              "        async function convertToInteractive(key) {\n",
              "          const element = document.querySelector('#df-9e2c9601-02c7-43a0-b3de-35ab8d19ec30');\n",
              "          const dataTable =\n",
              "            await google.colab.kernel.invokeFunction('convertToInteractive',\n",
              "                                                     [key], {});\n",
              "          if (!dataTable) return;\n",
              "\n",
              "          const docLinkHtml = 'Like what you see? Visit the ' +\n",
              "            '<a target=\"_blank\" href=https://colab.research.google.com/notebooks/data_table.ipynb>data table notebook</a>'\n",
              "            + ' to learn more about interactive tables.';\n",
              "          element.innerHTML = '';\n",
              "          dataTable['output_type'] = 'display_data';\n",
              "          await google.colab.output.renderOutput(dataTable, element);\n",
              "          const docLink = document.createElement('div');\n",
              "          docLink.innerHTML = docLinkHtml;\n",
              "          element.appendChild(docLink);\n",
              "        }\n",
              "      </script>\n",
              "    </div>\n",
              "  </div>\n",
              "  "
            ],
            "text/plain": [
              "       PMID  ...                                 DOI\n",
              "0  34951250  ...  10.19540/j.cnki.cjcmm.20210918.401\n",
              "1  34905649  ...                  10.1111/acel.13532\n",
              "2  34809067  ...                   10.1364/OE.440585\n",
              "3  34791251  ...              10.1093/gerona/glab343\n",
              "4  34712387  ...                10.1155/2021/8186877\n",
              "\n",
              "[5 rows x 11 columns]"
            ]
          },
          "metadata": {},
          "execution_count": 7
        }
      ]
    },
    {
      "cell_type": "code",
      "source": [
        "#@markdown To create a list of DOIs\n",
        "doi_list = []\n",
        "\n",
        "for doi in df.DOI:\n",
        "  doi_list.append(doi)\n",
        "\n",
        "len(doi_list)"
      ],
      "metadata": {
        "colab": {
          "base_uri": "https://localhost:8080/"
        },
        "id": "nNdH93pysYy1",
        "outputId": "1285762c-647b-40d4-d3de-7353d6ffca9d"
      },
      "execution_count": null,
      "outputs": [
        {
          "output_type": "execute_result",
          "data": {
            "text/plain": [
              "427"
            ]
          },
          "metadata": {},
          "execution_count": 8
        }
      ]
    },
    {
      "cell_type": "code",
      "source": [
        "#@markdown To create a list of URLs\n",
        "urls = []\n",
        "\n",
        "for doi in doi_list:\n",
        "  urls.append(\"https://sci.bban.top/pdf/\" + str(doi) + \".pdf\")\n",
        "\n",
        "print(f\"\\n{len(urls)}\")"
      ],
      "metadata": {
        "id": "7dDbSDOI1943"
      },
      "execution_count": null,
      "outputs": []
    },
    {
      "cell_type": "code",
      "source": [
        "############################# \n",
        "#@title Download PDFs (to Colab)\n",
        "#############################\n",
        "import requests\n",
        "\n",
        "# Fake a browser\n",
        "HEADER = {\"User-Agent\": \"Mozilla/5.0 (X11; Linux x86_64) AppleWebKit/537.36 (KHTML, like Gecko) Chrome/50.0.2661.75 Safari/537.36\", \"X-Requested-With\": \"XMLHttpRequest\"}\n",
        "\n",
        "for url in tqdm(urls):\n",
        "  filename = url.split('/')[-1]\n",
        "  with requests.get(url, stream=True, headers=HEADER) as r:\n",
        "    try:\n",
        "      if r:\n",
        "        with open(filename, 'wb+') as f:\n",
        "          for chunk in r.iter_content(chunk_size=None):\n",
        "            if chunk:\n",
        "              f.write(chunk)\n",
        "              f.close()\n",
        "    except:\n",
        "      print(\"\\nReceived error\")\n",
        "      pass"
      ],
      "metadata": {
        "colab": {
          "base_uri": "https://localhost:8080/"
        },
        "id": "p_JMY0QSyS9C",
        "outputId": "2c5bced5-91dc-4f16-b4c6-0ac29070571a"
      },
      "execution_count": null,
      "outputs": [
        {
          "output_type": "stream",
          "name": "stderr",
          "text": [
            "100%|██████████| 427/427 [02:28<00:00,  2.88it/s]\n"
          ]
        }
      ]
    },
    {
      "cell_type": "code",
      "source": [
        "############################# \n",
        "#@title Zip and download to local directory\n",
        "#############################\n",
        "\n",
        "# Create a folder\n",
        "! mkdir papers\n",
        "\n",
        "# Move .pdf files to papers folder\n",
        "! mv *.pdf /content/papers\n",
        "\n",
        "# zipped folder + folder to zip\n",
        "! zip -r /content/papers.zip /content/papers\n",
        "\n",
        "from google.colab import files\n",
        "files.download(\"/content/papers.zip\")"
      ],
      "metadata": {
        "id": "A_sWbAM0yTFC"
      },
      "execution_count": null,
      "outputs": []
    },
    {
      "cell_type": "code",
      "source": [
        "# Change current directory\n",
        "os.chdir(\"/content/papers\")\n",
        "print(os.getcwd())"
      ],
      "metadata": {
        "id": "kWA0nxCnyTNM"
      },
      "execution_count": null,
      "outputs": []
    },
    {
      "cell_type": "code",
      "source": [
        "path = \"/content/papers\"\n",
        "\n",
        "# Create a list of filenames and their sizes\n",
        "sizes_files = [(filename, os.stat(os.path.join(path, filename)).st_size) for filename in os.listdir()]\n",
        "\n",
        "# Print filenames and sizes in Mb\n",
        "for filename, size in sizes_files:\n",
        "  print(f\"{filename}: {round(size/(1024*1024), 3)} Mb\")"
      ],
      "metadata": {
        "id": "XC8zDiQp4g2G"
      },
      "execution_count": null,
      "outputs": []
    },
    {
      "cell_type": "code",
      "source": [
        "############################# \n",
        "#@title Mounting Google Drive\n",
        "#############################\n",
        "from google.colab import drive\n",
        "drive._mount('/content/drive')\n",
        "\n",
        "import os\n",
        "workdir_path = '/content/drive/My Drive/papers'\n",
        "os.chdir(workdir_path)"
      ],
      "metadata": {
        "colab": {
          "base_uri": "https://localhost:8080/"
        },
        "id": "RqZgZhdN9JQN",
        "outputId": "c7730731-cfc0-494d-ea5c-1754012b27c1"
      },
      "execution_count": null,
      "outputs": [
        {
          "output_type": "stream",
          "name": "stdout",
          "text": [
            "Drive already mounted at /content/drive; to attempt to forcibly remount, call drive.mount(\"/content/drive\", force_remount=True).\n"
          ]
        }
      ]
    },
    {
      "cell_type": "code",
      "source": [
        "! ls"
      ],
      "metadata": {
        "id": "IsvwIKP--A2e"
      },
      "execution_count": null,
      "outputs": []
    }
  ]
}
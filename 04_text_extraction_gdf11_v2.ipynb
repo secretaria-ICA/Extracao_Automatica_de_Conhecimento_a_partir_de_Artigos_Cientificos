{
  "nbformat": 4,
  "nbformat_minor": 0,
  "metadata": {
    "colab": {
      "name": "04_text-extraction-gdf11-v2.ipynb",
      "provenance": [],
      "collapsed_sections": [],
      "authorship_tag": "ABX9TyMQUvrt4JSMPCLGWC0+nPBY",
      "include_colab_link": true
    },
    "kernelspec": {
      "name": "python3",
      "display_name": "Python 3"
    },
    "language_info": {
      "name": "python"
    }
  },
  "cells": [
    {
      "cell_type": "markdown",
      "metadata": {
        "id": "view-in-github",
        "colab_type": "text"
      },
      "source": [
        "<a href=\"https://colab.research.google.com/github/ajurberg/article-parser/blob/main/04_text_extraction_gdf11_v2.ipynb\" target=\"_parent\"><img src=\"https://colab.research.google.com/assets/colab-badge.svg\" alt=\"Open In Colab\"/></a>"
      ]
    },
    {
      "cell_type": "code",
      "source": [
        "############################# \n",
        "#@title Installation of libraries \n",
        "#############################\n",
        "import os\n",
        "import re, string, unicodedata\n",
        "from string import punctuation\n",
        "from tqdm import tqdm\n",
        "import time\n",
        "from bs4 import BeautifulSoup\n",
        "import pandas as pd\n",
        "import numpy as np"
      ],
      "metadata": {
        "id": "6gDCcelfMqTz"
      },
      "execution_count": null,
      "outputs": []
    },
    {
      "cell_type": "code",
      "execution_count": null,
      "metadata": {
        "colab": {
          "base_uri": "https://localhost:8080/"
        },
        "id": "q-7T2rGbMZx-",
        "outputId": "2d714513-bda7-4b72-bcdb-78b9f3f46b5a"
      },
      "outputs": [
        {
          "output_type": "stream",
          "name": "stdout",
          "text": [
            "Mounted at /content/drive\n"
          ]
        }
      ],
      "source": [
        "############################# \n",
        "#@title Mounting Google Drive\n",
        "#############################\n",
        "from google.colab import drive\n",
        "drive._mount('/content/drive')\n",
        "\n",
        "import os\n",
        "workdir_path = '/content/drive/My Drive/papers'\n",
        "os.chdir(workdir_path)"
      ]
    },
    {
      "cell_type": "code",
      "source": [
        "############################# \n",
        "#@title Text extraction [Apache Tika]\n",
        "#############################\n",
        "! pip install tika"
      ],
      "metadata": {
        "colab": {
          "base_uri": "https://localhost:8080/"
        },
        "id": "nUhl-PkpQ-y-",
        "outputId": "81414c61-4afd-4c7f-fe6a-0d70bc6a4f51"
      },
      "execution_count": null,
      "outputs": [
        {
          "output_type": "stream",
          "name": "stdout",
          "text": [
            "Collecting tika\n",
            "  Downloading tika-1.24.tar.gz (28 kB)\n",
            "Requirement already satisfied: setuptools in /usr/local/lib/python3.7/dist-packages (from tika) (57.4.0)\n",
            "Requirement already satisfied: requests in /usr/local/lib/python3.7/dist-packages (from tika) (2.23.0)\n",
            "Requirement already satisfied: chardet<4,>=3.0.2 in /usr/local/lib/python3.7/dist-packages (from requests->tika) (3.0.4)\n",
            "Requirement already satisfied: certifi>=2017.4.17 in /usr/local/lib/python3.7/dist-packages (from requests->tika) (2021.10.8)\n",
            "Requirement already satisfied: idna<3,>=2.5 in /usr/local/lib/python3.7/dist-packages (from requests->tika) (2.10)\n",
            "Requirement already satisfied: urllib3!=1.25.0,!=1.25.1,<1.26,>=1.21.1 in /usr/local/lib/python3.7/dist-packages (from requests->tika) (1.24.3)\n",
            "Building wheels for collected packages: tika\n",
            "  Building wheel for tika (setup.py) ... \u001b[?25l\u001b[?25hdone\n",
            "  Created wheel for tika: filename=tika-1.24-py3-none-any.whl size=32891 sha256=4816d0c7021cedbe051856314ec0a3327fe4d2562d250cecaa0c3e9e7fbdd50e\n",
            "  Stored in directory: /root/.cache/pip/wheels/ec/2b/38/58ff05467a742e32f67f5d0de048fa046e764e2fbb25ac93f3\n",
            "Successfully built tika\n",
            "Installing collected packages: tika\n",
            "Successfully installed tika-1.24\n"
          ]
        }
      ]
    },
    {
      "cell_type": "code",
      "source": [
        "# Text extraction of multiple papers into a dictionary\n",
        "from tika import parser\n",
        "\n",
        "res = {}\n",
        "for fp in tqdm(os.listdir(workdir_path)):\n",
        "  if \".pdf\" in fp:\n",
        "    try:\n",
        "      pdfFileObj = open(os.path.join(workdir_path, fp), 'rb') # rb=read binary mode\n",
        "      parsed_pdf = parser.from_file(pdfFileObj)\n",
        "      text = parsed_pdf['content']\n",
        "      fp = fp.split('.pdf')[0]\n",
        "      res[fp] = \"\"\n",
        "      res[fp] += text\n",
        "    except:\n",
        "      print(\"\\nReceived error\")\n",
        "      pass"
      ],
      "metadata": {
        "colab": {
          "base_uri": "https://localhost:8080/"
        },
        "id": "z7WKb37ht4my",
        "outputId": "2ed03d41-748f-4cd1-bb6e-51f420000a31"
      },
      "execution_count": null,
      "outputs": [
        {
          "output_type": "stream",
          "name": "stderr",
          "text": [
            "100%|██████████| 340/340 [01:13<00:00,  4.63it/s]\n"
          ]
        }
      ]
    },
    {
      "cell_type": "code",
      "source": [
        "# Save dictionary to json file\n",
        "import json\n",
        "\n",
        "gdf11_file = open(\"gdf11-dictionary.json\", \"w\")\n",
        "json.dump(res, gdf11_file)\n",
        "gdf11_file.close()"
      ],
      "metadata": {
        "id": "OHbIJjKtCTWw"
      },
      "execution_count": null,
      "outputs": []
    }
  ]
}
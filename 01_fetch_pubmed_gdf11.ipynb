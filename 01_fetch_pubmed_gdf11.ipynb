{
  "nbformat": 4,
  "nbformat_minor": 0,
  "metadata": {
    "colab": {
      "name": "01_fetch-pubmed-gdf11.ipynb",
      "provenance": [],
      "authorship_tag": "ABX9TyNHkF+aFlgMsZmZu+KRIIN+",
      "include_colab_link": true
    },
    "kernelspec": {
      "name": "python3",
      "display_name": "Python 3"
    },
    "language_info": {
      "name": "python"
    }
  },
  "cells": [
    {
      "cell_type": "markdown",
      "metadata": {
        "id": "view-in-github",
        "colab_type": "text"
      },
      "source": [
        "<a href=\"https://colab.research.google.com/github/ajurberg/article-parser/blob/main/01_fetch_pubmed_gdf11.ipynb\" target=\"_parent\"><img src=\"https://colab.research.google.com/assets/colab-badge.svg\" alt=\"Open In Colab\"/></a>"
      ]
    },
    {
      "cell_type": "code",
      "source": [
        "############################# \n",
        "#@title To prevent Google Colab from disconnecting\n",
        "#############################\n",
        "#@markdown https://medium.com/@shivamrawat_756/how-to-prevent-google-colab-from-disconnecting-717b88a128c0\n",
        "\n",
        "# Ctrl+ Shift + i to open inspector view.\n",
        "# Then go to console and paste the following code:\n",
        "\n",
        "# function ClickConnect(){\n",
        "# console.log(\"Working\"); \n",
        "# document.querySelector(\"colab-toolbar-button\").click() \n",
        "# }setInterval(ClickConnect,60000)"
      ],
      "metadata": {
        "id": "0WT8P6Zsv9vH"
      },
      "execution_count": null,
      "outputs": []
    },
    {
      "cell_type": "code",
      "execution_count": null,
      "metadata": {
        "id": "fTuQHNqhrPzV",
        "colab": {
          "base_uri": "https://localhost:8080/"
        },
        "outputId": "8141278d-247d-4d9b-9844-2a7aef03116a"
      },
      "outputs": [
        {
          "output_type": "stream",
          "name": "stdout",
          "text": [
            "Collecting metapub\n",
            "  Downloading metapub-0.5.5.tar.gz (120 kB)\n",
            "\u001b[?25l\r\u001b[K     |██▊                             | 10 kB 20.4 MB/s eta 0:00:01\r\u001b[K     |█████▌                          | 20 kB 15.5 MB/s eta 0:00:01\r\u001b[K     |████████▏                       | 30 kB 10.7 MB/s eta 0:00:01\r\u001b[K     |███████████                     | 40 kB 9.5 MB/s eta 0:00:01\r\u001b[K     |█████████████▋                  | 51 kB 8.2 MB/s eta 0:00:01\r\u001b[K     |████████████████▍               | 61 kB 8.3 MB/s eta 0:00:01\r\u001b[K     |███████████████████             | 71 kB 7.5 MB/s eta 0:00:01\r\u001b[K     |█████████████████████▉          | 81 kB 8.2 MB/s eta 0:00:01\r\u001b[K     |████████████████████████▌       | 92 kB 7.8 MB/s eta 0:00:01\r\u001b[K     |███████████████████████████▎    | 102 kB 8.0 MB/s eta 0:00:01\r\u001b[K     |██████████████████████████████  | 112 kB 8.0 MB/s eta 0:00:01\r\u001b[K     |████████████████████████████████| 120 kB 8.0 MB/s \n",
            "\u001b[?25hRequirement already satisfied: setuptools in /usr/local/lib/python3.7/dist-packages (from metapub) (57.4.0)\n",
            "Requirement already satisfied: lxml in /usr/local/lib/python3.7/dist-packages (from metapub) (4.2.6)\n",
            "Requirement already satisfied: requests in /usr/local/lib/python3.7/dist-packages (from metapub) (2.23.0)\n",
            "Collecting eutils\n",
            "  Downloading eutils-0.6.0-py2.py3-none-any.whl (41 kB)\n",
            "\u001b[K     |████████████████████████████████| 41 kB 774 kB/s \n",
            "\u001b[?25hCollecting habanero\n",
            "  Downloading habanero-1.0.0-py2.py3-none-any.whl (42 kB)\n",
            "\u001b[K     |████████████████████████████████| 42 kB 1.2 MB/s \n",
            "\u001b[?25hRequirement already satisfied: tabulate in /usr/local/lib/python3.7/dist-packages (from metapub) (0.8.9)\n",
            "Collecting cssselect\n",
            "  Downloading cssselect-1.1.0-py2.py3-none-any.whl (16 kB)\n",
            "Collecting unidecode\n",
            "  Downloading Unidecode-1.3.2-py3-none-any.whl (235 kB)\n",
            "\u001b[K     |████████████████████████████████| 235 kB 70.2 MB/s \n",
            "\u001b[?25hRequirement already satisfied: docopt in /usr/local/lib/python3.7/dist-packages (from metapub) (0.6.2)\n",
            "Requirement already satisfied: six in /usr/local/lib/python3.7/dist-packages (from metapub) (1.15.0)\n",
            "Collecting tox\n",
            "  Downloading tox-3.24.5-py2.py3-none-any.whl (85 kB)\n",
            "\u001b[K     |████████████████████████████████| 85 kB 4.5 MB/s \n",
            "\u001b[?25hRequirement already satisfied: pytest in /usr/local/lib/python3.7/dist-packages (from metapub) (3.6.4)\n",
            "Collecting coloredlogs\n",
            "  Downloading coloredlogs-15.0.1-py2.py3-none-any.whl (46 kB)\n",
            "\u001b[K     |████████████████████████████████| 46 kB 4.1 MB/s \n",
            "\u001b[?25hCollecting python-Levenshtein\n",
            "  Downloading python-Levenshtein-0.12.2.tar.gz (50 kB)\n",
            "\u001b[K     |████████████████████████████████| 50 kB 7.0 MB/s \n",
            "\u001b[?25hCollecting humanfriendly>=9.1\n",
            "  Downloading humanfriendly-10.0-py2.py3-none-any.whl (86 kB)\n",
            "\u001b[K     |████████████████████████████████| 86 kB 6.6 MB/s \n",
            "\u001b[?25hRequirement already satisfied: pytz in /usr/local/lib/python3.7/dist-packages (from eutils->metapub) (2018.9)\n",
            "Requirement already satisfied: tqdm in /usr/local/lib/python3.7/dist-packages (from habanero->metapub) (4.62.3)\n",
            "Requirement already satisfied: chardet<4,>=3.0.2 in /usr/local/lib/python3.7/dist-packages (from requests->metapub) (3.0.4)\n",
            "Requirement already satisfied: idna<3,>=2.5 in /usr/local/lib/python3.7/dist-packages (from requests->metapub) (2.10)\n",
            "Requirement already satisfied: urllib3!=1.25.0,!=1.25.1,<1.26,>=1.21.1 in /usr/local/lib/python3.7/dist-packages (from requests->metapub) (1.24.3)\n",
            "Requirement already satisfied: certifi>=2017.4.17 in /usr/local/lib/python3.7/dist-packages (from requests->metapub) (2021.10.8)\n",
            "Requirement already satisfied: atomicwrites>=1.0 in /usr/local/lib/python3.7/dist-packages (from pytest->metapub) (1.4.0)\n",
            "Requirement already satisfied: pluggy<0.8,>=0.5 in /usr/local/lib/python3.7/dist-packages (from pytest->metapub) (0.7.1)\n",
            "Requirement already satisfied: more-itertools>=4.0.0 in /usr/local/lib/python3.7/dist-packages (from pytest->metapub) (8.12.0)\n",
            "Requirement already satisfied: py>=1.5.0 in /usr/local/lib/python3.7/dist-packages (from pytest->metapub) (1.11.0)\n",
            "Requirement already satisfied: attrs>=17.4.0 in /usr/local/lib/python3.7/dist-packages (from pytest->metapub) (21.2.0)\n",
            "Requirement already satisfied: toml>=0.9.4 in /usr/local/lib/python3.7/dist-packages (from tox->metapub) (0.10.2)\n",
            "Collecting virtualenv!=20.0.0,!=20.0.1,!=20.0.2,!=20.0.3,!=20.0.4,!=20.0.5,!=20.0.6,!=20.0.7,>=16.0.0\n",
            "  Downloading virtualenv-20.13.0-py2.py3-none-any.whl (6.5 MB)\n",
            "\u001b[K     |████████████████████████████████| 6.5 MB 43.2 MB/s \n",
            "\u001b[?25hRequirement already satisfied: importlib-metadata>=0.12 in /usr/local/lib/python3.7/dist-packages (from tox->metapub) (4.8.2)\n",
            "Requirement already satisfied: packaging>=14 in /usr/local/lib/python3.7/dist-packages (from tox->metapub) (21.3)\n",
            "Requirement already satisfied: filelock>=3.0.0 in /usr/local/lib/python3.7/dist-packages (from tox->metapub) (3.4.0)\n",
            "Collecting tox\n",
            "  Downloading tox-3.24.4-py2.py3-none-any.whl (85 kB)\n",
            "\u001b[K     |████████████████████████████████| 85 kB 5.0 MB/s \n",
            "\u001b[?25h  Downloading tox-3.24.3-py2.py3-none-any.whl (85 kB)\n",
            "\u001b[K     |████████████████████████████████| 85 kB 4.6 MB/s \n",
            "\u001b[?25h  Downloading tox-3.24.2-py2.py3-none-any.whl (85 kB)\n",
            "\u001b[K     |████████████████████████████████| 85 kB 4.9 MB/s \n",
            "\u001b[?25h  Downloading tox-3.24.1-py2.py3-none-any.whl (85 kB)\n",
            "\u001b[K     |████████████████████████████████| 85 kB 4.7 MB/s \n",
            "\u001b[?25h  Downloading tox-3.24.0-py2.py3-none-any.whl (85 kB)\n",
            "\u001b[K     |████████████████████████████████| 85 kB 4.5 MB/s \n",
            "\u001b[?25h  Downloading tox-3.23.1-py2.py3-none-any.whl (85 kB)\n",
            "\u001b[K     |████████████████████████████████| 85 kB 4.4 MB/s \n",
            "\u001b[?25h  Downloading tox-3.23.0-py2.py3-none-any.whl (85 kB)\n",
            "\u001b[K     |████████████████████████████████| 85 kB 4.1 MB/s \n",
            "\u001b[?25h  Downloading tox-3.22.0-py2.py3-none-any.whl (84 kB)\n",
            "\u001b[K     |████████████████████████████████| 84 kB 3.9 MB/s \n",
            "\u001b[?25h  Downloading tox-3.21.4-py2.py3-none-any.whl (84 kB)\n",
            "\u001b[K     |████████████████████████████████| 84 kB 3.9 MB/s \n",
            "\u001b[?25h  Downloading tox-3.21.3-py2.py3-none-any.whl (84 kB)\n",
            "\u001b[K     |████████████████████████████████| 84 kB 4.1 MB/s \n",
            "\u001b[?25h  Downloading tox-3.21.2-py2.py3-none-any.whl (84 kB)\n",
            "\u001b[K     |████████████████████████████████| 84 kB 3.8 MB/s \n",
            "\u001b[?25h  Downloading tox-3.21.1-py2.py3-none-any.whl (84 kB)\n",
            "\u001b[K     |████████████████████████████████| 84 kB 3.9 MB/s \n",
            "\u001b[?25h  Downloading tox-3.21.0-py2.py3-none-any.whl (84 kB)\n",
            "\u001b[K     |████████████████████████████████| 84 kB 3.4 MB/s \n",
            "\u001b[?25h  Downloading tox-3.20.1-py2.py3-none-any.whl (83 kB)\n",
            "\u001b[K     |████████████████████████████████| 83 kB 2.6 MB/s \n",
            "\u001b[?25hCollecting importlib-metadata<3,>=0.12\n",
            "  Downloading importlib_metadata-2.1.2-py2.py3-none-any.whl (10 kB)\n",
            "Collecting tox\n",
            "  Downloading tox-3.20.0-py2.py3-none-any.whl (83 kB)\n",
            "\u001b[K     |████████████████████████████████| 83 kB 2.6 MB/s \n",
            "\u001b[?25hCollecting importlib-metadata<2,>=0.12\n",
            "  Downloading importlib_metadata-1.7.0-py2.py3-none-any.whl (31 kB)\n",
            "Collecting tox\n",
            "  Downloading tox-3.19.0-py2.py3-none-any.whl (83 kB)\n",
            "\u001b[K     |████████████████████████████████| 83 kB 2.0 MB/s \n",
            "\u001b[?25h  Downloading tox-3.18.1-py2.py3-none-any.whl (82 kB)\n",
            "\u001b[K     |████████████████████████████████| 82 kB 1.1 MB/s \n",
            "\u001b[?25h  Downloading tox-3.18.0-py2.py3-none-any.whl (82 kB)\n",
            "\u001b[K     |████████████████████████████████| 82 kB 1.0 MB/s \n",
            "\u001b[?25h  Downloading tox-3.17.1-py2.py3-none-any.whl (82 kB)\n",
            "\u001b[K     |████████████████████████████████| 82 kB 911 kB/s \n",
            "\u001b[?25h  Downloading tox-3.17.0-py2.py3-none-any.whl (82 kB)\n",
            "\u001b[K     |████████████████████████████████| 82 kB 904 kB/s \n",
            "\u001b[?25h  Downloading tox-3.16.0-py2.py3-none-any.whl (82 kB)\n",
            "\u001b[K     |████████████████████████████████| 82 kB 899 kB/s \n",
            "\u001b[?25h  Downloading tox-3.15.2-py2.py3-none-any.whl (137 kB)\n",
            "\u001b[K     |████████████████████████████████| 137 kB 59.9 MB/s \n",
            "\u001b[?25h  Downloading tox-3.15.1-py2.py3-none-any.whl (82 kB)\n",
            "\u001b[K     |████████████████████████████████| 82 kB 266 kB/s \n",
            "\u001b[?25h  Downloading tox-3.15.0-py2.py3-none-any.whl (82 kB)\n",
            "\u001b[K     |████████████████████████████████| 82 kB 265 kB/s \n",
            "\u001b[?25h  Downloading tox-3.14.6-py2.py3-none-any.whl (81 kB)\n",
            "\u001b[K     |████████████████████████████████| 81 kB 11.3 MB/s \n",
            "\u001b[?25h  Downloading tox-3.14.5-py2.py3-none-any.whl (81 kB)\n",
            "\u001b[K     |████████████████████████████████| 81 kB 10.6 MB/s \n",
            "\u001b[?25h  Downloading tox-3.14.4-py2.py3-none-any.whl (81 kB)\n",
            "\u001b[K     |████████████████████████████████| 81 kB 10.1 MB/s \n",
            "\u001b[?25h  Downloading tox-3.14.3-py2.py3-none-any.whl (80 kB)\n",
            "\u001b[K     |████████████████████████████████| 80 kB 10.2 MB/s \n",
            "\u001b[?25h  Downloading tox-3.14.2-py2.py3-none-any.whl (80 kB)\n",
            "\u001b[K     |████████████████████████████████| 80 kB 8.1 MB/s \n",
            "\u001b[?25h  Downloading tox-3.14.1-py2.py3-none-any.whl (80 kB)\n",
            "\u001b[K     |████████████████████████████████| 80 kB 10.3 MB/s \n",
            "\u001b[?25hCollecting importlib-metadata<1,>=0.12\n",
            "  Downloading importlib_metadata-0.23-py2.py3-none-any.whl (28 kB)\n",
            "Collecting tox\n",
            "  Downloading tox-3.14.0-py2.py3-none-any.whl (80 kB)\n",
            "\u001b[K     |████████████████████████████████| 80 kB 9.7 MB/s \n",
            "\u001b[?25h  Downloading tox-3.13.2-py2.py3-none-any.whl (80 kB)\n",
            "\u001b[K     |████████████████████████████████| 80 kB 8.9 MB/s \n",
            "\u001b[?25h  Downloading tox-3.13.1-py2.py3-none-any.whl (80 kB)\n",
            "\u001b[K     |████████████████████████████████| 80 kB 9.4 MB/s \n",
            "\u001b[?25h  Downloading tox-3.13.0-py2.py3-none-any.whl (80 kB)\n",
            "\u001b[K     |████████████████████████████████| 80 kB 9.6 MB/s \n",
            "\u001b[?25h  Downloading tox-3.12.1-py2.py3-none-any.whl (79 kB)\n",
            "\u001b[K     |████████████████████████████████| 79 kB 9.0 MB/s \n",
            "\u001b[?25hCollecting distlib<1,>=0.3.1\n",
            "  Downloading distlib-0.3.4-py2.py3-none-any.whl (461 kB)\n",
            "\u001b[K     |████████████████████████████████| 461 kB 62.5 MB/s \n",
            "\u001b[?25hCollecting platformdirs<3,>=2\n",
            "  Downloading platformdirs-2.4.1-py3-none-any.whl (14 kB)\n",
            "Requirement already satisfied: zipp>=0.5 in /usr/local/lib/python3.7/dist-packages (from importlib-metadata>=0.12->tox->metapub) (3.6.0)\n",
            "Requirement already satisfied: typing-extensions>=3.6.4 in /usr/local/lib/python3.7/dist-packages (from importlib-metadata>=0.12->tox->metapub) (3.10.0.2)\n",
            "Building wheels for collected packages: metapub, python-Levenshtein\n",
            "  Building wheel for metapub (setup.py) ... \u001b[?25l\u001b[?25hdone\n",
            "  Created wheel for metapub: filename=metapub-0.5.5-py3-none-any.whl size=135370 sha256=af1232e5a6cf7e2319ba37fce7c1ee540074f3ceda33fb1134ffe18301b24119\n",
            "  Stored in directory: /root/.cache/pip/wheels/26/cc/8e/ab5e3ed337658f5287ef12e8db6c13f005c2dca4898ec60c29\n",
            "  Building wheel for python-Levenshtein (setup.py) ... \u001b[?25l\u001b[?25hdone\n",
            "  Created wheel for python-Levenshtein: filename=python_Levenshtein-0.12.2-cp37-cp37m-linux_x86_64.whl size=149863 sha256=299d223e4e8e3f6c2add1fb5d796319466da1899e0e929f33486267e85d0f254\n",
            "  Stored in directory: /root/.cache/pip/wheels/05/5f/ca/7c4367734892581bb5ff896f15027a932c551080b2abd3e00d\n",
            "Successfully built metapub python-Levenshtein\n",
            "Installing collected packages: platformdirs, distlib, virtualenv, humanfriendly, unidecode, tox, python-Levenshtein, habanero, eutils, cssselect, coloredlogs, metapub\n",
            "Successfully installed coloredlogs-15.0.1 cssselect-1.1.0 distlib-0.3.4 eutils-0.6.0 habanero-1.0.0 humanfriendly-10.0 metapub-0.5.5 platformdirs-2.4.1 python-Levenshtein-0.12.2 tox-3.12.1 unidecode-1.3.2 virtualenv-20.13.0\n"
          ]
        }
      ],
      "source": [
        "############################# \n",
        "#@title Installation of libraries \n",
        "#############################\n",
        "! pip install metapub"
      ]
    },
    {
      "cell_type": "code",
      "source": [
        "# Set the 'NCBI_API_KEY' - an API key to increase your e-utils limit to 10 requests/second\n",
        "import os\n",
        "os.environ['NCBI_API_KEY'] = '48aabfdcba60e34373f69461daa257b76b09'"
      ],
      "metadata": {
        "id": "ptgxg1od9fkx"
      },
      "execution_count": null,
      "outputs": []
    },
    {
      "cell_type": "code",
      "source": [
        "# Check if 'NCBI_API_KEY' was set\n",
        "%env NCBI_API_KEY"
      ],
      "metadata": {
        "colab": {
          "base_uri": "https://localhost:8080/",
          "height": 36
        },
        "id": "s3TbVLzlC04L",
        "outputId": "de636952-12ff-4864-e8a4-caa3e893de55"
      },
      "execution_count": null,
      "outputs": [
        {
          "output_type": "execute_result",
          "data": {
            "application/vnd.google.colaboratory.intrinsic+json": {
              "type": "string"
            },
            "text/plain": [
              "'48aabfdcba60e34373f69461daa257b76b09'"
            ]
          },
          "metadata": {},
          "execution_count": 3
        }
      ]
    },
    {
      "cell_type": "code",
      "source": [
        "from metapub import PubMedFetcher, FindIt\n",
        "import eutils\n",
        "import time\n",
        "from tqdm import tqdm\n",
        "import pandas as pd\n",
        "import numpy as np"
      ],
      "metadata": {
        "id": "WKoNmD8Tw0i8"
      },
      "execution_count": null,
      "outputs": []
    },
    {
      "cell_type": "code",
      "source": [
        "#############################\n",
        "#@title Fetch article information by keyword\n",
        "#############################\n",
        "\n",
        "fetch = PubMedFetcher()\n",
        "\n",
        "QUERY = \"(gdf11 OR bmp11 OR gdf-11 OR bmp-11)\" #@param {type:\"string\"}\n",
        "\n",
        "# Fetch PMIDs from articles containing the query keyword\n",
        "pmids = fetch.pmids_for_query(QUERY,\n",
        "                              retmax=50000) # 500000\n",
        "\n",
        "# PubMed query for 'gdf11' retrieves 427 results (on 2022-01-05)\n",
        "print(f\"Number of retrieved PMIDs: {len(pmids)}\")"
      ],
      "metadata": {
        "id": "CZ7BcfwfrhT1",
        "colab": {
          "base_uri": "https://localhost:8080/"
        },
        "outputId": "55c349a5-08a4-4003-ef0a-34d15b30d40a"
      },
      "execution_count": null,
      "outputs": [
        {
          "output_type": "stream",
          "name": "stdout",
          "text": [
            "Number of retrieved PMIDs: 436\n"
          ]
        }
      ]
    },
    {
      "cell_type": "code",
      "source": [
        "# Creating empty lists to store retrieved information\n",
        "title = []\n",
        "authors = []\n",
        "journal = []\n",
        "year = []\n",
        "volume = []\n",
        "issue = []\n",
        "abstract = []\n",
        "doi = []\n",
        "url = []"
      ],
      "metadata": {
        "id": "OZ79wHDQxA3q"
      },
      "execution_count": null,
      "outputs": []
    },
    {
      "cell_type": "code",
      "source": [
        "# Fetch article information from PMID list\n",
        "count = 0\n",
        "\n",
        "for pmid in tqdm(pmids):\n",
        "  try:\n",
        "    article = fetch.article_by_pmid(pmid)\n",
        "    title.append(article.title)\n",
        "    authors.append(article.authors)\n",
        "    journal.append(article.journal)\n",
        "    year.append(article.year)\n",
        "    volume.append(article.volume)\n",
        "    issue.append(article.issue)\n",
        "    abstract.append(article.abstract)\n",
        "    src = FindIt(pmid)\n",
        "    doi.append(src.doi)\n",
        "    url.append(src.url)\n",
        "    if count % 10 == 0: # at every 10 articles\n",
        "      time.sleep(1.0) # waits 1.0 seconds\n",
        "      count += 1\n",
        "  except:\n",
        "    print(\"Received error\")\n",
        "    count += 1\n",
        "    pass"
      ],
      "metadata": {
        "colab": {
          "base_uri": "https://localhost:8080/"
        },
        "id": "Xz7gUqcYxVbA",
        "outputId": "c4ec38e9-45c3-4ab4-8355-f542e5978ffe"
      },
      "execution_count": null,
      "outputs": [
        {
          "output_type": "stream",
          "name": "stderr",
          "text": [
            "  0%|          | 0/436 [00:00<?, ?it/s]2022-01-05 18:53:36 cbcda702c0ea metapub.findit[62] INFO FindIt Cache initialized at /root/.cache/findit.db\n",
            "  3%|▎         | 14/436 [00:14<07:22,  1.05s/it]2022-01-05 18:53:53 cbcda702c0ea metapub.DxDOI[62] INFO cached results for key 10.1007/s00404-021-06183-8 (10.1007/s00404-021-06183-8) \n",
            "  6%|▌         | 24/436 [00:28<07:42,  1.12s/it]2022-01-05 18:54:07 cbcda702c0ea metapub.DxDOI[62] INFO cached results for key 10.1038/s41436-021-01216-8 (10.1038/s41436-021-01216-8) \n",
            "  9%|▉         | 39/436 [00:51<07:55,  1.20s/it]2022-01-05 18:54:34 cbcda702c0ea metapub.DxDOI[62] INFO cached results for key 10.3760/cma.j.issn.0253-2727.2021.01.010 (10.3760/cma.j.issn.0253-2727.2021.01.010) \n",
            " 11%|█         | 49/436 [01:07<06:30,  1.01s/it]2022-01-05 18:54:46 cbcda702c0ea metapub.DxDOI[62] INFO cached results for key 10.1007/s10517-020-05050-x (10.1007/s10517-020-05050-x) \n",
            " 13%|█▎        | 58/436 [01:19<06:59,  1.11s/it]2022-01-05 18:54:58 cbcda702c0ea metapub.DxDOI[62] INFO cached results for key 10.1007/s00264-020-04838-w (10.1007/s00264-020-04838-w) \n",
            " 14%|█▍        | 60/436 [01:25<11:05,  1.77s/it]2022-01-05 18:55:03 cbcda702c0ea metapub.DxDOI[62] INFO cached results for key 10.1038/s41375-020-01054-8 (10.1038/s41375-020-01054-8) \n",
            " 16%|█▌        | 69/436 [01:39<12:25,  2.03s/it]2022-01-05 18:55:18 cbcda702c0ea metapub.DxDOI[62] INFO cached results for key 10.26355/eurrev_202006_21682 (10.26355/eurrev_202006_21682) \n",
            " 24%|██▍       | 105/436 [02:36<08:00,  1.45s/it]2022-01-05 18:56:16 cbcda702c0ea metapub.DxDOI[62] INFO cached results for key 10.1007/s11033-019-05194-8 (10.1007/s11033-019-05194-8) \n",
            " 25%|██▌       | 110/436 [02:50<10:30,  1.93s/it]2022-01-05 18:56:29 cbcda702c0ea metapub.DxDOI[62] INFO cached results for key 10.1007/s10695-019-00721-7 (10.1007/s10695-019-00721-7) \n",
            " 27%|██▋       | 118/436 [03:02<06:41,  1.26s/it]2022-01-05 18:56:41 cbcda702c0ea metapub.DxDOI[62] INFO cached results for key 10.1007/s00018-019-03311-1 (10.1007/s00018-019-03311-1) \n",
            " 30%|██▉       | 130/436 [03:18<05:40,  1.11s/it]2022-01-05 18:56:58 cbcda702c0ea metapub.DxDOI[62] INFO cached results for key 10.1007/s11899-019-00517-9 (10.1007/s11899-019-00517-9) \n",
            " 34%|███▎      | 147/436 [04:09<45:32,  9.46s/it]2022-01-05 18:57:48 cbcda702c0ea metapub.DxDOI[62] INFO cached results for key 10.1007/s00395-019-0728-z (10.1007/s00395-019-0728-z) \n",
            " 36%|███▌      | 158/436 [04:25<06:06,  1.32s/it]2022-01-05 18:58:04 cbcda702c0ea metapub.DxDOI[62] INFO cached results for key 10.1007/s10522-019-09799-1 (10.1007/s10522-019-09799-1) \n",
            " 37%|███▋      | 162/436 [04:34<09:37,  2.11s/it]2022-01-05 18:58:14 cbcda702c0ea metapub.DxDOI[62] INFO cached results for key 10.1007/s12033-019-00154-w (10.1007/s12033-019-00154-w) \n",
            " 39%|███▉      | 170/436 [04:51<08:20,  1.88s/it]2022-01-05 18:58:30 cbcda702c0ea metapub.DxDOI[62] INFO cached results for key 10.1007/s10522-018-09789-9 (10.1007/s10522-018-09789-9) \n",
            " 41%|████      | 178/436 [05:06<06:02,  1.40s/it]2022-01-05 18:58:45 cbcda702c0ea metapub.DxDOI[62] INFO cached results for key 10.1007/s10753-018-0895-3 (10.1007/s10753-018-0895-3) \n",
            " 51%|█████     | 223/436 [08:47<07:38,  2.15s/it]2022-01-05 19:02:26 cbcda702c0ea metapub.DxDOI[62] INFO cached results for key 10.1007/s00395-017-0642-1 (10.1007/s00395-017-0642-1) \n",
            " 52%|█████▏    | 227/436 [08:56<06:02,  1.74s/it]2022-01-05 19:02:35 cbcda702c0ea metapub.DxDOI[62] INFO cached results for key 10.1007/s00395-017-0639-9 (10.1007/s00395-017-0639-9) \n",
            " 56%|█████▌    | 242/436 [10:16<29:56,  9.26s/it]2022-01-05 19:03:54 cbcda702c0ea metapub.DxDOI[62] INFO cached results for key 10.1007/s00395-016-0593-y (10.1007/s00395-016-0593-y) \n",
            " 58%|█████▊    | 252/436 [10:36<06:54,  2.25s/it]2022-01-05 19:04:15 cbcda702c0ea metapub.DxDOI[62] INFO cached results for key 10.1038/ncomms12794 (10.1038/ncomms12794) \n",
            " 60%|█████▉    | 261/436 [10:50<04:14,  1.46s/it]2022-01-05 19:04:29 cbcda702c0ea metapub.DxDOI[62] INFO cached results for key 10.1007/s00223-016-0173-z (10.1007/s00223-016-0173-z) \n",
            " 61%|██████    | 264/436 [10:56<04:58,  1.74s/it]2022-01-05 19:04:35 cbcda702c0ea metapub.DxDOI[62] INFO cached results for key 10.1007/s00438-016-1220-1 (10.1007/s00438-016-1220-1) \n",
            " 63%|██████▎   | 276/436 [11:20<05:38,  2.11s/it]2022-01-05 19:04:59 cbcda702c0ea metapub.DxDOI[62] INFO cached results for key 10.3760/cma.j.issn.0376-2491.2016.08.008 (10.3760/cma.j.issn.0376-2491.2016.08.008) \n",
            " 69%|██████▉   | 300/436 [12:01<02:58,  1.32s/it]2022-01-05 19:05:41 cbcda702c0ea metapub.DxDOI[62] INFO cached results for key 10.1038/nm.3918 (10.1038/nm.3918) \n",
            " 72%|███████▏  | 312/436 [12:29<05:08,  2.49s/it]2022-01-05 19:06:08 cbcda702c0ea metapub.DxDOI[62] INFO cached results for key 10.1038/517426a (10.1038/517426a) \n",
            " 76%|███████▌  | 331/436 [12:57<03:13,  1.84s/it]2022-01-05 19:06:36 cbcda702c0ea metapub.DxDOI[62] INFO cached results for key 10.1038/nm.3524 (10.1038/nm.3524) \n",
            " 76%|███████▋  | 333/436 [13:02<03:15,  1.90s/it]2022-01-05 19:06:41 cbcda702c0ea metapub.DxDOI[62] INFO cached results for key 10.1038/nm.3512 (10.1038/nm.3512) \n",
            " 77%|███████▋  | 334/436 [13:05<04:00,  2.36s/it]2022-01-05 19:06:44 cbcda702c0ea metapub.DxDOI[62] INFO cached results for key 10.1038/nm.3468 (10.1038/nm.3468) \n",
            " 77%|███████▋  | 335/436 [13:09<04:47,  2.84s/it]2022-01-05 19:06:48 cbcda702c0ea metapub.DxDOI[62] INFO cached results for key 10.1007/s11010-013-1949-3 (10.1007/s11010-013-1949-3) \n",
            " 81%|████████  | 353/436 [13:37<01:25,  1.03s/it]2022-01-05 19:07:16 cbcda702c0ea metapub.DxDOI[62] INFO cached results for key 10.1007/978-1-4614-0631-0_85 (10.1007/978-1-4614-0631-0_85) \n",
            " 85%|████████▍ | 369/436 [14:01<01:41,  1.51s/it]2022-01-05 19:07:40 cbcda702c0ea metapub.DxDOI[62] INFO cached results for key 10.1007/s00427-010-0334-4 (10.1007/s00427-010-0334-4) \n",
            " 85%|████████▌ | 372/436 [14:07<01:35,  1.49s/it]2022-01-05 19:07:45 cbcda702c0ea metapub.DxDOI[62] INFO cached results for key 10.1007/82_2010_78 (10.1007/82_2010_78) \n",
            " 91%|█████████ | 396/436 [14:47<01:10,  1.75s/it]2022-01-05 19:08:25 cbcda702c0ea metapub.DxDOI[62] INFO cached results for key 10.1507/endocrj.kr-110 (10.1507/endocrj.kr-110) \n",
            " 91%|█████████ | 397/436 [14:51<01:42,  2.63s/it]2022-01-05 19:08:31 cbcda702c0ea metapub.DxDOI[62] INFO cached results for key 10.1007/s00427-007-0162-3 (10.1007/s00427-007-0162-3) \n",
            " 96%|█████████▋| 420/436 [15:30<00:17,  1.10s/it]2022-01-05 19:09:09 cbcda702c0ea metapub.DxDOI[62] INFO cached results for key 10.1038/nm0303-264 (10.1038/nm0303-264) \n",
            " 97%|█████████▋| 421/436 [15:34<00:25,  1.73s/it]2022-01-05 19:09:12 cbcda702c0ea metapub.DxDOI[62] INFO cached results for key 10.1007/s00441-002-0668-y (10.1007/s00441-002-0668-y) \n",
            " 99%|█████████▉| 433/436 [15:55<00:04,  1.34s/it]2022-01-05 19:09:33 cbcda702c0ea metapub.DxDOI[62] INFO cached results for key 10.1038/10320 (10.1038/10320) \n",
            "100%|██████████| 436/436 [16:00<00:00,  2.20s/it]\n"
          ]
        }
      ]
    },
    {
      "cell_type": "code",
      "source": [
        "## Checking if a specific PMID is working\n",
        "# from metapub import PubMedFetcher\n",
        "# fetch = PubMedFetcher()\n",
        "# article = fetch.article_by_pmid(34967654)\n",
        "# print(article)"
      ],
      "metadata": {
        "id": "Kh-4co_B-m3l"
      },
      "execution_count": null,
      "outputs": []
    },
    {
      "cell_type": "code",
      "source": [
        "# Check list sizes:\n",
        "print(f\"{len(title)}\")\n",
        "print(f\"{len(authors)}\")\n",
        "print(f\"{len(journal)}\")\n",
        "print(f\"{len(year)}\")\n",
        "print(f\"{len(volume)}\")\n",
        "print(f\"{len(issue)}\")\n",
        "print(f\"{len(abstract)}\")\n",
        "print(f\"{len(doi)}\")\n",
        "print(f\"{len(url)}\")"
      ],
      "metadata": {
        "id": "qgxTyDnK0ark",
        "colab": {
          "base_uri": "https://localhost:8080/"
        },
        "outputId": "bf96dd16-20da-4bdb-d33d-c233b072341f"
      },
      "execution_count": null,
      "outputs": [
        {
          "output_type": "stream",
          "name": "stdout",
          "text": [
            "436\n",
            "436\n",
            "436\n",
            "436\n",
            "436\n",
            "436\n",
            "436\n",
            "436\n",
            "436\n"
          ]
        }
      ]
    },
    {
      "cell_type": "code",
      "source": [
        "#############################\n",
        "#@title Create DataFrame from multiple lists\n",
        "#############################\n",
        "\n",
        "# Create a dictionary from multiple lists\n",
        "data = {'title': title,\n",
        "        'authors': authors,\n",
        "        'journal': journal,\n",
        "        'year': year,\n",
        "        'volume': volume,\n",
        "        'issue': issue,\n",
        "        'abstract': abstract,\n",
        "        'doi': doi,\n",
        "        'url': url\n",
        "        }\n",
        "\n",
        "# Create the dataframe from dictionary\n",
        "df = pd.DataFrame.from_dict(data)\n",
        "df.head()"
      ],
      "metadata": {
        "id": "Wg2p4LLbvupd",
        "colab": {
          "base_uri": "https://localhost:8080/",
          "height": 206
        },
        "outputId": "60afa1cc-5ed2-4895-f50d-dc7534a7cd8f"
      },
      "execution_count": null,
      "outputs": [
        {
          "output_type": "execute_result",
          "data": {
            "text/html": [
              "\n",
              "  <div id=\"df-895bad45-a84f-411a-b824-f177b0810cb7\">\n",
              "    <div class=\"colab-df-container\">\n",
              "      <div>\n",
              "<style scoped>\n",
              "    .dataframe tbody tr th:only-of-type {\n",
              "        vertical-align: middle;\n",
              "    }\n",
              "\n",
              "    .dataframe tbody tr th {\n",
              "        vertical-align: top;\n",
              "    }\n",
              "\n",
              "    .dataframe thead th {\n",
              "        text-align: right;\n",
              "    }\n",
              "</style>\n",
              "<table border=\"1\" class=\"dataframe\">\n",
              "  <thead>\n",
              "    <tr style=\"text-align: right;\">\n",
              "      <th></th>\n",
              "      <th>title</th>\n",
              "      <th>authors</th>\n",
              "      <th>journal</th>\n",
              "      <th>year</th>\n",
              "      <th>volume</th>\n",
              "      <th>issue</th>\n",
              "      <th>abstract</th>\n",
              "      <th>doi</th>\n",
              "      <th>url</th>\n",
              "    </tr>\n",
              "  </thead>\n",
              "  <tbody>\n",
              "    <tr>\n",
              "      <th>0</th>\n",
              "      <td>[Preliminary study on cerebrospinal fluid prot...</td>\n",
              "      <td>[Li HZ, Zeng NX, Liu KG, Luo WL, Lu WJ, Wu LL]</td>\n",
              "      <td>Zhongguo Zhong Yao Za Zhi</td>\n",
              "      <td>2021</td>\n",
              "      <td>46</td>\n",
              "      <td>23</td>\n",
              "      <td>This study aims to elucidate the underlying me...</td>\n",
              "      <td>10.19540/j.cnki.cjcmm.20210918.401</td>\n",
              "      <td>None</td>\n",
              "    </tr>\n",
              "    <tr>\n",
              "      <th>1</th>\n",
              "      <td>Growth differentiation factor 11 accelerates l...</td>\n",
              "      <td>[Sun J, Li Y, Yang X, Dong W, Yang J, Hu Q, Zh...</td>\n",
              "      <td>Aging Cell</td>\n",
              "      <td>2021</td>\n",
              "      <td>None</td>\n",
              "      <td>None</td>\n",
              "      <td>The \"rejuvenating\" effect of growth differenti...</td>\n",
              "      <td>10.1111/acel.13532</td>\n",
              "      <td>None</td>\n",
              "    </tr>\n",
              "    <tr>\n",
              "      <th>2</th>\n",
              "      <td>Detection of GDF11 by using a Ti&lt;sub&gt;3&lt;/sub&gt;C&lt;...</td>\n",
              "      <td>[Liu C, Wang R, Shao Y, Chen C, Wu P, Wei Y, G...</td>\n",
              "      <td>Opt Express</td>\n",
              "      <td>2021</td>\n",
              "      <td>29</td>\n",
              "      <td>22</td>\n",
              "      <td>In the research of resistant aging, the concen...</td>\n",
              "      <td>10.1364/OE.440585</td>\n",
              "      <td>None</td>\n",
              "    </tr>\n",
              "    <tr>\n",
              "      <th>3</th>\n",
              "      <td>Gonadal rejuvenation of mice by GDF11.</td>\n",
              "      <td>[Zhou Y, Ni S, Li C, Song L, Zhang S]</td>\n",
              "      <td>J Gerontol A Biol Sci Med Sci</td>\n",
              "      <td>2021</td>\n",
              "      <td>None</td>\n",
              "      <td>None</td>\n",
              "      <td>Growth differentiation factor 11 (GDF11), also...</td>\n",
              "      <td>10.1093/gerona/glab343</td>\n",
              "      <td>None</td>\n",
              "    </tr>\n",
              "    <tr>\n",
              "      <th>4</th>\n",
              "      <td>Stacked conservation practices reduce nitrogen...</td>\n",
              "      <td>[Law JY, Long LA, Kaleita A, Helmers M, Brende...</td>\n",
              "      <td>J Environ Manage</td>\n",
              "      <td>2022</td>\n",
              "      <td>302</td>\n",
              "      <td>Pt A</td>\n",
              "      <td>Combinations of best management practices (BMP...</td>\n",
              "      <td>10.1016/j.jenvman.2021.114053</td>\n",
              "      <td>None</td>\n",
              "    </tr>\n",
              "  </tbody>\n",
              "</table>\n",
              "</div>\n",
              "      <button class=\"colab-df-convert\" onclick=\"convertToInteractive('df-895bad45-a84f-411a-b824-f177b0810cb7')\"\n",
              "              title=\"Convert this dataframe to an interactive table.\"\n",
              "              style=\"display:none;\">\n",
              "        \n",
              "  <svg xmlns=\"http://www.w3.org/2000/svg\" height=\"24px\"viewBox=\"0 0 24 24\"\n",
              "       width=\"24px\">\n",
              "    <path d=\"M0 0h24v24H0V0z\" fill=\"none\"/>\n",
              "    <path d=\"M18.56 5.44l.94 2.06.94-2.06 2.06-.94-2.06-.94-.94-2.06-.94 2.06-2.06.94zm-11 1L8.5 8.5l.94-2.06 2.06-.94-2.06-.94L8.5 2.5l-.94 2.06-2.06.94zm10 10l.94 2.06.94-2.06 2.06-.94-2.06-.94-.94-2.06-.94 2.06-2.06.94z\"/><path d=\"M17.41 7.96l-1.37-1.37c-.4-.4-.92-.59-1.43-.59-.52 0-1.04.2-1.43.59L10.3 9.45l-7.72 7.72c-.78.78-.78 2.05 0 2.83L4 21.41c.39.39.9.59 1.41.59.51 0 1.02-.2 1.41-.59l7.78-7.78 2.81-2.81c.8-.78.8-2.07 0-2.86zM5.41 20L4 18.59l7.72-7.72 1.47 1.35L5.41 20z\"/>\n",
              "  </svg>\n",
              "      </button>\n",
              "      \n",
              "  <style>\n",
              "    .colab-df-container {\n",
              "      display:flex;\n",
              "      flex-wrap:wrap;\n",
              "      gap: 12px;\n",
              "    }\n",
              "\n",
              "    .colab-df-convert {\n",
              "      background-color: #E8F0FE;\n",
              "      border: none;\n",
              "      border-radius: 50%;\n",
              "      cursor: pointer;\n",
              "      display: none;\n",
              "      fill: #1967D2;\n",
              "      height: 32px;\n",
              "      padding: 0 0 0 0;\n",
              "      width: 32px;\n",
              "    }\n",
              "\n",
              "    .colab-df-convert:hover {\n",
              "      background-color: #E2EBFA;\n",
              "      box-shadow: 0px 1px 2px rgba(60, 64, 67, 0.3), 0px 1px 3px 1px rgba(60, 64, 67, 0.15);\n",
              "      fill: #174EA6;\n",
              "    }\n",
              "\n",
              "    [theme=dark] .colab-df-convert {\n",
              "      background-color: #3B4455;\n",
              "      fill: #D2E3FC;\n",
              "    }\n",
              "\n",
              "    [theme=dark] .colab-df-convert:hover {\n",
              "      background-color: #434B5C;\n",
              "      box-shadow: 0px 1px 3px 1px rgba(0, 0, 0, 0.15);\n",
              "      filter: drop-shadow(0px 1px 2px rgba(0, 0, 0, 0.3));\n",
              "      fill: #FFFFFF;\n",
              "    }\n",
              "  </style>\n",
              "\n",
              "      <script>\n",
              "        const buttonEl =\n",
              "          document.querySelector('#df-895bad45-a84f-411a-b824-f177b0810cb7 button.colab-df-convert');\n",
              "        buttonEl.style.display =\n",
              "          google.colab.kernel.accessAllowed ? 'block' : 'none';\n",
              "\n",
              "        async function convertToInteractive(key) {\n",
              "          const element = document.querySelector('#df-895bad45-a84f-411a-b824-f177b0810cb7');\n",
              "          const dataTable =\n",
              "            await google.colab.kernel.invokeFunction('convertToInteractive',\n",
              "                                                     [key], {});\n",
              "          if (!dataTable) return;\n",
              "\n",
              "          const docLinkHtml = 'Like what you see? Visit the ' +\n",
              "            '<a target=\"_blank\" href=https://colab.research.google.com/notebooks/data_table.ipynb>data table notebook</a>'\n",
              "            + ' to learn more about interactive tables.';\n",
              "          element.innerHTML = '';\n",
              "          dataTable['output_type'] = 'display_data';\n",
              "          await google.colab.output.renderOutput(dataTable, element);\n",
              "          const docLink = document.createElement('div');\n",
              "          docLink.innerHTML = docLinkHtml;\n",
              "          element.appendChild(docLink);\n",
              "        }\n",
              "      </script>\n",
              "    </div>\n",
              "  </div>\n",
              "  "
            ],
            "text/plain": [
              "                                               title  ...   url\n",
              "0  [Preliminary study on cerebrospinal fluid prot...  ...  None\n",
              "1  Growth differentiation factor 11 accelerates l...  ...  None\n",
              "2  Detection of GDF11 by using a Ti<sub>3</sub>C<...  ...  None\n",
              "3             Gonadal rejuvenation of mice by GDF11.  ...  None\n",
              "4  Stacked conservation practices reduce nitrogen...  ...  None\n",
              "\n",
              "[5 rows x 9 columns]"
            ]
          },
          "metadata": {},
          "execution_count": 10
        }
      ]
    },
    {
      "cell_type": "code",
      "source": [
        "print(df.shape)"
      ],
      "metadata": {
        "colab": {
          "base_uri": "https://localhost:8080/"
        },
        "id": "d_Ri8lWtyp1M",
        "outputId": "71e343d2-a511-4e2a-e1c2-bd9237a8672b"
      },
      "execution_count": null,
      "outputs": [
        {
          "output_type": "stream",
          "name": "stdout",
          "text": [
            "(436, 9)\n"
          ]
        }
      ]
    },
    {
      "cell_type": "code",
      "source": [
        "# Save to excel\n",
        "df.to_excel(\"2022-01-05_gdf11.xlsx\")"
      ],
      "metadata": {
        "id": "hmJ5YM6TygIh"
      },
      "execution_count": null,
      "outputs": []
    },
    {
      "cell_type": "code",
      "source": [
        "# Download file\n",
        "from google.colab import files\n",
        "files.download(\"2022-01-05_gdf11.xlsx\")"
      ],
      "metadata": {
        "colab": {
          "base_uri": "https://localhost:8080/",
          "height": 16
        },
        "id": "SOjsbjMPPzIC",
        "outputId": "0845761f-7409-4f46-8193-59d1c4d2570d"
      },
      "execution_count": null,
      "outputs": [
        {
          "output_type": "display_data",
          "data": {
            "application/javascript": [
              "\n",
              "    async function download(id, filename, size) {\n",
              "      if (!google.colab.kernel.accessAllowed) {\n",
              "        return;\n",
              "      }\n",
              "      const div = document.createElement('div');\n",
              "      const label = document.createElement('label');\n",
              "      label.textContent = `Downloading \"${filename}\": `;\n",
              "      div.appendChild(label);\n",
              "      const progress = document.createElement('progress');\n",
              "      progress.max = size;\n",
              "      div.appendChild(progress);\n",
              "      document.body.appendChild(div);\n",
              "\n",
              "      const buffers = [];\n",
              "      let downloaded = 0;\n",
              "\n",
              "      const channel = await google.colab.kernel.comms.open(id);\n",
              "      // Send a message to notify the kernel that we're ready.\n",
              "      channel.send({})\n",
              "\n",
              "      for await (const message of channel.messages) {\n",
              "        // Send a message to notify the kernel that we're ready.\n",
              "        channel.send({})\n",
              "        if (message.buffers) {\n",
              "          for (const buffer of message.buffers) {\n",
              "            buffers.push(buffer);\n",
              "            downloaded += buffer.byteLength;\n",
              "            progress.value = downloaded;\n",
              "          }\n",
              "        }\n",
              "      }\n",
              "      const blob = new Blob(buffers, {type: 'application/binary'});\n",
              "      const a = document.createElement('a');\n",
              "      a.href = window.URL.createObjectURL(blob);\n",
              "      a.download = filename;\n",
              "      div.appendChild(a);\n",
              "      a.click();\n",
              "      div.remove();\n",
              "    }\n",
              "  "
            ],
            "text/plain": [
              "<IPython.core.display.Javascript object>"
            ]
          },
          "metadata": {}
        },
        {
          "output_type": "display_data",
          "data": {
            "application/javascript": [
              "download(\"download_11ff7c9e-b5c5-48aa-a424-e2510fe2ff9d\", \"2022-01-05_gdf11.xlsx\", 246945)"
            ],
            "text/plain": [
              "<IPython.core.display.Javascript object>"
            ]
          },
          "metadata": {}
        }
      ]
    }
  ]
}